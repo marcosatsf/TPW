{
 "cells": [
  {
   "cell_type": "markdown",
   "id": "21566461-a179-4df7-8621-803834840d6f",
   "metadata": {
    "execution": {
     "iopub.execute_input": "2025-08-14T01:50:29.265571Z",
     "iopub.status.busy": "2025-08-14T01:50:29.262146Z",
     "iopub.status.idle": "2025-08-14T01:50:29.284097Z",
     "shell.execute_reply": "2025-08-14T01:50:29.280097Z",
     "shell.execute_reply.started": "2025-08-14T01:50:29.265255Z"
    }
   },
   "source": [
    "# Transformation metrics\n",
    "This script is responsible create all metrics necessary and upload them to PostgreSQL"
   ]
  },
  {
   "cell_type": "code",
   "execution_count": 1,
   "id": "df6a8586-716f-479a-9ed2-505e0361fc87",
   "metadata": {
    "execution": {
     "iopub.execute_input": "2025-08-13T21:17:48.314014Z",
     "iopub.status.busy": "2025-08-13T21:17:48.313555Z",
     "iopub.status.idle": "2025-08-13T21:17:48.337428Z",
     "shell.execute_reply": "2025-08-13T21:17:48.335521Z",
     "shell.execute_reply.started": "2025-08-13T21:17:48.313956Z"
    }
   },
   "outputs": [
    {
     "data": {
      "text/html": [
       "<style>pre { white-space: pre !important; }</style>"
      ],
      "text/plain": [
       "<IPython.core.display.HTML object>"
      ]
     },
     "metadata": {},
     "output_type": "display_data"
    }
   ],
   "source": [
    "from IPython.core.display import HTML\n",
    "display(HTML(\"<style>pre { white-space: pre !important; }</style>\"))"
   ]
  },
  {
   "cell_type": "code",
   "execution_count": 11,
   "id": "0bf447ba-f45d-4867-a2c2-6760b2cdbaf5",
   "metadata": {
    "execution": {
     "iopub.execute_input": "2025-08-13T21:30:59.208772Z",
     "iopub.status.busy": "2025-08-13T21:30:59.208280Z",
     "iopub.status.idle": "2025-08-13T21:31:01.521138Z",
     "shell.execute_reply": "2025-08-13T21:31:01.519063Z",
     "shell.execute_reply.started": "2025-08-13T21:30:59.208733Z"
    }
   },
   "outputs": [
    {
     "name": "stderr",
     "output_type": "stream",
     "text": [
      "Importing plotly failed. Interactive plots will not work.\n"
     ]
    }
   ],
   "source": [
    "from pyspark.sql import SparkSession\n",
    "from pyspark.conf import SparkConf\n",
    "from pyspark.sql.functions import explode, from_unixtime, col, to_date, sum, avg\n",
    "from pyspark.sql.types import DateType, TimestampType, StructType\n",
    "from prophet import Prophet\n",
    "\n",
    "import requests\n",
    "import json\n",
    "from collections import defaultdict\n",
    "import locale\n",
    "import os\n",
    "\n",
    "DB_URL = \"jdbc:postgresql://postgres:5432/themeparkwizard\"\n",
    "PROPERTIES_CUSTOM = {\"user\": os.environ['POSTGRES_USER'],\"password\": os.environ['POSTGRES_PASSWORD'], \"driver\": \"org.postgresql.Driver\"}\n",
    "\n",
    "spark = SparkSession.builder \\\n",
    "    .appName(\"MetricBuilder\") \\\n",
    "    .config(\"spark.jars\", \"jars/postgresql-42.7.7.jar\") \\\n",
    "    .config(\"spark.sql.sources.partitionOverwriteMode\", \"dynamic\") \\\n",
    "    .getOrCreate()"
   ]
  },
  {
   "cell_type": "code",
   "execution_count": null,
   "id": "15cdad2a-d5c9-4265-a2de-c3e1ab1230bb",
   "metadata": {},
   "outputs": [],
   "source": [
    "df_dl = spark.read.orc('datalake_layer/epcot')\n",
    "\n",
    "# df_dl.printSchema()"
   ]
  },
  {
   "cell_type": "code",
   "execution_count": 5,
   "id": "8d86a1bb-0939-429c-a587-ae793016e4a5",
   "metadata": {
    "execution": {
     "iopub.execute_input": "2025-08-12T01:34:54.940612Z",
     "iopub.status.busy": "2025-08-12T01:34:54.938940Z",
     "iopub.status.idle": "2025-08-12T01:35:51.636031Z",
     "shell.execute_reply": "2025-08-12T01:35:51.630480Z",
     "shell.execute_reply.started": "2025-08-12T01:34:54.940516Z"
    }
   },
   "outputs": [
    {
     "name": "stdout",
     "output_type": "stream",
     "text": [
      "root\n",
      " |-- extracted_date: date (nullable = true)\n",
      " |-- attraction_name: string (nullable = true)\n",
      " |-- avg_standby_waittime: double (nullable = true)\n",
      "\n"
     ]
    }
   ],
   "source": [
    "df_dl.createOrReplaceTempView('datalake_table')\n",
    "test_df = spark.sql(\"\"\"\n",
    "SELECT \n",
    "    extracted_date,\n",
    "    name AS attraction_name, \n",
    "    AVG(queue.STANDBY.waitTime) AS avg_standby_waittime\n",
    "FROM datalake_table\n",
    "WHERE entity_type = 'ATTRACTION' AND queue.STANDBY.waitTime is not null\n",
    "GROUP BY 1, 2\n",
    "ORDER BY 1\n",
    "\"\"\")\n",
    "test_df.printSchema()\n",
    "test_df.write.jdbc(url=DB_URL, table=\"themeparkwizard.agg_avg_time_epcot\", mode='overwrite', properties=PROPERTIES_CUSTOM)"
   ]
  },
  {
   "cell_type": "code",
   "execution_count": 9,
   "id": "c9adaff2-289b-4c74-9a7e-2136fb8b3091",
   "metadata": {
    "execution": {
     "iopub.execute_input": "2025-08-13T21:29:19.171198Z",
     "iopub.status.busy": "2025-08-13T21:29:19.170361Z",
     "iopub.status.idle": "2025-08-13T21:30:35.843936Z",
     "shell.execute_reply": "2025-08-13T21:30:35.840379Z",
     "shell.execute_reply.started": "2025-08-13T21:29:19.171131Z"
    }
   },
   "outputs": [
    {
     "name": "stdout",
     "output_type": "stream",
     "text": [
      "+-------------------+--------+\n",
      "|                 ds|waitTime|\n",
      "+-------------------+--------+\n",
      "|2025-07-25 12:35:04|      30|\n",
      "|2025-07-25 12:40:04|      30|\n",
      "|2025-07-25 12:45:06|      30|\n",
      "|2025-07-25 12:50:05|      45|\n",
      "|2025-07-25 12:55:08|      45|\n",
      "|2025-07-25 13:00:05|      45|\n",
      "|2025-07-25 13:05:05|      60|\n",
      "|2025-07-25 13:10:05|      70|\n",
      "|2025-07-25 13:15:05|      80|\n",
      "|2025-07-25 13:20:04|      80|\n",
      "|2025-07-25 13:25:05|      80|\n",
      "|2025-07-25 13:30:04|      80|\n",
      "|2025-07-25 13:35:05|      80|\n",
      "|2025-07-25 13:40:05|      80|\n",
      "|2025-07-25 13:45:04|      70|\n",
      "|2025-07-25 13:50:04|      70|\n",
      "|2025-07-25 13:55:04|      70|\n",
      "|2025-07-25 14:00:06|      70|\n",
      "|2025-07-25 14:05:04|      70|\n",
      "|2025-07-25 14:10:05|      70|\n",
      "+-------------------+--------+\n",
      "only showing top 20 rows\n",
      "\n"
     ]
    }
   ],
   "source": [
    "df_dl_to_model = df_dl.where(\"name == 'Guardians of the Galaxy: Cosmic Rewind' AND queue.STANDBY.waitTime is not null\")\\\n",
    "                        .select('extracted_at_time', 'queue.STANDBY.waitTime')\\\n",
    "                        .orderBy('extracted_at_time')\\\n",
    "                        .withColumnRenamed('extracted_at_time', 'ds')\\\n",
    "                        .withColumnRenamed('queue.STANDBY.waitTime', 'y')\n",
    "df_dl_to_model.show()"
   ]
  },
  {
   "cell_type": "code",
   "execution_count": 12,
   "id": "8637cabc-4732-4dbd-be62-4042fc6aacb6",
   "metadata": {
    "execution": {
     "iopub.execute_input": "2025-08-13T21:31:09.192866Z",
     "iopub.status.busy": "2025-08-13T21:31:09.192182Z",
     "iopub.status.idle": "2025-08-13T21:31:09.828550Z",
     "shell.execute_reply": "2025-08-13T21:31:09.826475Z",
     "shell.execute_reply.started": "2025-08-13T21:31:09.192839Z"
    }
   },
   "outputs": [
    {
     "ename": "PySparkValueError",
     "evalue": "[CANNOT_CONVERT_COLUMN_INTO_BOOL] Cannot convert column into bool: please use '&' for 'and', '|' for 'or', '~' for 'not' when building DataFrame boolean expressions.",
     "output_type": "error",
     "traceback": [
      "\u001b[0;31m---------------------------------------------------------------------------\u001b[0m",
      "\u001b[0;31mPySparkValueError\u001b[0m                         Traceback (most recent call last)",
      "Cell \u001b[0;32mIn[12], line 2\u001b[0m\n\u001b[1;32m      1\u001b[0m model \u001b[38;5;241m=\u001b[39m Prophet()\n\u001b[0;32m----> 2\u001b[0m \u001b[43mmodel\u001b[49m\u001b[38;5;241;43m.\u001b[39;49m\u001b[43mfit\u001b[49m\u001b[43m(\u001b[49m\u001b[43mdf_dl_to_model\u001b[49m\u001b[43m)\u001b[49m\n",
      "File \u001b[0;32m/opt/conda/lib/python3.11/site-packages/prophet/forecaster.py:1220\u001b[0m, in \u001b[0;36mProphet.fit\u001b[0;34m(self, df, **kwargs)\u001b[0m\n\u001b[1;32m   1216\u001b[0m \u001b[38;5;28;01mif\u001b[39;00m \u001b[38;5;28mself\u001b[39m\u001b[38;5;241m.\u001b[39mhistory \u001b[38;5;129;01mis\u001b[39;00m \u001b[38;5;129;01mnot\u001b[39;00m \u001b[38;5;28;01mNone\u001b[39;00m:\n\u001b[1;32m   1217\u001b[0m     \u001b[38;5;28;01mraise\u001b[39;00m \u001b[38;5;167;01mException\u001b[39;00m(\u001b[38;5;124m'\u001b[39m\u001b[38;5;124mProphet object can only be fit once. \u001b[39m\u001b[38;5;124m'\u001b[39m\n\u001b[1;32m   1218\u001b[0m                     \u001b[38;5;124m'\u001b[39m\u001b[38;5;124mInstantiate a new object.\u001b[39m\u001b[38;5;124m'\u001b[39m)\n\u001b[0;32m-> 1220\u001b[0m model_inputs \u001b[38;5;241m=\u001b[39m \u001b[38;5;28;43mself\u001b[39;49m\u001b[38;5;241;43m.\u001b[39;49m\u001b[43mpreprocess\u001b[49m\u001b[43m(\u001b[49m\u001b[43mdf\u001b[49m\u001b[43m,\u001b[49m\u001b[43m \u001b[49m\u001b[38;5;241;43m*\u001b[39;49m\u001b[38;5;241;43m*\u001b[39;49m\u001b[43mkwargs\u001b[49m\u001b[43m)\u001b[49m\n\u001b[1;32m   1221\u001b[0m initial_params \u001b[38;5;241m=\u001b[39m \u001b[38;5;28mself\u001b[39m\u001b[38;5;241m.\u001b[39mcalculate_initial_params(model_inputs\u001b[38;5;241m.\u001b[39mK)\n\u001b[1;32m   1223\u001b[0m dat \u001b[38;5;241m=\u001b[39m dataclasses\u001b[38;5;241m.\u001b[39masdict(model_inputs)\n",
      "File \u001b[0;32m/opt/conda/lib/python3.11/site-packages/prophet/forecaster.py:1128\u001b[0m, in \u001b[0;36mProphet.preprocess\u001b[0;34m(self, df, **kwargs)\u001b[0m\n\u001b[1;32m   1121\u001b[0m \u001b[38;5;28;01mdef\u001b[39;00m \u001b[38;5;21mpreprocess\u001b[39m(\u001b[38;5;28mself\u001b[39m, df: pd\u001b[38;5;241m.\u001b[39mDataFrame, \u001b[38;5;241m*\u001b[39m\u001b[38;5;241m*\u001b[39mkwargs) \u001b[38;5;241m-\u001b[39m\u001b[38;5;241m>\u001b[39m ModelInputData:\n\u001b[1;32m   1122\u001b[0m \u001b[38;5;250m    \u001b[39m\u001b[38;5;124;03m\"\"\"\u001b[39;00m\n\u001b[1;32m   1123\u001b[0m \u001b[38;5;124;03m    Reformats historical data, standardizes y and extra regressors, sets seasonalities and changepoints.\u001b[39;00m\n\u001b[1;32m   1124\u001b[0m \n\u001b[1;32m   1125\u001b[0m \u001b[38;5;124;03m    Saves the preprocessed data to the instantiated object, and also returns the relevant components\u001b[39;00m\n\u001b[1;32m   1126\u001b[0m \u001b[38;5;124;03m    as a ModelInputData object.\u001b[39;00m\n\u001b[1;32m   1127\u001b[0m \u001b[38;5;124;03m    \"\"\"\u001b[39;00m\n\u001b[0;32m-> 1128\u001b[0m     \u001b[38;5;28;01mif\u001b[39;00m (\u001b[38;5;124;43m'\u001b[39;49m\u001b[38;5;124;43mds\u001b[39;49m\u001b[38;5;124;43m'\u001b[39;49m\u001b[43m \u001b[49m\u001b[38;5;129;43;01mnot\u001b[39;49;00m\u001b[43m \u001b[49m\u001b[38;5;129;43;01min\u001b[39;49;00m\u001b[43m \u001b[49m\u001b[43mdf\u001b[49m) \u001b[38;5;129;01mor\u001b[39;00m (\u001b[38;5;124m'\u001b[39m\u001b[38;5;124my\u001b[39m\u001b[38;5;124m'\u001b[39m \u001b[38;5;129;01mnot\u001b[39;00m \u001b[38;5;129;01min\u001b[39;00m df):\n\u001b[1;32m   1129\u001b[0m         \u001b[38;5;28;01mraise\u001b[39;00m \u001b[38;5;167;01mValueError\u001b[39;00m(\n\u001b[1;32m   1130\u001b[0m             \u001b[38;5;124m'\u001b[39m\u001b[38;5;124mDataframe must have columns \u001b[39m\u001b[38;5;124m\"\u001b[39m\u001b[38;5;124mds\u001b[39m\u001b[38;5;124m\"\u001b[39m\u001b[38;5;124m and \u001b[39m\u001b[38;5;124m\"\u001b[39m\u001b[38;5;124my\u001b[39m\u001b[38;5;124m\"\u001b[39m\u001b[38;5;124m with the dates and \u001b[39m\u001b[38;5;124m'\u001b[39m\n\u001b[1;32m   1131\u001b[0m             \u001b[38;5;124m'\u001b[39m\u001b[38;5;124mvalues respectively.\u001b[39m\u001b[38;5;124m'\u001b[39m\n\u001b[1;32m   1132\u001b[0m         )\n\u001b[1;32m   1133\u001b[0m     history \u001b[38;5;241m=\u001b[39m df[df[\u001b[38;5;124m'\u001b[39m\u001b[38;5;124my\u001b[39m\u001b[38;5;124m'\u001b[39m]\u001b[38;5;241m.\u001b[39mnotnull()]\u001b[38;5;241m.\u001b[39mcopy()\n",
      "File \u001b[0;32m/usr/local/spark/python/pyspark/sql/column.py:1400\u001b[0m, in \u001b[0;36mColumn.__nonzero__\u001b[0;34m(self)\u001b[0m\n\u001b[1;32m   1399\u001b[0m \u001b[38;5;28;01mdef\u001b[39;00m \u001b[38;5;21m__nonzero__\u001b[39m(\u001b[38;5;28mself\u001b[39m) \u001b[38;5;241m-\u001b[39m\u001b[38;5;241m>\u001b[39m \u001b[38;5;28;01mNone\u001b[39;00m:\n\u001b[0;32m-> 1400\u001b[0m     \u001b[38;5;28;01mraise\u001b[39;00m PySparkValueError(\n\u001b[1;32m   1401\u001b[0m         error_class\u001b[38;5;241m=\u001b[39m\u001b[38;5;124m\"\u001b[39m\u001b[38;5;124mCANNOT_CONVERT_COLUMN_INTO_BOOL\u001b[39m\u001b[38;5;124m\"\u001b[39m,\n\u001b[1;32m   1402\u001b[0m         message_parameters\u001b[38;5;241m=\u001b[39m{},\n\u001b[1;32m   1403\u001b[0m     )\n",
      "\u001b[0;31mPySparkValueError\u001b[0m: [CANNOT_CONVERT_COLUMN_INTO_BOOL] Cannot convert column into bool: please use '&' for 'and', '|' for 'or', '~' for 'not' when building DataFrame boolean expressions."
     ]
    }
   ],
   "source": [
    "model = Prophet()\n",
    "model.fit(df_dl_to_model)"
   ]
  },
  {
   "cell_type": "code",
   "execution_count": null,
   "id": "0bdeaf5a-3c7e-43bc-968d-368a162d5f03",
   "metadata": {},
   "outputs": [],
   "source": [
    "model.predict()"
   ]
  },
  {
   "cell_type": "code",
   "execution_count": 44,
   "id": "9ae35efe-d369-4439-a179-b224245d3a73",
   "metadata": {
    "execution": {
     "iopub.execute_input": "2025-08-12T04:08:16.240412Z",
     "iopub.status.busy": "2025-08-12T04:08:16.239139Z",
     "iopub.status.idle": "2025-08-12T04:08:16.252977Z",
     "shell.execute_reply": "2025-08-12T04:08:16.250506Z",
     "shell.execute_reply.started": "2025-08-12T04:08:16.240364Z"
    }
   },
   "outputs": [],
   "source": [
    "INTERVAL_OF_MINUTES = 60 * 15"
   ]
  },
  {
   "cell_type": "code",
   "execution_count": 48,
   "id": "61eac097-57c7-4704-81ca-63f99927b253",
   "metadata": {
    "execution": {
     "iopub.execute_input": "2025-08-13T03:17:18.441885Z",
     "iopub.status.busy": "2025-08-13T03:17:18.441007Z",
     "iopub.status.idle": "2025-08-13T03:17:37.230231Z",
     "shell.execute_reply": "2025-08-13T03:17:37.227439Z",
     "shell.execute_reply.started": "2025-08-13T03:17:18.441844Z"
    }
   },
   "outputs": [
    {
     "name": "stdout",
     "output_type": "stream",
     "text": [
      "+--------------+---------------+---------------+----------+-------------+----------------+\n",
      "|extracted_date|time_of_the_day|attraction_name|party_size|avg_wait_time|stddev_wait_time|\n",
      "+--------------+---------------+---------------+----------+-------------+----------------+\n",
      "+--------------+---------------+---------------+----------+-------------+----------------+\n",
      "\n"
     ]
    }
   ],
   "source": [
    "rest_df = spark.sql(f\"\"\"\n",
    "WITH wait_by_party AS (\n",
    "    SELECT\n",
    "        extracted_date,\n",
    "        date_format(cast(floor(try_divide(extracted_at, {INTERVAL_OF_MINUTES}))*{INTERVAL_OF_MINUTES} as timestamp), 'HH:mm') as time_of_the_day, --extracted_date,\n",
    "        name AS attraction_name,\n",
    "        CASE \n",
    "        WHEN da_exp.partySize <= 2 THEN\n",
    "            'Small group (<= 2)'\n",
    "        WHEN da_exp.partySize > 2 AND da_exp.partySize <= 4 THEN\n",
    "            'Medium group (3 and 4)'\n",
    "        WHEN da_exp.partySize > 4 AND da_exp.partySize <= 6 THEN\n",
    "            'Medium group (5 ant 6)'\n",
    "        WHEN da_exp.partySize > 6 THEN\n",
    "            'Big group (> 6)'\n",
    "        END as party_size,\n",
    "        COALESCE(AVG(da_exp.waitTime), 0) as avg_wait_time,\n",
    "        STDDEV(da_exp.waitTime) AS stddev_wait_time\n",
    "    FROM datalake_table\n",
    "    LATERAL VIEW EXPLODE(diningAvailability) as da_exp\n",
    "    WHERE entity_type = 'SHOW' --AND name = 'Garden Grill Restaurant'\n",
    "    GROUP BY 1,2,3,4\n",
    ")\n",
    "SELECT \n",
    "    *\n",
    "FROM wait_by_party\n",
    "ORDER BY 1, 2, 3, 4\n",
    "\"\"\").show(50, truncate=False)"
   ]
  },
  {
   "cell_type": "code",
   "execution_count": 46,
   "id": "15293ff6-31b4-4250-9bcc-0c1843c526be",
   "metadata": {
    "execution": {
     "iopub.execute_input": "2025-08-12T04:08:16.966919Z",
     "iopub.status.busy": "2025-08-12T04:08:16.965480Z",
     "iopub.status.idle": "2025-08-12T04:08:52.421608Z",
     "shell.execute_reply": "2025-08-12T04:08:52.415459Z",
     "shell.execute_reply.started": "2025-08-12T04:08:16.966861Z"
    }
   },
   "outputs": [
    {
     "name": "stdout",
     "output_type": "stream",
     "text": [
      "root\n",
      " |-- extracted_date: date (nullable = true)\n",
      " |-- time_of_the_day: string (nullable = true)\n",
      " |-- attraction_name: string (nullable = true)\n",
      " |-- party_size: string (nullable = true)\n",
      " |-- avg_wait_time: double (nullable = false)\n",
      " |-- stddev_wait_time: double (nullable = true)\n",
      "\n"
     ]
    }
   ],
   "source": [
    "rest_df.printSchema()\n",
    "rest_df.write.jdbc(url=DB_URL, table=\"themeparkwizard.restaurant_wait_time_epcot\", mode='overwrite', properties=PROPERTIES_CUSTOM)"
   ]
  },
  {
   "cell_type": "code",
   "execution_count": null,
   "id": "7a4fdfeb-9dc6-4c86-8bfc-9705632c1b71",
   "metadata": {},
   "outputs": [],
   "source": []
  }
 ],
 "metadata": {
  "kernelspec": {
   "display_name": "Python 3 (ipykernel)",
   "language": "python",
   "name": "python3"
  },
  "language_info": {
   "codemirror_mode": {
    "name": "ipython",
    "version": 3
   },
   "file_extension": ".py",
   "mimetype": "text/x-python",
   "name": "python",
   "nbconvert_exporter": "python",
   "pygments_lexer": "ipython3",
   "version": "3.11.6"
  }
 },
 "nbformat": 4,
 "nbformat_minor": 5
}
