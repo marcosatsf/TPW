{
 "cells": [
  {
   "cell_type": "markdown",
   "id": "21566461-a179-4df7-8621-803834840d6f",
   "metadata": {
    "execution": {
     "iopub.execute_input": "2025-08-14T01:50:29.265571Z",
     "iopub.status.busy": "2025-08-14T01:50:29.262146Z",
     "iopub.status.idle": "2025-08-14T01:50:29.284097Z",
     "shell.execute_reply": "2025-08-14T01:50:29.280097Z",
     "shell.execute_reply.started": "2025-08-14T01:50:29.265255Z"
    }
   },
   "source": [
    "# Predict metrics\n",
    "This script is responsible create predict metrics"
   ]
  },
  {
   "cell_type": "code",
   "execution_count": 1,
   "id": "8865e3e4-ebdf-4f82-98ab-64dcf73ba133",
   "metadata": {
    "execution": {
     "iopub.execute_input": "2025-08-22T20:27:10.066777Z",
     "iopub.status.busy": "2025-08-22T20:27:10.065556Z",
     "iopub.status.idle": "2025-08-22T20:27:10.145916Z",
     "shell.execute_reply": "2025-08-22T20:27:10.131558Z",
     "shell.execute_reply.started": "2025-08-22T20:27:10.066668Z"
    }
   },
   "outputs": [],
   "source": [
    "# SET CONSTANTS\n",
    "INTERVAL_BY_SECONDS_PRED = 60*10\n",
    "DAYS_TO_PREDICT = 2"
   ]
  },
  {
   "cell_type": "code",
   "execution_count": 2,
   "id": "df6a8586-716f-479a-9ed2-505e0361fc87",
   "metadata": {
    "execution": {
     "iopub.execute_input": "2025-08-22T20:27:10.203898Z",
     "iopub.status.busy": "2025-08-22T20:27:10.201693Z",
     "iopub.status.idle": "2025-08-22T20:27:10.316554Z",
     "shell.execute_reply": "2025-08-22T20:27:10.304416Z",
     "shell.execute_reply.started": "2025-08-22T20:27:10.203789Z"
    }
   },
   "outputs": [
    {
     "data": {
      "text/html": [
       "<style>pre { white-space: pre !important; }</style>"
      ],
      "text/plain": [
       "<IPython.core.display.HTML object>"
      ]
     },
     "metadata": {},
     "output_type": "display_data"
    }
   ],
   "source": [
    "from IPython.core.display import HTML\n",
    "display(HTML(\"<style>pre { white-space: pre !important; }</style>\"))"
   ]
  },
  {
   "cell_type": "code",
   "execution_count": 3,
   "id": "0bf447ba-f45d-4867-a2c2-6760b2cdbaf5",
   "metadata": {
    "execution": {
     "iopub.execute_input": "2025-08-22T20:27:10.324112Z",
     "iopub.status.busy": "2025-08-22T20:27:10.322068Z",
     "iopub.status.idle": "2025-08-22T20:27:35.759605Z",
     "shell.execute_reply": "2025-08-22T20:27:35.752040Z",
     "shell.execute_reply.started": "2025-08-22T20:27:10.324010Z"
    }
   },
   "outputs": [
    {
     "name": "stderr",
     "output_type": "stream",
     "text": [
      "Importing plotly failed. Interactive plots will not work.\n"
     ]
    }
   ],
   "source": [
    "from pyspark.sql import SparkSession\n",
    "from pyspark.conf import SparkConf\n",
    "from pyspark.sql.functions import explode, from_unixtime, col, to_date, sum, avg, udf, lit, date_trunc, when, max\n",
    "from pyspark.sql.types import DateType, TimestampType, StructType, StructField, IntegerType, FloatType, StringType\n",
    "from prophet import Prophet\n",
    "from prophet.serialize import model_to_json, model_from_json\n",
    "\n",
    "import requests\n",
    "import json\n",
    "from collections import defaultdict\n",
    "import locale\n",
    "import os\n",
    "import re\n",
    "from glob import glob\n",
    "from datetime import datetime, timedelta, date, tzinfo, timezone\n",
    "\n",
    "DB_URL = \"jdbc:postgresql://postgres:5432/themeparkwizard\"\n",
    "PROPERTIES_CUSTOM = {\"user\": os.environ['POSTGRES_USER'],\"password\": os.environ['POSTGRES_PASSWORD'], \"driver\": \"org.postgresql.Driver\"}\n",
    "\n",
    "spark = SparkSession.builder \\\n",
    "    .appName(\"MetricPredict\") \\\n",
    "    .config(\"spark.jars\", \"jars/postgresql-42.7.7.jar\") \\\n",
    "    .config(\"spark.sql.sources.partitionOverwriteMode\", \"dynamic\") \\\n",
    "    .getOrCreate()"
   ]
  },
  {
   "cell_type": "code",
   "execution_count": 9,
   "id": "6553415a-5bc6-40ce-b50e-d7950cccde15",
   "metadata": {
    "execution": {
     "iopub.execute_input": "2025-08-22T20:33:28.995812Z",
     "iopub.status.busy": "2025-08-22T20:33:28.993500Z",
     "iopub.status.idle": "2025-08-22T20:33:29.083047Z",
     "shell.execute_reply": "2025-08-22T20:33:29.077845Z",
     "shell.execute_reply.started": "2025-08-22T20:33:28.995692Z"
    }
   },
   "outputs": [],
   "source": [
    "@udf(returnType=TimestampType())\n",
    "def min_hour(data):\n",
    "    if isinstance(data, list):\n",
    "        for ee in data:\n",
    "            if ee.type == 'Early Entry':\n",
    "                return ee.startTime\n",
    "\n",
    "@udf(returnType=TimestampType())\n",
    "def max_hour(data):\n",
    "    if isinstance(data, list):\n",
    "        for op in data:\n",
    "            if op.type == 'Operating':\n",
    "                return op.endTime\n",
    "\n",
    "def save_prophet_model(model, path):\n",
    "    with open(path, 'w') as fout:\n",
    "        fout.write(model_to_json(model))  # Save model\n",
    "        \n",
    "def load_prophet_model(path):\n",
    "    with open(path, 'r') as fin:\n",
    "        return model_from_json(fin.read())  # Load model\n",
    "\n",
    "def warm_start_params(m):\n",
    "    \"\"\"\n",
    "    Retrieve parameters from a trained model in the format used to initialize a new Stan model.\n",
    "    Note that the new Stan model must have these same settings:\n",
    "        n_changepoints, seasonality features, mcmc sampling\n",
    "    for the retrieved parameters to be valid for the new model.\n",
    "\n",
    "    Parameters\n",
    "    ----------\n",
    "    m: A trained model of the Prophet class.\n",
    "\n",
    "    Returns\n",
    "    -------\n",
    "    A Dictionary containing retrieved parameters of m.\n",
    "    \"\"\"\n",
    "    res = {}\n",
    "    for pname in ['k', 'm', 'sigma_obs']:\n",
    "        if m.mcmc_samples == 0:\n",
    "            res[pname] = m.params[pname][0][0]\n",
    "        else:\n",
    "            res[pname] = np.mean(m.params[pname])\n",
    "    for pname in ['delta', 'beta']:\n",
    "        if m.mcmc_samples == 0:\n",
    "            res[pname] = m.params[pname][0]\n",
    "        else:\n",
    "            res[pname] = np.mean(m.params[pname], axis=0)\n",
    "    return res\n",
    "\n",
    "def training_model(path_from_data, attraction, dataframe_att):\n",
    "    stringify_att = re.sub(r'[ -]*', '', attraction)\n",
    "    model_filename = path_from_data.rpartition('/')[-1] + '_' + stringify_att\n",
    "    model_path = 'models/'+model_filename+'.json'\n",
    "    # newest_model = sorted(glob(model_path+'*'))[-1]\n",
    "    if os.path.exists(model_path):\n",
    "        print('Warm start from already trained model!')\n",
    "        model = load_prophet_model(model_path)\n",
    "        try:\n",
    "            model = Prophet().fit(dataframe_att.toPandas(), init=warm_start_params(model))\n",
    "        except Exception:\n",
    "            print('Training a complete new model after failling!')\n",
    "            model = Prophet(growth='flat')#Prophet(holidays=hus_df.toPandas(), growth='flat')\n",
    "            model.add_country_holidays(country_name='US')\n",
    "            model.fit(dataframe_att.toPandas())\n",
    "    else:\n",
    "        print('Training a complete new model!')\n",
    "        model = Prophet(growth='flat')#Prophet(holidays=hus_df.toPandas(), growth='flat')\n",
    "        model.add_country_holidays(country_name='US')\n",
    "        model.fit(dataframe_att.toPandas())\n",
    "    save_prophet_model(model, model_path)\n",
    "    return model"
   ]
  },
  {
   "cell_type": "code",
   "execution_count": 19,
   "id": "d7aabc66-7fce-43e4-97b6-a6a19e1846ca",
   "metadata": {
    "execution": {
     "iopub.execute_input": "2025-08-22T20:46:39.439843Z",
     "iopub.status.busy": "2025-08-22T20:46:39.437036Z",
     "iopub.status.idle": "2025-08-22T20:46:39.734911Z",
     "shell.execute_reply": "2025-08-22T20:46:39.731311Z",
     "shell.execute_reply.started": "2025-08-22T20:46:39.439688Z"
    }
   },
   "outputs": [],
   "source": [
    "# tz = timezone(timedelta(hours=-3))\n",
    "# now = datetime.now(tz)\n",
    "# now = datetime.now()\n",
    "# start_predict = (now + timedelta(days=1)).date()\n",
    "# start_predict = datetime.now().date()\n",
    "start_predict = datetime(2025,8,16) + timedelta(days=1)\n",
    "\n",
    "# limits = df_dl.where(\"name == 'Guardians of the Galaxy: Cosmic Rewind'\")\\\n",
    "#     .select(min_hour(col('operatingHours')).alias('start_time'), max_hour(col('operatingHours')).alias('end_time'))\\\n",
    "#     .limit(1)\\\n",
    "#     .collect()[0]\n",
    "# limits\n",
    "# diff_seconds = (limits.end_time - limits.start_time).seconds\n",
    "# new_day = datetime(start_predict.year, start_predict.month, start_predict.day, limits.start_time.hour, limits.start_time.minute)\n",
    "\n",
    "new_day = datetime(start_predict.year, start_predict.month, start_predict.day, 0, 0)\n",
    "# new_day\n",
    "# data = [(new_day + timedelta(seconds=interval),5,400) for interval in range(0, (limits.end_time - limits.start_time).seconds, INTERVAL_BY_SECONDS_PRED)]\n",
    "data = [(new_day + timedelta(seconds=interval),5,400) for interval in range(0, 60*60*24*(DAYS_TO_PREDICT+1)+1, INTERVAL_BY_SECONDS_PRED)]\n",
    "schema = StructType([\n",
    "    StructField(\"ds\", TimestampType(), False),\n",
    "    StructField(\"floor\", IntegerType(), False),\n",
    "    StructField(\"cap\", IntegerType(), False),\n",
    "])\n",
    "period_to_predict = spark.createDataFrame(data, schema).cache()"
   ]
  },
  {
   "cell_type": "code",
   "execution_count": 20,
   "id": "02515a48-c1af-4ad8-bdee-22b5ff9cb34f",
   "metadata": {
    "execution": {
     "iopub.execute_input": "2025-08-22T20:46:39.745683Z",
     "iopub.status.busy": "2025-08-22T20:46:39.742784Z",
     "iopub.status.idle": "2025-08-22T20:46:42.187795Z",
     "shell.execute_reply": "2025-08-22T20:46:42.184261Z",
     "shell.execute_reply.started": "2025-08-22T20:46:39.745596Z"
    }
   },
   "outputs": [
    {
     "data": {
      "text/plain": [
       "datetime.datetime(2025, 8, 20, 0, 0)"
      ]
     },
     "execution_count": 20,
     "metadata": {},
     "output_type": "execute_result"
    }
   ],
   "source": [
    "# period_to_predict.show(10)\n",
    "period_to_predict.select(max('ds').alias('last_date')).collect()[0][0]"
   ]
  },
  {
   "cell_type": "code",
   "execution_count": 21,
   "id": "446f0948-81fe-43c0-a511-05ad763d30e2",
   "metadata": {
    "execution": {
     "iopub.execute_input": "2025-08-22T20:46:44.044652Z",
     "iopub.status.busy": "2025-08-22T20:46:44.043444Z",
     "iopub.status.idle": "2025-08-22T21:09:08.770811Z",
     "shell.execute_reply": "2025-08-22T21:09:08.766166Z",
     "shell.execute_reply.started": "2025-08-22T20:46:44.044574Z"
    }
   },
   "outputs": [
    {
     "name": "stdout",
     "output_type": "stream",
     "text": [
      "datalake_layer/animal_kingdom/entity_type=attraction/\n",
      "Running for Discovery Island Trails\n",
      "No data for Discovery Island Trails!\n",
      "Running for Wildlife Express Train\n",
      "No data for Wildlife Express Train!\n",
      "Running for Kilimanjaro Safaris\n",
      "No data for Kilimanjaro Safaris!\n",
      "Running for Tree of Life\n",
      "No data for Tree of Life!\n",
      "Running for Dino-Sue\n",
      "No data for Dino-Sue!\n",
      "Running for Wilderness Explorers\n",
      "No data for Wilderness Explorers!\n",
      "Running for The Animation Experience at Conservation Station\n",
      "No data for The Animation Experience at Conservation Station!\n",
      "Running for Avatar Flight of Passage\n",
      "Row(start_time=datetime.datetime(2025, 8, 16, 11, 30), end_time=datetime.datetime(2025, 8, 17, 0, 0))\n",
      "24cf863c-b6ba-4826-a056-0b698989cbf7\n",
      "Warm start from already trained model!\n"
     ]
    },
    {
     "name": "stderr",
     "output_type": "stream",
     "text": [
      "INFO:prophet:Disabling yearly seasonality. Run prophet with yearly_seasonality=True to override this.\n",
      "DEBUG:cmdstanpy:input tempfile: /tmp/tmpjwe29b1v/5yetfq4m.json\n",
      "DEBUG:cmdstanpy:input tempfile: /tmp/tmpjwe29b1v/xqyzy8hy.json\n",
      "DEBUG:cmdstanpy:idx 0\n",
      "DEBUG:cmdstanpy:running CmdStan, num_threads: None\n",
      "DEBUG:cmdstanpy:CmdStan args: ['/opt/conda/lib/python3.11/site-packages/prophet/stan_model/prophet_model.bin', 'random', 'seed=98234', 'data', 'file=/tmp/tmpjwe29b1v/5yetfq4m.json', 'init=/tmp/tmpjwe29b1v/xqyzy8hy.json', 'output', 'file=/tmp/tmpjwe29b1v/prophet_modelda0olzzj/prophet_model-20250822204832.csv', 'method=optimize', 'algorithm=lbfgs', 'iter=10000']\n",
      "20:48:32 - cmdstanpy - INFO - Chain [1] start processing\n",
      "INFO:cmdstanpy:Chain [1] start processing\n",
      "20:48:32 - cmdstanpy - INFO - Chain [1] done processing\n",
      "INFO:cmdstanpy:Chain [1] done processing\n"
     ]
    },
    {
     "name": "stdout",
     "output_type": "stream",
     "text": [
      "2025-08-17 11:30:00 2025-08-18 00:00:00\n",
      "2025-08-18 11:30:00 2025-08-19 00:00:00\n",
      "+-------------------+-----------------+\n",
      "|                 ds|             yhat|\n",
      "+-------------------+-----------------+\n",
      "|2025-08-17 11:30:00| 88.5212446990253|\n",
      "|2025-08-17 11:40:00|88.63888687212891|\n",
      "|2025-08-17 11:50:00|88.72379255616923|\n",
      "|2025-08-17 12:00:00|88.77980637259004|\n",
      "|2025-08-17 12:10:00|88.81163493548794|\n",
      "+-------------------+-----------------+\n",
      "only showing top 5 rows\n",
      "\n",
      "Running for Conservation Station\n",
      "No data for Conservation Station!\n",
      "Running for Expedition Everest - Legend of the Forbidden Mountain\n",
      "Row(start_time=datetime.datetime(2025, 8, 16, 11, 30), end_time=datetime.datetime(2025, 8, 17, 0, 0))\n",
      "64a6915f-a835-4226-ba5c-8389fc4cade3\n",
      "Warm start from already trained model!\n"
     ]
    },
    {
     "name": "stderr",
     "output_type": "stream",
     "text": [
      "INFO:prophet:Disabling yearly seasonality. Run prophet with yearly_seasonality=True to override this.\n",
      "DEBUG:cmdstanpy:input tempfile: /tmp/tmpjwe29b1v/oc1izako.json\n",
      "DEBUG:cmdstanpy:input tempfile: /tmp/tmpjwe29b1v/8u4ydym2.json\n",
      "DEBUG:cmdstanpy:idx 0\n",
      "DEBUG:cmdstanpy:running CmdStan, num_threads: None\n",
      "DEBUG:cmdstanpy:CmdStan args: ['/opt/conda/lib/python3.11/site-packages/prophet/stan_model/prophet_model.bin', 'random', 'seed=4764', 'data', 'file=/tmp/tmpjwe29b1v/oc1izako.json', 'init=/tmp/tmpjwe29b1v/8u4ydym2.json', 'output', 'file=/tmp/tmpjwe29b1v/prophet_modelbhu86_fx/prophet_model-20250822204858.csv', 'method=optimize', 'algorithm=lbfgs', 'iter=10000']\n",
      "20:48:58 - cmdstanpy - INFO - Chain [1] start processing\n",
      "INFO:cmdstanpy:Chain [1] start processing\n",
      "20:48:58 - cmdstanpy - INFO - Chain [1] done processing\n",
      "INFO:cmdstanpy:Chain [1] done processing\n"
     ]
    },
    {
     "name": "stdout",
     "output_type": "stream",
     "text": [
      "2025-08-17 11:30:00 2025-08-18 00:00:00\n",
      "2025-08-18 11:30:00 2025-08-19 00:00:00\n",
      "+-------------------+-------------------+\n",
      "|                 ds|               yhat|\n",
      "+-------------------+-------------------+\n",
      "|2025-08-17 11:30:00| -6.512338644888402|\n",
      "|2025-08-17 11:40:00| -5.223773517556651|\n",
      "|2025-08-17 11:50:00|-3.4393260752290047|\n",
      "|2025-08-17 12:00:00|-1.2673689589461787|\n",
      "|2025-08-17 12:10:00| 1.1899461512418696|\n",
      "+-------------------+-------------------+\n",
      "only showing top 5 rows\n",
      "\n",
      "Running for DINOSAUR\n",
      "Row(start_time=datetime.datetime(2025, 8, 16, 11, 30), end_time=datetime.datetime(2025, 8, 17, 0, 0))\n",
      "55c531b6-3ce2-4c47-a8a1-0dc9107d825b\n",
      "Warm start from already trained model!\n"
     ]
    },
    {
     "name": "stderr",
     "output_type": "stream",
     "text": [
      "INFO:prophet:Disabling yearly seasonality. Run prophet with yearly_seasonality=True to override this.\n",
      "DEBUG:cmdstanpy:input tempfile: /tmp/tmpjwe29b1v/s06k6j0r.json\n",
      "DEBUG:cmdstanpy:input tempfile: /tmp/tmpjwe29b1v/6trr4r3_.json\n",
      "DEBUG:cmdstanpy:idx 0\n",
      "DEBUG:cmdstanpy:running CmdStan, num_threads: None\n",
      "DEBUG:cmdstanpy:CmdStan args: ['/opt/conda/lib/python3.11/site-packages/prophet/stan_model/prophet_model.bin', 'random', 'seed=25193', 'data', 'file=/tmp/tmpjwe29b1v/s06k6j0r.json', 'init=/tmp/tmpjwe29b1v/6trr4r3_.json', 'output', 'file=/tmp/tmpjwe29b1v/prophet_modeltb3k8i05/prophet_model-20250822204913.csv', 'method=optimize', 'algorithm=lbfgs', 'iter=10000']\n",
      "20:49:13 - cmdstanpy - INFO - Chain [1] start processing\n",
      "INFO:cmdstanpy:Chain [1] start processing\n",
      "20:49:14 - cmdstanpy - INFO - Chain [1] done processing\n",
      "INFO:cmdstanpy:Chain [1] done processing\n"
     ]
    },
    {
     "name": "stdout",
     "output_type": "stream",
     "text": [
      "2025-08-17 11:30:00 2025-08-18 00:00:00\n",
      "2025-08-18 11:30:00 2025-08-19 00:00:00\n",
      "+-------------------+-----------------+\n",
      "|                 ds|             yhat|\n",
      "+-------------------+-----------------+\n",
      "|2025-08-17 11:30:00|5.182625839693928|\n",
      "|2025-08-17 11:40:00|4.768123923484652|\n",
      "|2025-08-17 11:50:00|4.329453637721374|\n",
      "|2025-08-17 12:00:00|3.917470397684792|\n",
      "|2025-08-17 12:10:00|3.579104056203138|\n",
      "+-------------------+-----------------+\n",
      "only showing top 5 rows\n",
      "\n",
      "Running for Kali River Rapids\n",
      "No data for Kali River Rapids!\n",
      "Running for Gorilla Falls Exploration Trail\n",
      "No data for Gorilla Falls Exploration Trail!\n",
      "Running for Affection Section\n",
      "No data for Affection Section!\n",
      "Running for Maharajah Jungle Trek\n",
      "No data for Maharajah Jungle Trek!\n",
      "Running for The Boneyard\n",
      "No data for The Boneyard!\n",
      "Running for Na'vi River Journey\n",
      "Row(start_time=datetime.datetime(2025, 8, 16, 11, 30), end_time=datetime.datetime(2025, 8, 17, 0, 0))\n",
      "7a5af3b7-9bc1-4962-92d0-3ea9c9ce35f0\n",
      "Warm start from already trained model!\n"
     ]
    },
    {
     "name": "stderr",
     "output_type": "stream",
     "text": [
      "INFO:prophet:Disabling yearly seasonality. Run prophet with yearly_seasonality=True to override this.\n",
      "DEBUG:cmdstanpy:input tempfile: /tmp/tmpjwe29b1v/fsinetu3.json\n",
      "DEBUG:cmdstanpy:input tempfile: /tmp/tmpjwe29b1v/3uhfy2b8.json\n",
      "DEBUG:cmdstanpy:idx 0\n",
      "DEBUG:cmdstanpy:running CmdStan, num_threads: None\n",
      "DEBUG:cmdstanpy:CmdStan args: ['/opt/conda/lib/python3.11/site-packages/prophet/stan_model/prophet_model.bin', 'random', 'seed=90526', 'data', 'file=/tmp/tmpjwe29b1v/fsinetu3.json', 'init=/tmp/tmpjwe29b1v/3uhfy2b8.json', 'output', 'file=/tmp/tmpjwe29b1v/prophet_modelvm8od_7x/prophet_model-20250822204946.csv', 'method=optimize', 'algorithm=lbfgs', 'iter=10000']\n",
      "20:49:46 - cmdstanpy - INFO - Chain [1] start processing\n",
      "INFO:cmdstanpy:Chain [1] start processing\n",
      "20:49:47 - cmdstanpy - INFO - Chain [1] done processing\n",
      "INFO:cmdstanpy:Chain [1] done processing\n"
     ]
    },
    {
     "name": "stdout",
     "output_type": "stream",
     "text": [
      "2025-08-17 11:30:00 2025-08-18 00:00:00\n",
      "2025-08-18 11:30:00 2025-08-19 00:00:00\n",
      "+-------------------+-------------------+\n",
      "|                 ds|               yhat|\n",
      "+-------------------+-------------------+\n",
      "|2025-08-17 11:30:00|  -8.50318686647556|\n",
      "|2025-08-17 11:40:00|-2.8275276179761235|\n",
      "|2025-08-17 11:50:00| 2.3894726954743035|\n",
      "|2025-08-17 12:00:00|  7.181674655961984|\n",
      "|2025-08-17 12:10:00| 11.583738890963232|\n",
      "+-------------------+-------------------+\n",
      "only showing top 5 rows\n",
      "\n",
      "Running for The Oasis Exhibits\n",
      "No data for The Oasis Exhibits!\n",
      "datalake_layer/epcot/entity_type=attraction/\n",
      "Running for Mission: SPACE\n",
      "Row(start_time=datetime.datetime(2025, 8, 16, 12, 30), end_time=datetime.datetime(2025, 8, 17, 1, 0))\n",
      "5b6475ad-4e9a-4793-b841-501aa382c9c0\n",
      "Warm start from already trained model!\n"
     ]
    },
    {
     "name": "stderr",
     "output_type": "stream",
     "text": [
      "INFO:prophet:Disabling yearly seasonality. Run prophet with yearly_seasonality=True to override this.\n",
      "DEBUG:cmdstanpy:input tempfile: /tmp/tmpjwe29b1v/58xgvl1n.json\n",
      "DEBUG:cmdstanpy:input tempfile: /tmp/tmpjwe29b1v/nebvn2lc.json\n",
      "DEBUG:cmdstanpy:idx 0\n",
      "DEBUG:cmdstanpy:running CmdStan, num_threads: None\n",
      "DEBUG:cmdstanpy:CmdStan args: ['/opt/conda/lib/python3.11/site-packages/prophet/stan_model/prophet_model.bin', 'random', 'seed=90574', 'data', 'file=/tmp/tmpjwe29b1v/58xgvl1n.json', 'init=/tmp/tmpjwe29b1v/nebvn2lc.json', 'output', 'file=/tmp/tmpjwe29b1v/prophet_model39x1867f/prophet_model-20250822205105.csv', 'method=optimize', 'algorithm=lbfgs', 'iter=10000']\n",
      "20:51:05 - cmdstanpy - INFO - Chain [1] start processing\n",
      "INFO:cmdstanpy:Chain [1] start processing\n",
      "20:51:06 - cmdstanpy - INFO - Chain [1] done processing\n",
      "INFO:cmdstanpy:Chain [1] done processing\n"
     ]
    },
    {
     "name": "stdout",
     "output_type": "stream",
     "text": [
      "2025-08-17 12:30:00 2025-08-18 01:00:00\n",
      "2025-08-18 12:30:00 2025-08-19 01:00:00\n",
      "+-------------------+------------------+\n",
      "|                 ds|              yhat|\n",
      "+-------------------+------------------+\n",
      "|2025-08-17 12:30:00|15.575139685767276|\n",
      "|2025-08-17 12:40:00|15.108223676060694|\n",
      "|2025-08-17 12:50:00|14.793366328638218|\n",
      "|2025-08-17 13:00:00| 14.61415806541881|\n",
      "|2025-08-17 13:10:00|14.553369005086402|\n",
      "+-------------------+------------------+\n",
      "only showing top 5 rows\n",
      "\n",
      "Running for Advanced Training Lab\n",
      "No data for Advanced Training Lab!\n",
      "Running for House of the Whispering Willows\n",
      "No data for House of the Whispering Willows!\n",
      "Running for Guardians of the Galaxy: Cosmic Rewind\n",
      "Row(start_time=datetime.datetime(2025, 8, 16, 12, 30), end_time=datetime.datetime(2025, 8, 17, 1, 0))\n",
      "e3549451-b284-453d-9c31-e3b1207abd79\n",
      "Warm start from already trained model!\n"
     ]
    },
    {
     "name": "stderr",
     "output_type": "stream",
     "text": [
      "INFO:prophet:Disabling yearly seasonality. Run prophet with yearly_seasonality=True to override this.\n",
      "DEBUG:cmdstanpy:input tempfile: /tmp/tmpjwe29b1v/7l85c3d2.json\n",
      "DEBUG:cmdstanpy:input tempfile: /tmp/tmpjwe29b1v/a2oik5f3.json\n",
      "DEBUG:cmdstanpy:idx 0\n",
      "DEBUG:cmdstanpy:running CmdStan, num_threads: None\n",
      "DEBUG:cmdstanpy:CmdStan args: ['/opt/conda/lib/python3.11/site-packages/prophet/stan_model/prophet_model.bin', 'random', 'seed=86841', 'data', 'file=/tmp/tmpjwe29b1v/7l85c3d2.json', 'init=/tmp/tmpjwe29b1v/a2oik5f3.json', 'output', 'file=/tmp/tmpjwe29b1v/prophet_modely2u_2iqn/prophet_model-20250822205131.csv', 'method=optimize', 'algorithm=lbfgs', 'iter=10000']\n",
      "20:51:31 - cmdstanpy - INFO - Chain [1] start processing\n",
      "INFO:cmdstanpy:Chain [1] start processing\n",
      "20:51:31 - cmdstanpy - INFO - Chain [1] done processing\n",
      "INFO:cmdstanpy:Chain [1] done processing\n"
     ]
    },
    {
     "name": "stdout",
     "output_type": "stream",
     "text": [
      "2025-08-17 12:30:00 2025-08-18 01:00:00\n",
      "2025-08-18 12:30:00 2025-08-19 01:00:00\n",
      "+-------------------+------------------+\n",
      "|                 ds|              yhat|\n",
      "+-------------------+------------------+\n",
      "|2025-08-17 12:30:00| 24.22446547237638|\n",
      "|2025-08-17 12:40:00| 32.72830644381702|\n",
      "|2025-08-17 12:50:00|39.731726714439105|\n",
      "|2025-08-17 13:00:00| 45.40702516797771|\n",
      "|2025-08-17 13:10:00| 49.92499936374503|\n",
      "+-------------------+------------------+\n",
      "only showing top 5 rows\n",
      "\n",
      "Running for Gallery of Arts and History\n",
      "No data for Gallery of Arts and History!\n",
      "Running for SeaBase Aquarium\n",
      "No data for SeaBase Aquarium!\n",
      "Running for Living with the Land\n",
      "Row(start_time=datetime.datetime(2025, 8, 16, 12, 30), end_time=datetime.datetime(2025, 8, 17, 1, 0))\n",
      "8f353879-d6ac-4211-9352-4029efb47c18\n",
      "Warm start from already trained model!\n"
     ]
    },
    {
     "name": "stderr",
     "output_type": "stream",
     "text": [
      "INFO:prophet:Disabling yearly seasonality. Run prophet with yearly_seasonality=True to override this.\n",
      "DEBUG:cmdstanpy:input tempfile: /tmp/tmpjwe29b1v/h100j8xi.json\n",
      "DEBUG:cmdstanpy:input tempfile: /tmp/tmpjwe29b1v/tytvxdzz.json\n",
      "DEBUG:cmdstanpy:idx 0\n",
      "DEBUG:cmdstanpy:running CmdStan, num_threads: None\n",
      "DEBUG:cmdstanpy:CmdStan args: ['/opt/conda/lib/python3.11/site-packages/prophet/stan_model/prophet_model.bin', 'random', 'seed=65911', 'data', 'file=/tmp/tmpjwe29b1v/h100j8xi.json', 'init=/tmp/tmpjwe29b1v/tytvxdzz.json', 'output', 'file=/tmp/tmpjwe29b1v/prophet_model_aebj4fh/prophet_model-20250822205152.csv', 'method=optimize', 'algorithm=lbfgs', 'iter=10000']\n",
      "20:51:52 - cmdstanpy - INFO - Chain [1] start processing\n",
      "INFO:cmdstanpy:Chain [1] start processing\n",
      "20:51:52 - cmdstanpy - INFO - Chain [1] done processing\n",
      "INFO:cmdstanpy:Chain [1] done processing\n"
     ]
    },
    {
     "name": "stdout",
     "output_type": "stream",
     "text": [
      "2025-08-17 12:30:00 2025-08-18 01:00:00\n",
      "2025-08-18 12:30:00 2025-08-19 01:00:00\n",
      "+-------------------+-------------------+\n",
      "|                 ds|               yhat|\n",
      "+-------------------+-------------------+\n",
      "|2025-08-17 12:30:00| 4.1765516184396425|\n",
      "|2025-08-17 12:40:00| 2.0674814021355488|\n",
      "|2025-08-17 12:50:00| 0.5976159896468403|\n",
      "|2025-08-17 13:00:00|-0.2769530139388934|\n",
      "|2025-08-17 13:10:00|-0.6089703752040947|\n",
      "+-------------------+-------------------+\n",
      "only showing top 5 rows\n",
      "\n",
      "Running for Journey Into Imagination With Figment\n",
      "No data for Journey Into Imagination With Figment!\n",
      "Running for Disney and Pixar Short Film Festival\n",
      "No data for Disney and Pixar Short Film Festival!\n",
      "Running for Test Track\n",
      "Row(start_time=datetime.datetime(2025, 8, 16, 12, 30), end_time=datetime.datetime(2025, 8, 17, 1, 0))\n",
      "37ae57c5-feaf-4e47-8f27-4b385be200f0\n",
      "Warm start from already trained model!\n"
     ]
    },
    {
     "name": "stderr",
     "output_type": "stream",
     "text": [
      "INFO:prophet:Disabling yearly seasonality. Run prophet with yearly_seasonality=True to override this.\n",
      "DEBUG:cmdstanpy:input tempfile: /tmp/tmpjwe29b1v/7iskxixa.json\n",
      "DEBUG:cmdstanpy:input tempfile: /tmp/tmpjwe29b1v/kqz07xol.json\n",
      "DEBUG:cmdstanpy:idx 0\n",
      "DEBUG:cmdstanpy:running CmdStan, num_threads: None\n",
      "DEBUG:cmdstanpy:CmdStan args: ['/opt/conda/lib/python3.11/site-packages/prophet/stan_model/prophet_model.bin', 'random', 'seed=71173', 'data', 'file=/tmp/tmpjwe29b1v/7iskxixa.json', 'init=/tmp/tmpjwe29b1v/kqz07xol.json', 'output', 'file=/tmp/tmpjwe29b1v/prophet_model7iyjiz1l/prophet_model-20250822205215.csv', 'method=optimize', 'algorithm=lbfgs', 'iter=10000']\n",
      "20:52:15 - cmdstanpy - INFO - Chain [1] start processing\n",
      "INFO:cmdstanpy:Chain [1] start processing\n",
      "20:52:15 - cmdstanpy - INFO - Chain [1] done processing\n",
      "INFO:cmdstanpy:Chain [1] done processing\n"
     ]
    },
    {
     "name": "stdout",
     "output_type": "stream",
     "text": [
      "2025-08-17 12:30:00 2025-08-18 01:00:00\n",
      "2025-08-18 12:30:00 2025-08-19 01:00:00\n",
      "+-------------------+------------------+\n",
      "|                 ds|              yhat|\n",
      "+-------------------+------------------+\n",
      "|2025-08-17 12:30:00|50.790723818789644|\n",
      "|2025-08-17 12:40:00|52.731214021419916|\n",
      "|2025-08-17 12:50:00|54.645186357980506|\n",
      "|2025-08-17 13:00:00| 56.50250429406557|\n",
      "|2025-08-17 13:10:00| 58.27686914149329|\n",
      "+-------------------+------------------+\n",
      "only showing top 5 rows\n",
      "\n",
      "Running for Journey of Water, Inspired by Moana\n",
      "No data for Journey of Water, Inspired by Moana!\n",
      "Running for Bijutsu-kan Gallery\n",
      "No data for Bijutsu-kan Gallery!\n",
      "Running for Awesome Planet\n",
      "No data for Awesome Planet!\n",
      "Running for Bruce's Shark World\n",
      "No data for Bruce's Shark World!\n",
      "Running for Turtle Talk With Crush\n",
      "No data for Turtle Talk With Crush!\n",
      "Running for Soarin' Around the World\n",
      "Row(start_time=datetime.datetime(2025, 8, 16, 12, 30), end_time=datetime.datetime(2025, 8, 17, 1, 0))\n",
      "81b15dfd-cf6a-466f-be59-3dd65d2a2807\n",
      "Warm start from already trained model!\n"
     ]
    },
    {
     "name": "stderr",
     "output_type": "stream",
     "text": [
      "INFO:prophet:Disabling yearly seasonality. Run prophet with yearly_seasonality=True to override this.\n",
      "DEBUG:cmdstanpy:input tempfile: /tmp/tmpjwe29b1v/ir0gzrhv.json\n",
      "DEBUG:cmdstanpy:input tempfile: /tmp/tmpjwe29b1v/levy5b2m.json\n",
      "DEBUG:cmdstanpy:idx 0\n",
      "DEBUG:cmdstanpy:running CmdStan, num_threads: None\n",
      "DEBUG:cmdstanpy:CmdStan args: ['/opt/conda/lib/python3.11/site-packages/prophet/stan_model/prophet_model.bin', 'random', 'seed=39760', 'data', 'file=/tmp/tmpjwe29b1v/ir0gzrhv.json', 'init=/tmp/tmpjwe29b1v/levy5b2m.json', 'output', 'file=/tmp/tmpjwe29b1v/prophet_model0e1c9ovw/prophet_model-20250822205245.csv', 'method=optimize', 'algorithm=lbfgs', 'iter=10000']\n",
      "20:52:45 - cmdstanpy - INFO - Chain [1] start processing\n",
      "INFO:cmdstanpy:Chain [1] start processing\n",
      "20:52:45 - cmdstanpy - INFO - Chain [1] done processing\n",
      "INFO:cmdstanpy:Chain [1] done processing\n"
     ]
    },
    {
     "name": "stdout",
     "output_type": "stream",
     "text": [
      "2025-08-17 12:30:00 2025-08-18 01:00:00\n",
      "2025-08-18 12:30:00 2025-08-19 01:00:00\n",
      "+-------------------+------------------+\n",
      "|                 ds|              yhat|\n",
      "+-------------------+------------------+\n",
      "|2025-08-17 12:30:00| 7.329829772761585|\n",
      "|2025-08-17 12:40:00| 4.903016566355504|\n",
      "|2025-08-17 12:50:00|3.4247187142166524|\n",
      "|2025-08-17 13:00:00|2.8109943430058735|\n",
      "|2025-08-17 13:10:00|2.9678450468031343|\n",
      "+-------------------+------------------+\n",
      "only showing top 5 rows\n",
      "\n",
      "Running for Canada Far and Wide in Circle-Vision 360\n",
      "No data for Canada Far and Wide in Circle-Vision 360!\n",
      "Running for Remy's Ratatouille Adventure\n",
      "Row(start_time=datetime.datetime(2025, 8, 16, 12, 30), end_time=datetime.datetime(2025, 8, 17, 1, 0))\n",
      "1e735ffb-4868-47f1-b2cd-2ac1156cd5f0\n",
      "Warm start from already trained model!\n"
     ]
    },
    {
     "name": "stderr",
     "output_type": "stream",
     "text": [
      "INFO:prophet:Disabling yearly seasonality. Run prophet with yearly_seasonality=True to override this.\n",
      "DEBUG:cmdstanpy:input tempfile: /tmp/tmpjwe29b1v/74210avr.json\n",
      "DEBUG:cmdstanpy:input tempfile: /tmp/tmpjwe29b1v/wahm1a7v.json\n",
      "DEBUG:cmdstanpy:idx 0\n",
      "DEBUG:cmdstanpy:running CmdStan, num_threads: None\n",
      "DEBUG:cmdstanpy:CmdStan args: ['/opt/conda/lib/python3.11/site-packages/prophet/stan_model/prophet_model.bin', 'random', 'seed=77823', 'data', 'file=/tmp/tmpjwe29b1v/74210avr.json', 'init=/tmp/tmpjwe29b1v/wahm1a7v.json', 'output', 'file=/tmp/tmpjwe29b1v/prophet_model7vllb8p1/prophet_model-20250822205306.csv', 'method=optimize', 'algorithm=lbfgs', 'iter=10000']\n",
      "20:53:06 - cmdstanpy - INFO - Chain [1] start processing\n",
      "INFO:cmdstanpy:Chain [1] start processing\n",
      "20:53:06 - cmdstanpy - INFO - Chain [1] done processing\n",
      "INFO:cmdstanpy:Chain [1] done processing\n"
     ]
    },
    {
     "name": "stdout",
     "output_type": "stream",
     "text": [
      "2025-08-17 12:30:00 2025-08-18 01:00:00\n",
      "2025-08-18 12:30:00 2025-08-19 01:00:00\n",
      "+-------------------+------------------+\n",
      "|                 ds|              yhat|\n",
      "+-------------------+------------------+\n",
      "|2025-08-17 12:30:00|38.885643833830116|\n",
      "|2025-08-17 12:40:00|36.109324264937364|\n",
      "|2025-08-17 12:50:00| 33.78219569444733|\n",
      "|2025-08-17 13:00:00|31.903333754293794|\n",
      "|2025-08-17 13:10:00|30.461329030145162|\n",
      "+-------------------+------------------+\n",
      "only showing top 5 rows\n",
      "\n",
      "Running for Stave Church Gallery\n",
      "No data for Stave Church Gallery!\n",
      "Running for Impressions de France\n",
      "No data for Impressions de France!\n",
      "Running for Frozen Ever After\n",
      "Row(start_time=datetime.datetime(2025, 8, 16, 12, 30), end_time=datetime.datetime(2025, 8, 17, 1, 0))\n",
      "8d7ccdb1-a22b-4e26-8dc8-65b1938ed5f0\n",
      "Warm start from already trained model!\n"
     ]
    },
    {
     "name": "stderr",
     "output_type": "stream",
     "text": [
      "INFO:prophet:Disabling yearly seasonality. Run prophet with yearly_seasonality=True to override this.\n",
      "DEBUG:cmdstanpy:input tempfile: /tmp/tmpjwe29b1v/mqgojtu_.json\n",
      "DEBUG:cmdstanpy:input tempfile: /tmp/tmpjwe29b1v/vwev1mp0.json\n",
      "DEBUG:cmdstanpy:idx 0\n",
      "DEBUG:cmdstanpy:running CmdStan, num_threads: None\n",
      "DEBUG:cmdstanpy:CmdStan args: ['/opt/conda/lib/python3.11/site-packages/prophet/stan_model/prophet_model.bin', 'random', 'seed=67432', 'data', 'file=/tmp/tmpjwe29b1v/mqgojtu_.json', 'init=/tmp/tmpjwe29b1v/vwev1mp0.json', 'output', 'file=/tmp/tmpjwe29b1v/prophet_modelyycyk7hd/prophet_model-20250822205324.csv', 'method=optimize', 'algorithm=lbfgs', 'iter=10000']\n",
      "20:53:24 - cmdstanpy - INFO - Chain [1] start processing\n",
      "INFO:cmdstanpy:Chain [1] start processing\n",
      "20:53:24 - cmdstanpy - INFO - Chain [1] done processing\n",
      "INFO:cmdstanpy:Chain [1] done processing\n"
     ]
    },
    {
     "name": "stdout",
     "output_type": "stream",
     "text": [
      "2025-08-17 12:30:00 2025-08-18 01:00:00\n",
      "2025-08-18 12:30:00 2025-08-19 01:00:00\n",
      "+-------------------+------------------+\n",
      "|                 ds|              yhat|\n",
      "+-------------------+------------------+\n",
      "|2025-08-17 12:30:00| 4.279634710616392|\n",
      "|2025-08-17 12:40:00|  10.6764250265674|\n",
      "|2025-08-17 12:50:00|16.125882107360027|\n",
      "|2025-08-17 13:00:00|20.719000507420418|\n",
      "|2025-08-17 13:10:00|24.547368400347267|\n",
      "+-------------------+------------------+\n",
      "only showing top 5 rows\n",
      "\n",
      "Running for American Heritage Gallery\n",
      "No data for American Heritage Gallery!\n",
      "Running for ImageWorks - The \"What If\" Labs\n",
      "No data for ImageWorks - The \"What If\" Labs!\n",
      "Running for Reflections of China\n",
      "No data for Reflections of China!\n",
      "Running for Kidcot Fun Stops\n",
      "No data for Kidcot Fun Stops!\n",
      "Running for Beauty and the Beast Sing-Along\n",
      "No data for Beauty and the Beast Sing-Along!\n",
      "Running for Project Tomorrow: Inventing the Wonders of the Future\n",
      "No data for Project Tomorrow: Inventing the Wonders of the Future!\n",
      "Running for The American Adventure\n",
      "No data for The American Adventure!\n",
      "Running for Gran Fiesta Tour Starring The Three Caballeros\n",
      "No data for Gran Fiesta Tour Starring The Three Caballeros!\n",
      "Running for The Seas with Nemo & Friends\n",
      "Row(start_time=datetime.datetime(2025, 8, 16, 12, 30), end_time=datetime.datetime(2025, 8, 17, 1, 0))\n",
      "fb076275-0570-4d62-b2a9-4d6515130fa3\n",
      "Warm start from already trained model!\n"
     ]
    },
    {
     "name": "stderr",
     "output_type": "stream",
     "text": [
      "INFO:prophet:Disabling yearly seasonality. Run prophet with yearly_seasonality=True to override this.\n",
      "DEBUG:cmdstanpy:input tempfile: /tmp/tmpjwe29b1v/o6k_a7v8.json\n",
      "DEBUG:cmdstanpy:input tempfile: /tmp/tmpjwe29b1v/fbihwh3r.json\n",
      "DEBUG:cmdstanpy:idx 0\n",
      "DEBUG:cmdstanpy:running CmdStan, num_threads: None\n",
      "DEBUG:cmdstanpy:CmdStan args: ['/opt/conda/lib/python3.11/site-packages/prophet/stan_model/prophet_model.bin', 'random', 'seed=71659', 'data', 'file=/tmp/tmpjwe29b1v/o6k_a7v8.json', 'init=/tmp/tmpjwe29b1v/fbihwh3r.json', 'output', 'file=/tmp/tmpjwe29b1v/prophet_model9u70nb71/prophet_model-20250822205403.csv', 'method=optimize', 'algorithm=lbfgs', 'iter=10000']\n",
      "20:54:03 - cmdstanpy - INFO - Chain [1] start processing\n",
      "INFO:cmdstanpy:Chain [1] start processing\n",
      "20:54:03 - cmdstanpy - INFO - Chain [1] done processing\n",
      "INFO:cmdstanpy:Chain [1] done processing\n"
     ]
    },
    {
     "name": "stdout",
     "output_type": "stream",
     "text": [
      "2025-08-17 12:30:00 2025-08-18 01:00:00\n",
      "2025-08-18 12:30:00 2025-08-19 01:00:00\n",
      "+-------------------+-----------------+\n",
      "|                 ds|             yhat|\n",
      "+-------------------+-----------------+\n",
      "|2025-08-17 12:30:00|8.821655157118343|\n",
      "|2025-08-17 12:40:00|7.055683138300033|\n",
      "|2025-08-17 12:50:00|5.785711634528607|\n",
      "|2025-08-17 13:00:00| 4.98232627645471|\n",
      "|2025-08-17 13:10:00|4.608799182692113|\n",
      "+-------------------+-----------------+\n",
      "only showing top 5 rows\n",
      "\n",
      "Running for Palais du Cinéma\n",
      "No data for Palais du Cinéma!\n",
      "Running for Mexico Folk Art Gallery\n",
      "No data for Mexico Folk Art Gallery!\n",
      "Running for Spaceship Earth\n",
      "Row(start_time=datetime.datetime(2025, 8, 16, 12, 30), end_time=datetime.datetime(2025, 8, 17, 1, 0))\n",
      "480fde8f-fe58-4bfb-b3ab-052a39d4db7c\n",
      "Warm start from already trained model!\n"
     ]
    },
    {
     "name": "stderr",
     "output_type": "stream",
     "text": [
      "INFO:prophet:Disabling yearly seasonality. Run prophet with yearly_seasonality=True to override this.\n",
      "DEBUG:cmdstanpy:input tempfile: /tmp/tmpjwe29b1v/_4s4udva.json\n",
      "DEBUG:cmdstanpy:input tempfile: /tmp/tmpjwe29b1v/ghudrhpx.json\n",
      "DEBUG:cmdstanpy:idx 0\n",
      "DEBUG:cmdstanpy:running CmdStan, num_threads: None\n",
      "DEBUG:cmdstanpy:CmdStan args: ['/opt/conda/lib/python3.11/site-packages/prophet/stan_model/prophet_model.bin', 'random', 'seed=46549', 'data', 'file=/tmp/tmpjwe29b1v/_4s4udva.json', 'init=/tmp/tmpjwe29b1v/ghudrhpx.json', 'output', 'file=/tmp/tmpjwe29b1v/prophet_modelamd6ui_3/prophet_model-20250822205424.csv', 'method=optimize', 'algorithm=lbfgs', 'iter=10000']\n",
      "20:54:24 - cmdstanpy - INFO - Chain [1] start processing\n",
      "INFO:cmdstanpy:Chain [1] start processing\n",
      "20:54:24 - cmdstanpy - INFO - Chain [1] done processing\n",
      "INFO:cmdstanpy:Chain [1] done processing\n"
     ]
    },
    {
     "name": "stdout",
     "output_type": "stream",
     "text": [
      "2025-08-17 12:30:00 2025-08-18 01:00:00\n",
      "2025-08-18 12:30:00 2025-08-19 01:00:00\n",
      "+-------------------+------------------+\n",
      "|                 ds|              yhat|\n",
      "+-------------------+------------------+\n",
      "|2025-08-17 12:30:00| 9.322081239420243|\n",
      "|2025-08-17 12:40:00| 6.084716025805761|\n",
      "|2025-08-17 12:50:00|  4.10823031023412|\n",
      "|2025-08-17 13:00:00|3.2258841701924723|\n",
      "|2025-08-17 13:10:00|3.2665468561394846|\n",
      "+-------------------+------------------+\n",
      "only showing top 5 rows\n",
      "\n",
      "datalake_layer/hollywood_studios/entity_type=attraction/\n",
      "Running for Mickey & Minnie's Runaway Railway\n",
      "Row(start_time=datetime.datetime(2025, 8, 16, 12, 0), end_time=datetime.datetime(2025, 8, 16, 22, 0))\n",
      "6e118e37-5002-408d-9d88-0b5d9cdb5d14\n",
      "Warm start from already trained model!\n"
     ]
    },
    {
     "name": "stderr",
     "output_type": "stream",
     "text": [
      "INFO:prophet:Disabling yearly seasonality. Run prophet with yearly_seasonality=True to override this.\n",
      "DEBUG:cmdstanpy:input tempfile: /tmp/tmpjwe29b1v/l1yspvoi.json\n",
      "DEBUG:cmdstanpy:input tempfile: /tmp/tmpjwe29b1v/h61m_vwh.json\n",
      "DEBUG:cmdstanpy:idx 0\n",
      "DEBUG:cmdstanpy:running CmdStan, num_threads: None\n",
      "DEBUG:cmdstanpy:CmdStan args: ['/opt/conda/lib/python3.11/site-packages/prophet/stan_model/prophet_model.bin', 'random', 'seed=95336', 'data', 'file=/tmp/tmpjwe29b1v/l1yspvoi.json', 'init=/tmp/tmpjwe29b1v/h61m_vwh.json', 'output', 'file=/tmp/tmpjwe29b1v/prophet_modell4o49k1_/prophet_model-20250822205530.csv', 'method=optimize', 'algorithm=lbfgs', 'iter=10000']\n",
      "20:55:30 - cmdstanpy - INFO - Chain [1] start processing\n",
      "INFO:cmdstanpy:Chain [1] start processing\n",
      "20:55:31 - cmdstanpy - INFO - Chain [1] done processing\n",
      "INFO:cmdstanpy:Chain [1] done processing\n"
     ]
    },
    {
     "name": "stdout",
     "output_type": "stream",
     "text": [
      "2025-08-17 12:00:00 2025-08-17 22:00:00\n",
      "2025-08-18 12:00:00 2025-08-18 22:00:00\n",
      "+-------------------+------------------+\n",
      "|                 ds|              yhat|\n",
      "+-------------------+------------------+\n",
      "|2025-08-17 12:00:00|  5.20892853281061|\n",
      "|2025-08-17 12:10:00|  9.38053485088497|\n",
      "|2025-08-17 12:20:00|13.666019757965117|\n",
      "|2025-08-17 12:30:00|17.977499500637634|\n",
      "|2025-08-17 12:40:00|22.233535990732577|\n",
      "+-------------------+------------------+\n",
      "only showing top 5 rows\n",
      "\n",
      "Running for The Twilight Zone Tower of Terror™\n",
      "Row(start_time=datetime.datetime(2025, 8, 16, 12, 0), end_time=datetime.datetime(2025, 8, 16, 22, 0))\n",
      "6f6998e8-a629-412c-b964-2cb06af8e26b\n",
      "Warm start from already trained model!\n"
     ]
    },
    {
     "name": "stderr",
     "output_type": "stream",
     "text": [
      "INFO:prophet:Disabling yearly seasonality. Run prophet with yearly_seasonality=True to override this.\n",
      "DEBUG:cmdstanpy:input tempfile: /tmp/tmpjwe29b1v/rni9l4_v.json\n",
      "DEBUG:cmdstanpy:input tempfile: /tmp/tmpjwe29b1v/g7ke4bew.json\n",
      "DEBUG:cmdstanpy:idx 0\n",
      "DEBUG:cmdstanpy:running CmdStan, num_threads: None\n",
      "DEBUG:cmdstanpy:CmdStan args: ['/opt/conda/lib/python3.11/site-packages/prophet/stan_model/prophet_model.bin', 'random', 'seed=57031', 'data', 'file=/tmp/tmpjwe29b1v/rni9l4_v.json', 'init=/tmp/tmpjwe29b1v/g7ke4bew.json', 'output', 'file=/tmp/tmpjwe29b1v/prophet_modelhrc_xkmo/prophet_model-20250822205547.csv', 'method=optimize', 'algorithm=lbfgs', 'iter=10000']\n",
      "20:55:47 - cmdstanpy - INFO - Chain [1] start processing\n",
      "INFO:cmdstanpy:Chain [1] start processing\n",
      "20:55:48 - cmdstanpy - INFO - Chain [1] done processing\n",
      "INFO:cmdstanpy:Chain [1] done processing\n"
     ]
    },
    {
     "name": "stdout",
     "output_type": "stream",
     "text": [
      "2025-08-17 12:00:00 2025-08-17 22:00:00\n",
      "2025-08-18 12:00:00 2025-08-18 22:00:00\n",
      "+-------------------+------------------+\n",
      "|                 ds|              yhat|\n",
      "+-------------------+------------------+\n",
      "|2025-08-17 12:00:00| 4.780997563565364|\n",
      "|2025-08-17 12:10:00|2.7477697519575344|\n",
      "|2025-08-17 12:20:00| 1.734709905185099|\n",
      "|2025-08-17 12:30:00| 1.641775121045285|\n",
      "|2025-08-17 12:40:00|2.3589710968413726|\n",
      "+-------------------+------------------+\n",
      "only showing top 5 rows\n",
      "\n",
      "Running for Vacation Fun - An Original Animated Short with Mickey & Minnie\n",
      "No data for Vacation Fun - An Original Animated Short with Mickey & Minnie!\n",
      "Running for Star Wars Launch Bay Theater\n",
      "No data for Star Wars Launch Bay Theater!\n",
      "Running for Star Tours – The Adventures Continue\n",
      "Row(start_time=datetime.datetime(2025, 8, 16, 12, 0), end_time=datetime.datetime(2025, 8, 16, 22, 0))\n",
      "3b290419-8ca2-44bc-a710-a6c83fca76ec\n",
      "Warm start from already trained model!\n"
     ]
    },
    {
     "name": "stderr",
     "output_type": "stream",
     "text": [
      "INFO:prophet:Disabling yearly seasonality. Run prophet with yearly_seasonality=True to override this.\n",
      "DEBUG:cmdstanpy:input tempfile: /tmp/tmpjwe29b1v/o6_1axis.json\n",
      "DEBUG:cmdstanpy:input tempfile: /tmp/tmpjwe29b1v/78q0bf45.json\n",
      "DEBUG:cmdstanpy:idx 0\n",
      "DEBUG:cmdstanpy:running CmdStan, num_threads: None\n",
      "DEBUG:cmdstanpy:CmdStan args: ['/opt/conda/lib/python3.11/site-packages/prophet/stan_model/prophet_model.bin', 'random', 'seed=21744', 'data', 'file=/tmp/tmpjwe29b1v/o6_1axis.json', 'init=/tmp/tmpjwe29b1v/78q0bf45.json', 'output', 'file=/tmp/tmpjwe29b1v/prophet_model0n00g4yz/prophet_model-20250822205610.csv', 'method=optimize', 'algorithm=lbfgs', 'iter=10000']\n",
      "20:56:10 - cmdstanpy - INFO - Chain [1] start processing\n",
      "INFO:cmdstanpy:Chain [1] start processing\n",
      "20:56:10 - cmdstanpy - INFO - Chain [1] done processing\n",
      "INFO:cmdstanpy:Chain [1] done processing\n"
     ]
    },
    {
     "name": "stdout",
     "output_type": "stream",
     "text": [
      "2025-08-17 12:00:00 2025-08-17 22:00:00\n",
      "2025-08-18 12:00:00 2025-08-18 22:00:00\n",
      "+-------------------+-----------------+\n",
      "|                 ds|             yhat|\n",
      "+-------------------+-----------------+\n",
      "|2025-08-17 12:00:00|11.75967557662895|\n",
      "|2025-08-17 12:10:00|9.559445719232095|\n",
      "|2025-08-17 12:20:00|7.775990659246249|\n",
      "|2025-08-17 12:30:00|6.402010386273881|\n",
      "|2025-08-17 12:40:00|5.422120283972589|\n",
      "+-------------------+-----------------+\n",
      "only showing top 5 rows\n",
      "\n",
      "Running for Star Wars Launch Bay\n",
      "No data for Star Wars Launch Bay!\n",
      "Running for Rock 'n' Roller Coaster Starring Aerosmith\n",
      "Row(start_time=datetime.datetime(2025, 8, 16, 12, 0), end_time=datetime.datetime(2025, 8, 16, 22, 0))\n",
      "e516f303-e82d-4fd3-8fbf-8e6ab624cf89\n",
      "Warm start from already trained model!\n"
     ]
    },
    {
     "name": "stderr",
     "output_type": "stream",
     "text": [
      "INFO:prophet:Disabling yearly seasonality. Run prophet with yearly_seasonality=True to override this.\n",
      "DEBUG:cmdstanpy:input tempfile: /tmp/tmpjwe29b1v/07t12ld4.json\n",
      "DEBUG:cmdstanpy:input tempfile: /tmp/tmpjwe29b1v/wokb6tts.json\n",
      "DEBUG:cmdstanpy:idx 0\n",
      "DEBUG:cmdstanpy:running CmdStan, num_threads: None\n",
      "DEBUG:cmdstanpy:CmdStan args: ['/opt/conda/lib/python3.11/site-packages/prophet/stan_model/prophet_model.bin', 'random', 'seed=37925', 'data', 'file=/tmp/tmpjwe29b1v/07t12ld4.json', 'init=/tmp/tmpjwe29b1v/wokb6tts.json', 'output', 'file=/tmp/tmpjwe29b1v/prophet_modelorwo8d_7/prophet_model-20250822205630.csv', 'method=optimize', 'algorithm=lbfgs', 'iter=10000']\n",
      "20:56:30 - cmdstanpy - INFO - Chain [1] start processing\n",
      "INFO:cmdstanpy:Chain [1] start processing\n",
      "20:56:30 - cmdstanpy - INFO - Chain [1] done processing\n",
      "INFO:cmdstanpy:Chain [1] done processing\n"
     ]
    },
    {
     "name": "stdout",
     "output_type": "stream",
     "text": [
      "2025-08-17 12:00:00 2025-08-17 22:00:00\n",
      "2025-08-18 12:00:00 2025-08-18 22:00:00\n",
      "+-------------------+------------------+\n",
      "|                 ds|              yhat|\n",
      "+-------------------+------------------+\n",
      "|2025-08-17 12:00:00|3.0947610203102656|\n",
      "|2025-08-17 12:10:00|3.6915022250704155|\n",
      "|2025-08-17 12:20:00|    4.818368451001|\n",
      "|2025-08-17 12:30:00| 6.418512175399684|\n",
      "|2025-08-17 12:40:00| 8.428829105552879|\n",
      "+-------------------+------------------+\n",
      "only showing top 5 rows\n",
      "\n",
      "Running for Star Wars: Rise of the Resistance\n",
      "Row(start_time=datetime.datetime(2025, 8, 16, 12, 0), end_time=datetime.datetime(2025, 8, 16, 22, 0))\n",
      "1a2e70d9-50d5-4140-b69e-799e950f7d18\n",
      "Warm start from already trained model!\n"
     ]
    },
    {
     "name": "stderr",
     "output_type": "stream",
     "text": [
      "INFO:prophet:Disabling yearly seasonality. Run prophet with yearly_seasonality=True to override this.\n",
      "DEBUG:cmdstanpy:input tempfile: /tmp/tmpjwe29b1v/oemlcmjt.json\n",
      "DEBUG:cmdstanpy:input tempfile: /tmp/tmpjwe29b1v/nxt3f17c.json\n",
      "DEBUG:cmdstanpy:idx 0\n",
      "DEBUG:cmdstanpy:running CmdStan, num_threads: None\n",
      "DEBUG:cmdstanpy:CmdStan args: ['/opt/conda/lib/python3.11/site-packages/prophet/stan_model/prophet_model.bin', 'random', 'seed=44103', 'data', 'file=/tmp/tmpjwe29b1v/oemlcmjt.json', 'init=/tmp/tmpjwe29b1v/nxt3f17c.json', 'output', 'file=/tmp/tmpjwe29b1v/prophet_modeluat27q69/prophet_model-20250822205646.csv', 'method=optimize', 'algorithm=lbfgs', 'iter=10000']\n",
      "20:56:46 - cmdstanpy - INFO - Chain [1] start processing\n",
      "INFO:cmdstanpy:Chain [1] start processing\n",
      "20:56:46 - cmdstanpy - INFO - Chain [1] done processing\n",
      "INFO:cmdstanpy:Chain [1] done processing\n"
     ]
    },
    {
     "name": "stdout",
     "output_type": "stream",
     "text": [
      "2025-08-17 12:00:00 2025-08-17 22:00:00\n",
      "2025-08-18 12:00:00 2025-08-18 22:00:00\n",
      "+-------------------+------------------+\n",
      "|                 ds|              yhat|\n",
      "+-------------------+------------------+\n",
      "|2025-08-17 12:00:00|2.6672304357808496|\n",
      "|2025-08-17 12:10:00|13.403021598748932|\n",
      "|2025-08-17 12:20:00|22.947297750202544|\n",
      "|2025-08-17 12:30:00|31.284708186489485|\n",
      "|2025-08-17 12:40:00| 38.42402989882038|\n",
      "+-------------------+------------------+\n",
      "only showing top 5 rows\n",
      "\n",
      "Running for Walt Disney Presents\n",
      "No data for Walt Disney Presents!\n",
      "Running for Millennium Falcon: Smugglers Run\n",
      "Row(start_time=datetime.datetime(2025, 8, 16, 12, 0), end_time=datetime.datetime(2025, 8, 16, 22, 0))\n",
      "34c4916b-989b-4ff1-a7e3-a6a846a3484f\n",
      "Warm start from already trained model!\n"
     ]
    },
    {
     "name": "stderr",
     "output_type": "stream",
     "text": [
      "INFO:prophet:Disabling yearly seasonality. Run prophet with yearly_seasonality=True to override this.\n",
      "DEBUG:cmdstanpy:input tempfile: /tmp/tmpjwe29b1v/bahu9clf.json\n",
      "DEBUG:cmdstanpy:input tempfile: /tmp/tmpjwe29b1v/v92iayta.json\n",
      "DEBUG:cmdstanpy:idx 0\n",
      "DEBUG:cmdstanpy:running CmdStan, num_threads: None\n",
      "DEBUG:cmdstanpy:CmdStan args: ['/opt/conda/lib/python3.11/site-packages/prophet/stan_model/prophet_model.bin', 'random', 'seed=31729', 'data', 'file=/tmp/tmpjwe29b1v/bahu9clf.json', 'init=/tmp/tmpjwe29b1v/v92iayta.json', 'output', 'file=/tmp/tmpjwe29b1v/prophet_modelyonqvefv/prophet_model-20250822205700.csv', 'method=optimize', 'algorithm=lbfgs', 'iter=10000']\n",
      "20:57:00 - cmdstanpy - INFO - Chain [1] start processing\n",
      "INFO:cmdstanpy:Chain [1] start processing\n",
      "20:57:00 - cmdstanpy - INFO - Chain [1] done processing\n",
      "INFO:cmdstanpy:Chain [1] done processing\n"
     ]
    },
    {
     "name": "stdout",
     "output_type": "stream",
     "text": [
      "2025-08-17 12:00:00 2025-08-17 22:00:00\n",
      "2025-08-18 12:00:00 2025-08-18 22:00:00\n",
      "+-------------------+-------------------+\n",
      "|                 ds|               yhat|\n",
      "+-------------------+-------------------+\n",
      "|2025-08-17 12:00:00|-29.147797720128196|\n",
      "|2025-08-17 12:10:00|-24.144398963248907|\n",
      "|2025-08-17 12:20:00|-19.504980061320417|\n",
      "|2025-08-17 12:30:00|-15.211235049295244|\n",
      "|2025-08-17 12:40:00|-11.240830588496426|\n",
      "+-------------------+-------------------+\n",
      "only showing top 5 rows\n",
      "\n",
      "Running for Slinky Dog Dash\n",
      "Row(start_time=datetime.datetime(2025, 8, 16, 12, 0), end_time=datetime.datetime(2025, 8, 16, 22, 0))\n",
      "399aa0a1-98e2-4d2b-b297-2b451e9665e1\n",
      "Warm start from already trained model!\n"
     ]
    },
    {
     "name": "stderr",
     "output_type": "stream",
     "text": [
      "INFO:prophet:Disabling yearly seasonality. Run prophet with yearly_seasonality=True to override this.\n",
      "DEBUG:cmdstanpy:input tempfile: /tmp/tmpjwe29b1v/hir_lb5o.json\n",
      "DEBUG:cmdstanpy:input tempfile: /tmp/tmpjwe29b1v/yiduprrz.json\n",
      "DEBUG:cmdstanpy:idx 0\n",
      "DEBUG:cmdstanpy:running CmdStan, num_threads: None\n",
      "DEBUG:cmdstanpy:CmdStan args: ['/opt/conda/lib/python3.11/site-packages/prophet/stan_model/prophet_model.bin', 'random', 'seed=56964', 'data', 'file=/tmp/tmpjwe29b1v/hir_lb5o.json', 'init=/tmp/tmpjwe29b1v/yiduprrz.json', 'output', 'file=/tmp/tmpjwe29b1v/prophet_model1i7zjv5f/prophet_model-20250822205721.csv', 'method=optimize', 'algorithm=lbfgs', 'iter=10000']\n",
      "20:57:21 - cmdstanpy - INFO - Chain [1] start processing\n",
      "INFO:cmdstanpy:Chain [1] start processing\n",
      "20:57:21 - cmdstanpy - INFO - Chain [1] done processing\n",
      "INFO:cmdstanpy:Chain [1] done processing\n"
     ]
    },
    {
     "name": "stdout",
     "output_type": "stream",
     "text": [
      "2025-08-17 12:00:00 2025-08-17 22:00:00\n",
      "2025-08-18 12:00:00 2025-08-18 22:00:00\n",
      "+-------------------+------------------+\n",
      "|                 ds|              yhat|\n",
      "+-------------------+------------------+\n",
      "|2025-08-17 12:00:00|36.568981711068815|\n",
      "|2025-08-17 12:10:00| 34.87617166242035|\n",
      "|2025-08-17 12:20:00|  33.9624509735457|\n",
      "|2025-08-17 12:30:00| 33.70380883132668|\n",
      "|2025-08-17 12:40:00| 33.97964622345387|\n",
      "+-------------------+------------------+\n",
      "only showing top 5 rows\n",
      "\n",
      "Running for Alien Swirling Saucers\n",
      "Row(start_time=datetime.datetime(2025, 8, 16, 12, 0), end_time=datetime.datetime(2025, 8, 16, 22, 0))\n",
      "d56506e2-6ad3-443a-8065-fea37987248d\n",
      "Warm start from already trained model!\n"
     ]
    },
    {
     "name": "stderr",
     "output_type": "stream",
     "text": [
      "INFO:prophet:Disabling yearly seasonality. Run prophet with yearly_seasonality=True to override this.\n",
      "DEBUG:cmdstanpy:input tempfile: /tmp/tmpjwe29b1v/nup75zhr.json\n",
      "DEBUG:cmdstanpy:input tempfile: /tmp/tmpjwe29b1v/gq7fa7zp.json\n",
      "DEBUG:cmdstanpy:idx 0\n",
      "DEBUG:cmdstanpy:running CmdStan, num_threads: None\n",
      "DEBUG:cmdstanpy:CmdStan args: ['/opt/conda/lib/python3.11/site-packages/prophet/stan_model/prophet_model.bin', 'random', 'seed=37015', 'data', 'file=/tmp/tmpjwe29b1v/nup75zhr.json', 'init=/tmp/tmpjwe29b1v/gq7fa7zp.json', 'output', 'file=/tmp/tmpjwe29b1v/prophet_modeldvc9yzgi/prophet_model-20250822205737.csv', 'method=optimize', 'algorithm=lbfgs', 'iter=10000']\n",
      "20:57:37 - cmdstanpy - INFO - Chain [1] start processing\n",
      "INFO:cmdstanpy:Chain [1] start processing\n",
      "20:57:37 - cmdstanpy - INFO - Chain [1] done processing\n",
      "INFO:cmdstanpy:Chain [1] done processing\n"
     ]
    },
    {
     "name": "stdout",
     "output_type": "stream",
     "text": [
      "2025-08-17 12:00:00 2025-08-17 22:00:00\n",
      "2025-08-18 12:00:00 2025-08-18 22:00:00\n",
      "+-------------------+-------------------+\n",
      "|                 ds|               yhat|\n",
      "+-------------------+-------------------+\n",
      "|2025-08-17 12:00:00| -3.270413987991045|\n",
      "|2025-08-17 12:10:00| -4.097863565895725|\n",
      "|2025-08-17 12:20:00|-4.2850598066675545|\n",
      "|2025-08-17 12:30:00|-3.8823674587102808|\n",
      "|2025-08-17 12:40:00|-2.9487381658828298|\n",
      "+-------------------+-------------------+\n",
      "only showing top 5 rows\n",
      "\n",
      "Running for Toy Story Mania!\n",
      "Row(start_time=datetime.datetime(2025, 8, 16, 12, 0), end_time=datetime.datetime(2025, 8, 16, 22, 0))\n",
      "20b5daa8-e1ea-436f-830c-2d7d18d929b5\n",
      "Warm start from already trained model!\n"
     ]
    },
    {
     "name": "stderr",
     "output_type": "stream",
     "text": [
      "INFO:prophet:Disabling yearly seasonality. Run prophet with yearly_seasonality=True to override this.\n",
      "DEBUG:cmdstanpy:input tempfile: /tmp/tmpjwe29b1v/qmel63nl.json\n",
      "DEBUG:cmdstanpy:input tempfile: /tmp/tmpjwe29b1v/ien9y1cd.json\n",
      "DEBUG:cmdstanpy:idx 0\n",
      "DEBUG:cmdstanpy:running CmdStan, num_threads: None\n",
      "DEBUG:cmdstanpy:CmdStan args: ['/opt/conda/lib/python3.11/site-packages/prophet/stan_model/prophet_model.bin', 'random', 'seed=29759', 'data', 'file=/tmp/tmpjwe29b1v/qmel63nl.json', 'init=/tmp/tmpjwe29b1v/ien9y1cd.json', 'output', 'file=/tmp/tmpjwe29b1v/prophet_modelz5vywzec/prophet_model-20250822205751.csv', 'method=optimize', 'algorithm=lbfgs', 'iter=10000']\n",
      "20:57:51 - cmdstanpy - INFO - Chain [1] start processing\n",
      "INFO:cmdstanpy:Chain [1] start processing\n",
      "20:57:51 - cmdstanpy - INFO - Chain [1] done processing\n",
      "INFO:cmdstanpy:Chain [1] done processing\n"
     ]
    },
    {
     "name": "stdout",
     "output_type": "stream",
     "text": [
      "2025-08-17 12:00:00 2025-08-17 22:00:00\n",
      "2025-08-18 12:00:00 2025-08-18 22:00:00\n",
      "+-------------------+-------------------+\n",
      "|                 ds|               yhat|\n",
      "+-------------------+-------------------+\n",
      "|2025-08-17 12:00:00|-17.224804493617484|\n",
      "|2025-08-17 12:10:00|-11.747598837402386|\n",
      "|2025-08-17 12:20:00| -6.291634062913111|\n",
      "|2025-08-17 12:30:00|-0.9225577094726969|\n",
      "|2025-08-17 12:40:00|  4.297977989245864|\n",
      "+-------------------+-------------------+\n",
      "only showing top 5 rows\n",
      "\n",
      "datalake_layer/magic_kingdom/entity_type=attraction/\n",
      "Running for Pirates of the Caribbean\n",
      "No data for Pirates of the Caribbean!\n",
      "Running for Tiana's Bayou Adventure\n",
      "No data for Tiana's Bayou Adventure!\n",
      "Running for Dumbo the Flying Elephant\n",
      "Row(start_time=datetime.datetime(2025, 8, 16, 12, 30), end_time=datetime.datetime(2025, 8, 17, 3, 0))\n",
      "890fa430-89c0-4a3f-96c9-11597888005e\n",
      "Warm start from already trained model!\n"
     ]
    },
    {
     "name": "stderr",
     "output_type": "stream",
     "text": [
      "INFO:prophet:Disabling yearly seasonality. Run prophet with yearly_seasonality=True to override this.\n",
      "DEBUG:cmdstanpy:input tempfile: /tmp/tmpjwe29b1v/b0lf1rw1.json\n",
      "DEBUG:cmdstanpy:input tempfile: /tmp/tmpjwe29b1v/592ldh1k.json\n",
      "DEBUG:cmdstanpy:idx 0\n",
      "DEBUG:cmdstanpy:running CmdStan, num_threads: None\n",
      "DEBUG:cmdstanpy:CmdStan args: ['/opt/conda/lib/python3.11/site-packages/prophet/stan_model/prophet_model.bin', 'random', 'seed=8890', 'data', 'file=/tmp/tmpjwe29b1v/b0lf1rw1.json', 'init=/tmp/tmpjwe29b1v/592ldh1k.json', 'output', 'file=/tmp/tmpjwe29b1v/prophet_modeluklc5z0y/prophet_model-20250822205904.csv', 'method=optimize', 'algorithm=lbfgs', 'iter=10000']\n",
      "20:59:04 - cmdstanpy - INFO - Chain [1] start processing\n",
      "INFO:cmdstanpy:Chain [1] start processing\n",
      "20:59:04 - cmdstanpy - INFO - Chain [1] done processing\n",
      "INFO:cmdstanpy:Chain [1] done processing\n"
     ]
    },
    {
     "name": "stdout",
     "output_type": "stream",
     "text": [
      "2025-08-17 12:30:00 2025-08-18 03:00:00\n",
      "2025-08-18 12:30:00 2025-08-19 03:00:00\n",
      "+-------------------+------------------+\n",
      "|                 ds|              yhat|\n",
      "+-------------------+------------------+\n",
      "|2025-08-17 12:30:00|2.1168929615181824|\n",
      "|2025-08-17 12:40:00|1.6885327326903425|\n",
      "|2025-08-17 12:50:00| 1.378588271082986|\n",
      "|2025-08-17 13:00:00|1.1777616653011762|\n",
      "|2025-08-17 13:10:00| 1.076202555530596|\n",
      "+-------------------+------------------+\n",
      "only showing top 5 rows\n",
      "\n",
      "Running for Astro Orbiter\n",
      "Row(start_time=datetime.datetime(2025, 8, 16, 12, 30), end_time=datetime.datetime(2025, 8, 17, 3, 0))\n",
      "d9d12438-d999-4482-894b-8955fdb20ccf\n",
      "Warm start from already trained model!\n"
     ]
    },
    {
     "name": "stderr",
     "output_type": "stream",
     "text": [
      "INFO:prophet:Disabling yearly seasonality. Run prophet with yearly_seasonality=True to override this.\n",
      "DEBUG:cmdstanpy:input tempfile: /tmp/tmpjwe29b1v/48vacj0b.json\n",
      "DEBUG:cmdstanpy:input tempfile: /tmp/tmpjwe29b1v/im00n87y.json\n",
      "DEBUG:cmdstanpy:idx 0\n",
      "DEBUG:cmdstanpy:running CmdStan, num_threads: None\n",
      "DEBUG:cmdstanpy:CmdStan args: ['/opt/conda/lib/python3.11/site-packages/prophet/stan_model/prophet_model.bin', 'random', 'seed=31941', 'data', 'file=/tmp/tmpjwe29b1v/48vacj0b.json', 'init=/tmp/tmpjwe29b1v/im00n87y.json', 'output', 'file=/tmp/tmpjwe29b1v/prophet_model6hg160bg/prophet_model-20250822205920.csv', 'method=optimize', 'algorithm=lbfgs', 'iter=10000']\n",
      "20:59:20 - cmdstanpy - INFO - Chain [1] start processing\n",
      "INFO:cmdstanpy:Chain [1] start processing\n",
      "20:59:20 - cmdstanpy - INFO - Chain [1] done processing\n",
      "INFO:cmdstanpy:Chain [1] done processing\n"
     ]
    },
    {
     "name": "stdout",
     "output_type": "stream",
     "text": [
      "2025-08-17 12:30:00 2025-08-18 03:00:00\n",
      "2025-08-18 12:30:00 2025-08-19 03:00:00\n",
      "+-------------------+--------------------+\n",
      "|                 ds|                yhat|\n",
      "+-------------------+--------------------+\n",
      "|2025-08-17 12:30:00|  0.7409560036160472|\n",
      "|2025-08-17 12:40:00| 0.23135955898443594|\n",
      "|2025-08-17 12:50:00|-0.04901551022524164|\n",
      "|2025-08-17 13:00:00|-0.08685809028638647|\n",
      "|2025-08-17 13:10:00| 0.12309335759989404|\n",
      "+-------------------+--------------------+\n",
      "only showing top 5 rows\n",
      "\n",
      "Running for Country Bear Musical Jamboree\n",
      "No data for Country Bear Musical Jamboree!\n",
      "Running for Tom Sawyer Island\n",
      "No data for Tom Sawyer Island!\n",
      "Running for Liberty Square Riverboat\n",
      "No data for Liberty Square Riverboat!\n",
      "Running for Casey Jr. Splash 'N' Soak Station\n",
      "No data for Casey Jr. Splash 'N' Soak Station!\n",
      "Running for A Pirate's Adventure ~ Treasures of the Seven Seas\n",
      "No data for A Pirate's Adventure ~ Treasures of the Seven Seas!\n",
      "Running for Mad Tea Party\n",
      "Row(start_time=datetime.datetime(2025, 8, 16, 12, 30), end_time=datetime.datetime(2025, 8, 17, 3, 0))\n",
      "0aae716c-af13-4439-b638-d75fb1649df3\n",
      "Warm start from already trained model!\n"
     ]
    },
    {
     "name": "stderr",
     "output_type": "stream",
     "text": [
      "INFO:prophet:Disabling yearly seasonality. Run prophet with yearly_seasonality=True to override this.\n",
      "DEBUG:cmdstanpy:input tempfile: /tmp/tmpjwe29b1v/6jregxex.json\n",
      "DEBUG:cmdstanpy:input tempfile: /tmp/tmpjwe29b1v/24sftu77.json\n",
      "DEBUG:cmdstanpy:idx 0\n",
      "DEBUG:cmdstanpy:running CmdStan, num_threads: None\n",
      "DEBUG:cmdstanpy:CmdStan args: ['/opt/conda/lib/python3.11/site-packages/prophet/stan_model/prophet_model.bin', 'random', 'seed=19676', 'data', 'file=/tmp/tmpjwe29b1v/6jregxex.json', 'init=/tmp/tmpjwe29b1v/24sftu77.json', 'output', 'file=/tmp/tmpjwe29b1v/prophet_modeldnarmnpd/prophet_model-20250822205944.csv', 'method=optimize', 'algorithm=lbfgs', 'iter=10000']\n",
      "20:59:44 - cmdstanpy - INFO - Chain [1] start processing\n",
      "INFO:cmdstanpy:Chain [1] start processing\n",
      "20:59:44 - cmdstanpy - INFO - Chain [1] done processing\n",
      "INFO:cmdstanpy:Chain [1] done processing\n"
     ]
    },
    {
     "name": "stdout",
     "output_type": "stream",
     "text": [
      "2025-08-17 12:30:00 2025-08-18 03:00:00\n",
      "2025-08-18 12:30:00 2025-08-19 03:00:00\n",
      "+-------------------+------------------+\n",
      "|                 ds|              yhat|\n",
      "+-------------------+------------------+\n",
      "|2025-08-17 12:30:00| 3.527887883555337|\n",
      "|2025-08-17 12:40:00|3.4729233856261086|\n",
      "|2025-08-17 12:50:00|3.3833827388086792|\n",
      "|2025-08-17 13:00:00|3.2762841255910367|\n",
      "|2025-08-17 13:10:00| 3.167166236464726|\n",
      "+-------------------+------------------+\n",
      "only showing top 5 rows\n",
      "\n",
      "Running for Cinderella Castle\n",
      "No data for Cinderella Castle!\n",
      "Running for Walt Disney's Enchanted Tiki Room\n",
      "No data for Walt Disney's Enchanted Tiki Room!\n",
      "Running for Main Street Vehicles\n",
      "No data for Main Street Vehicles!\n",
      "Running for \"it's a small world\"\n",
      "Row(start_time=datetime.datetime(2025, 8, 16, 12, 30), end_time=datetime.datetime(2025, 8, 17, 3, 0))\n",
      "f5aad2d4-a419-4384-bd9a-42f86385c750\n",
      "Warm start from already trained model!\n"
     ]
    },
    {
     "name": "stderr",
     "output_type": "stream",
     "text": [
      "INFO:prophet:Disabling yearly seasonality. Run prophet with yearly_seasonality=True to override this.\n",
      "DEBUG:cmdstanpy:input tempfile: /tmp/tmpjwe29b1v/kmq62s60.json\n",
      "DEBUG:cmdstanpy:input tempfile: /tmp/tmpjwe29b1v/zuya8m_f.json\n",
      "DEBUG:cmdstanpy:idx 0\n",
      "DEBUG:cmdstanpy:running CmdStan, num_threads: None\n",
      "DEBUG:cmdstanpy:CmdStan args: ['/opt/conda/lib/python3.11/site-packages/prophet/stan_model/prophet_model.bin', 'random', 'seed=62158', 'data', 'file=/tmp/tmpjwe29b1v/kmq62s60.json', 'init=/tmp/tmpjwe29b1v/zuya8m_f.json', 'output', 'file=/tmp/tmpjwe29b1v/prophet_modelc86no_fu/prophet_model-20250822210014.csv', 'method=optimize', 'algorithm=lbfgs', 'iter=10000']\n",
      "21:00:14 - cmdstanpy - INFO - Chain [1] start processing\n",
      "INFO:cmdstanpy:Chain [1] start processing\n",
      "21:00:14 - cmdstanpy - INFO - Chain [1] done processing\n",
      "INFO:cmdstanpy:Chain [1] done processing\n"
     ]
    },
    {
     "name": "stdout",
     "output_type": "stream",
     "text": [
      "2025-08-17 12:30:00 2025-08-18 03:00:00\n",
      "2025-08-18 12:30:00 2025-08-19 03:00:00\n",
      "+-------------------+-----------------+\n",
      "|                 ds|             yhat|\n",
      "+-------------------+-----------------+\n",
      "|2025-08-17 12:30:00|9.347725753612561|\n",
      "|2025-08-17 12:40:00|7.726230751002607|\n",
      "|2025-08-17 12:50:00|6.517754190113159|\n",
      "|2025-08-17 13:00:00|5.707807936925121|\n",
      "|2025-08-17 13:10:00|5.275546241694851|\n",
      "+-------------------+-----------------+\n",
      "only showing top 5 rows\n",
      "\n",
      "Running for TRON Lightcycle / Run\n",
      "No data for TRON Lightcycle / Run!\n",
      "Running for The Hall of Presidents\n",
      "No data for The Hall of Presidents!\n",
      "Running for Tomorrowland Speedway\n",
      "Row(start_time=datetime.datetime(2025, 8, 16, 12, 30), end_time=datetime.datetime(2025, 8, 17, 3, 0))\n",
      "f163ddcd-43e1-488d-8276-2381c1db0a39\n",
      "Warm start from already trained model!\n"
     ]
    },
    {
     "name": "stderr",
     "output_type": "stream",
     "text": [
      "INFO:prophet:Disabling yearly seasonality. Run prophet with yearly_seasonality=True to override this.\n",
      "DEBUG:cmdstanpy:input tempfile: /tmp/tmpjwe29b1v/8koa41nk.json\n",
      "DEBUG:cmdstanpy:input tempfile: /tmp/tmpjwe29b1v/mrv62kw7.json\n",
      "DEBUG:cmdstanpy:idx 0\n",
      "DEBUG:cmdstanpy:running CmdStan, num_threads: None\n",
      "DEBUG:cmdstanpy:CmdStan args: ['/opt/conda/lib/python3.11/site-packages/prophet/stan_model/prophet_model.bin', 'random', 'seed=55626', 'data', 'file=/tmp/tmpjwe29b1v/8koa41nk.json', 'init=/tmp/tmpjwe29b1v/mrv62kw7.json', 'output', 'file=/tmp/tmpjwe29b1v/prophet_modeljza71mj1/prophet_model-20250822210043.csv', 'method=optimize', 'algorithm=lbfgs', 'iter=10000']\n",
      "21:00:44 - cmdstanpy - INFO - Chain [1] start processing\n",
      "INFO:cmdstanpy:Chain [1] start processing\n",
      "21:00:44 - cmdstanpy - INFO - Chain [1] done processing\n",
      "INFO:cmdstanpy:Chain [1] done processing\n"
     ]
    },
    {
     "name": "stdout",
     "output_type": "stream",
     "text": [
      "2025-08-17 12:30:00 2025-08-18 03:00:00\n",
      "2025-08-18 12:30:00 2025-08-19 03:00:00\n",
      "+-------------------+-----------------+\n",
      "|                 ds|             yhat|\n",
      "+-------------------+-----------------+\n",
      "|2025-08-17 12:30:00|5.002243479295977|\n",
      "|2025-08-17 12:40:00| 6.43371851396598|\n",
      "|2025-08-17 12:50:00|7.711264518820968|\n",
      "|2025-08-17 13:00:00| 8.84152337417939|\n",
      "|2025-08-17 13:10:00| 9.83168454255198|\n",
      "+-------------------+-----------------+\n",
      "only showing top 5 rows\n",
      "\n",
      "Running for The Magic Carpets of Aladdin\n",
      "No data for The Magic Carpets of Aladdin!\n",
      "Running for The Barnstormer\n",
      "Row(start_time=datetime.datetime(2025, 8, 16, 12, 30), end_time=datetime.datetime(2025, 8, 17, 3, 0))\n",
      "924a3b2c-6b4b-49e5-99d3-e9dc3f2e8a48\n",
      "Warm start from already trained model!\n"
     ]
    },
    {
     "name": "stderr",
     "output_type": "stream",
     "text": [
      "INFO:prophet:Disabling yearly seasonality. Run prophet with yearly_seasonality=True to override this.\n",
      "DEBUG:cmdstanpy:input tempfile: /tmp/tmpjwe29b1v/urlbloth.json\n",
      "DEBUG:cmdstanpy:input tempfile: /tmp/tmpjwe29b1v/wpttrg3j.json\n",
      "DEBUG:cmdstanpy:idx 0\n",
      "DEBUG:cmdstanpy:running CmdStan, num_threads: None\n",
      "DEBUG:cmdstanpy:CmdStan args: ['/opt/conda/lib/python3.11/site-packages/prophet/stan_model/prophet_model.bin', 'random', 'seed=24180', 'data', 'file=/tmp/tmpjwe29b1v/urlbloth.json', 'init=/tmp/tmpjwe29b1v/wpttrg3j.json', 'output', 'file=/tmp/tmpjwe29b1v/prophet_modeljmi0le8i/prophet_model-20250822210102.csv', 'method=optimize', 'algorithm=lbfgs', 'iter=10000']\n",
      "21:01:02 - cmdstanpy - INFO - Chain [1] start processing\n",
      "INFO:cmdstanpy:Chain [1] start processing\n",
      "21:01:03 - cmdstanpy - INFO - Chain [1] done processing\n",
      "INFO:cmdstanpy:Chain [1] done processing\n"
     ]
    },
    {
     "name": "stdout",
     "output_type": "stream",
     "text": [
      "2025-08-17 12:30:00 2025-08-18 03:00:00\n",
      "2025-08-18 12:30:00 2025-08-19 03:00:00\n",
      "+-------------------+-------------------+\n",
      "|                 ds|               yhat|\n",
      "+-------------------+-------------------+\n",
      "|2025-08-17 12:30:00| -1.352677604917294|\n",
      "|2025-08-17 12:40:00| -2.061231802861772|\n",
      "|2025-08-17 12:50:00| -2.607155190167333|\n",
      "|2025-08-17 13:00:00| -2.987881958810351|\n",
      "|2025-08-17 13:10:00|-3.2038304660184282|\n",
      "+-------------------+-------------------+\n",
      "only showing top 5 rows\n",
      "\n",
      "Running for Monsters Inc. Laugh Floor\n",
      "No data for Monsters Inc. Laugh Floor!\n",
      "Running for Mickey's PhilharMagic\n",
      "Row(start_time=datetime.datetime(2025, 8, 16, 12, 30), end_time=datetime.datetime(2025, 8, 17, 3, 0))\n",
      "7c5e1e02-3a44-4151-9005-44066d5ba1da\n",
      "Warm start from already trained model!\n"
     ]
    },
    {
     "name": "stderr",
     "output_type": "stream",
     "text": [
      "INFO:prophet:Disabling yearly seasonality. Run prophet with yearly_seasonality=True to override this.\n",
      "DEBUG:cmdstanpy:input tempfile: /tmp/tmpjwe29b1v/uvparb9q.json\n",
      "DEBUG:cmdstanpy:input tempfile: /tmp/tmpjwe29b1v/n2tk6bvy.json\n",
      "DEBUG:cmdstanpy:idx 0\n",
      "DEBUG:cmdstanpy:running CmdStan, num_threads: None\n",
      "DEBUG:cmdstanpy:CmdStan args: ['/opt/conda/lib/python3.11/site-packages/prophet/stan_model/prophet_model.bin', 'random', 'seed=19271', 'data', 'file=/tmp/tmpjwe29b1v/uvparb9q.json', 'init=/tmp/tmpjwe29b1v/n2tk6bvy.json', 'output', 'file=/tmp/tmpjwe29b1v/prophet_modeli6lb56sg/prophet_model-20250822210122.csv', 'method=optimize', 'algorithm=lbfgs', 'iter=10000']\n",
      "21:01:22 - cmdstanpy - INFO - Chain [1] start processing\n",
      "INFO:cmdstanpy:Chain [1] start processing\n",
      "21:01:22 - cmdstanpy - INFO - Chain [1] done processing\n",
      "INFO:cmdstanpy:Chain [1] done processing\n"
     ]
    },
    {
     "name": "stdout",
     "output_type": "stream",
     "text": [
      "2025-08-17 12:30:00 2025-08-18 03:00:00\n",
      "2025-08-18 12:30:00 2025-08-19 03:00:00\n",
      "+-------------------+------------------+\n",
      "|                 ds|              yhat|\n",
      "+-------------------+------------------+\n",
      "|2025-08-17 12:30:00| 12.11370383584455|\n",
      "|2025-08-17 12:40:00|11.935272919169744|\n",
      "|2025-08-17 12:50:00|11.717207820399253|\n",
      "|2025-08-17 13:00:00|11.471710506788202|\n",
      "|2025-08-17 13:10:00|11.210349859353817|\n",
      "+-------------------+------------------+\n",
      "only showing top 5 rows\n",
      "\n",
      "Running for Tomorrowland Transit Authority PeopleMover\n",
      "Row(start_time=datetime.datetime(2025, 8, 16, 12, 30), end_time=datetime.datetime(2025, 8, 17, 3, 0))\n",
      "ffcfeaa2-1416-4920-a1ed-543c1a1695c4\n",
      "Warm start from already trained model!\n"
     ]
    },
    {
     "name": "stderr",
     "output_type": "stream",
     "text": [
      "INFO:prophet:Disabling yearly seasonality. Run prophet with yearly_seasonality=True to override this.\n",
      "DEBUG:cmdstanpy:input tempfile: /tmp/tmpjwe29b1v/m9tt024j.json\n",
      "DEBUG:cmdstanpy:input tempfile: /tmp/tmpjwe29b1v/ycdau4yz.json\n",
      "DEBUG:cmdstanpy:idx 0\n",
      "DEBUG:cmdstanpy:running CmdStan, num_threads: None\n",
      "DEBUG:cmdstanpy:CmdStan args: ['/opt/conda/lib/python3.11/site-packages/prophet/stan_model/prophet_model.bin', 'random', 'seed=91295', 'data', 'file=/tmp/tmpjwe29b1v/m9tt024j.json', 'init=/tmp/tmpjwe29b1v/ycdau4yz.json', 'output', 'file=/tmp/tmpjwe29b1v/prophet_modellkxey0q8/prophet_model-20250822210137.csv', 'method=optimize', 'algorithm=lbfgs', 'iter=10000']\n",
      "21:01:37 - cmdstanpy - INFO - Chain [1] start processing\n",
      "INFO:cmdstanpy:Chain [1] start processing\n",
      "21:01:38 - cmdstanpy - INFO - Chain [1] done processing\n",
      "INFO:cmdstanpy:Chain [1] done processing\n"
     ]
    },
    {
     "name": "stdout",
     "output_type": "stream",
     "text": [
      "2025-08-17 12:30:00 2025-08-18 03:00:00\n",
      "2025-08-18 12:30:00 2025-08-19 03:00:00\n",
      "+-------------------+------------------+\n",
      "|                 ds|              yhat|\n",
      "+-------------------+------------------+\n",
      "|2025-08-17 12:30:00|2.9391255634646027|\n",
      "|2025-08-17 12:40:00|2.2854174769777535|\n",
      "|2025-08-17 12:50:00|1.7587626469510145|\n",
      "|2025-08-17 13:00:00|1.3533890879943278|\n",
      "|2025-08-17 13:10:00|1.0613541378644946|\n",
      "+-------------------+------------------+\n",
      "only showing top 5 rows\n",
      "\n",
      "Running for Walt Disney World Railroad - Main Street, U.S.A.\n",
      "No data for Walt Disney World Railroad - Main Street, U.S.A.!\n",
      "Running for Trick-or-Treat Locations at Mickey's Not-So-Scary Halloween Party\n",
      "No data for Trick-or-Treat Locations at Mickey's Not-So-Scary Halloween Party!\n",
      "Running for Under the Sea - Journey of The Little Mermaid\n",
      "Row(start_time=datetime.datetime(2025, 8, 16, 12, 30), end_time=datetime.datetime(2025, 8, 17, 3, 0))\n",
      "3cba0cb4-e2a6-402c-93ee-c11ffcb127ef\n",
      "Warm start from already trained model!\n"
     ]
    },
    {
     "name": "stderr",
     "output_type": "stream",
     "text": [
      "INFO:prophet:Disabling yearly seasonality. Run prophet with yearly_seasonality=True to override this.\n",
      "DEBUG:cmdstanpy:input tempfile: /tmp/tmpjwe29b1v/umwt2cao.json\n",
      "DEBUG:cmdstanpy:input tempfile: /tmp/tmpjwe29b1v/860lrv73.json\n",
      "DEBUG:cmdstanpy:idx 0\n",
      "DEBUG:cmdstanpy:running CmdStan, num_threads: None\n",
      "DEBUG:cmdstanpy:CmdStan args: ['/opt/conda/lib/python3.11/site-packages/prophet/stan_model/prophet_model.bin', 'random', 'seed=99262', 'data', 'file=/tmp/tmpjwe29b1v/umwt2cao.json', 'init=/tmp/tmpjwe29b1v/860lrv73.json', 'output', 'file=/tmp/tmpjwe29b1v/prophet_modeldaq1ow34/prophet_model-20250822210156.csv', 'method=optimize', 'algorithm=lbfgs', 'iter=10000']\n",
      "21:01:56 - cmdstanpy - INFO - Chain [1] start processing\n",
      "INFO:cmdstanpy:Chain [1] start processing\n",
      "21:01:56 - cmdstanpy - INFO - Chain [1] done processing\n",
      "INFO:cmdstanpy:Chain [1] done processing\n"
     ]
    },
    {
     "name": "stdout",
     "output_type": "stream",
     "text": [
      "2025-08-17 12:30:00 2025-08-18 03:00:00\n",
      "2025-08-18 12:30:00 2025-08-19 03:00:00\n",
      "+-------------------+------------------+\n",
      "|                 ds|              yhat|\n",
      "+-------------------+------------------+\n",
      "|2025-08-17 12:30:00|2.3410785509416314|\n",
      "|2025-08-17 12:40:00|1.6697075126632832|\n",
      "|2025-08-17 12:50:00|1.1258212307935374|\n",
      "|2025-08-17 13:00:00|0.7054032032884301|\n",
      "|2025-08-17 13:10:00|0.4041799195711029|\n",
      "+-------------------+------------------+\n",
      "only showing top 5 rows\n",
      "\n",
      "Running for Swiss Family Treehouse\n",
      "No data for Swiss Family Treehouse!\n",
      "Running for Buzz Lightyear's Space Ranger Spin\n",
      "Row(start_time=datetime.datetime(2025, 8, 3, 12, 30), end_time=datetime.datetime(2025, 8, 4, 3, 0))\n",
      "72c7343a-f7fb-4f66-95df-c91016de7338\n",
      "Warm start from already trained model!\n"
     ]
    },
    {
     "name": "stderr",
     "output_type": "stream",
     "text": [
      "INFO:prophet:Disabling yearly seasonality. Run prophet with yearly_seasonality=True to override this.\n",
      "INFO:prophet:Disabling weekly seasonality. Run prophet with weekly_seasonality=True to override this.\n",
      "DEBUG:cmdstanpy:input tempfile: /tmp/tmpjwe29b1v/euj12nun.json\n",
      "DEBUG:cmdstanpy:input tempfile: /tmp/tmpjwe29b1v/9nk7e5lz.json\n",
      "DEBUG:cmdstanpy:idx 0\n",
      "DEBUG:cmdstanpy:running CmdStan, num_threads: None\n",
      "DEBUG:cmdstanpy:CmdStan args: ['/opt/conda/lib/python3.11/site-packages/prophet/stan_model/prophet_model.bin', 'random', 'seed=85881', 'data', 'file=/tmp/tmpjwe29b1v/euj12nun.json', 'init=/tmp/tmpjwe29b1v/9nk7e5lz.json', 'output', 'file=/tmp/tmpjwe29b1v/prophet_modela9my_2g5/prophet_model-20250822210212.csv', 'method=optimize', 'algorithm=lbfgs', 'iter=10000']\n",
      "21:02:12 - cmdstanpy - INFO - Chain [1] start processing\n",
      "INFO:cmdstanpy:Chain [1] start processing\n",
      "21:02:12 - cmdstanpy - INFO - Chain [1] done processing\n",
      "INFO:cmdstanpy:Chain [1] done processing\n"
     ]
    },
    {
     "name": "stdout",
     "output_type": "stream",
     "text": [
      "2025-08-17 12:30:00 2025-08-18 03:00:00\n",
      "2025-08-18 12:30:00 2025-08-19 03:00:00\n",
      "+-------------------+-----------------+\n",
      "|                 ds|             yhat|\n",
      "+-------------------+-----------------+\n",
      "|2025-08-17 12:30:00|39.72299471579611|\n",
      "|2025-08-17 12:40:00| 38.9428958139596|\n",
      "|2025-08-17 12:50:00|38.72376428757381|\n",
      "|2025-08-17 13:00:00|39.01889884243501|\n",
      "|2025-08-17 13:10:00|39.77461678057744|\n",
      "+-------------------+-----------------+\n",
      "only showing top 5 rows\n",
      "\n",
      "Running for Big Thunder Mountain Railroad\n",
      "No data for Big Thunder Mountain Railroad!\n",
      "Running for The Many Adventures of Winnie the Pooh\n",
      "Row(start_time=datetime.datetime(2025, 8, 16, 12, 30), end_time=datetime.datetime(2025, 8, 17, 3, 0))\n",
      "0d94ad60-72f0-4551-83a6-ebaecdd89737\n",
      "Warm start from already trained model!\n"
     ]
    },
    {
     "name": "stderr",
     "output_type": "stream",
     "text": [
      "INFO:prophet:Disabling yearly seasonality. Run prophet with yearly_seasonality=True to override this.\n",
      "DEBUG:cmdstanpy:input tempfile: /tmp/tmpjwe29b1v/3xdleg4h.json\n",
      "DEBUG:cmdstanpy:input tempfile: /tmp/tmpjwe29b1v/pj5vm7o4.json\n",
      "DEBUG:cmdstanpy:idx 0\n",
      "DEBUG:cmdstanpy:running CmdStan, num_threads: None\n",
      "DEBUG:cmdstanpy:CmdStan args: ['/opt/conda/lib/python3.11/site-packages/prophet/stan_model/prophet_model.bin', 'random', 'seed=93149', 'data', 'file=/tmp/tmpjwe29b1v/3xdleg4h.json', 'init=/tmp/tmpjwe29b1v/pj5vm7o4.json', 'output', 'file=/tmp/tmpjwe29b1v/prophet_modeljvuubyc5/prophet_model-20250822210231.csv', 'method=optimize', 'algorithm=lbfgs', 'iter=10000']\n",
      "21:02:31 - cmdstanpy - INFO - Chain [1] start processing\n",
      "INFO:cmdstanpy:Chain [1] start processing\n",
      "21:02:32 - cmdstanpy - INFO - Chain [1] done processing\n",
      "INFO:cmdstanpy:Chain [1] done processing\n"
     ]
    },
    {
     "name": "stdout",
     "output_type": "stream",
     "text": [
      "2025-08-17 12:30:00 2025-08-18 03:00:00\n",
      "2025-08-18 12:30:00 2025-08-19 03:00:00\n",
      "+-------------------+------------------+\n",
      "|                 ds|              yhat|\n",
      "+-------------------+------------------+\n",
      "|2025-08-17 12:30:00|19.082626574200034|\n",
      "|2025-08-17 12:40:00| 19.46207465542698|\n",
      "|2025-08-17 12:50:00|19.952361725344367|\n",
      "|2025-08-17 13:00:00|20.542433049722455|\n",
      "|2025-08-17 13:10:00|21.219247755107038|\n",
      "+-------------------+------------------+\n",
      "only showing top 5 rows\n",
      "\n",
      "Running for Space Mountain\n",
      "Row(start_time=datetime.datetime(2025, 8, 16, 12, 30), end_time=datetime.datetime(2025, 8, 17, 3, 0))\n",
      "b2260923-9315-40fd-9c6b-44dd811dbe64\n",
      "Warm start from already trained model!\n"
     ]
    },
    {
     "name": "stderr",
     "output_type": "stream",
     "text": [
      "INFO:prophet:Disabling yearly seasonality. Run prophet with yearly_seasonality=True to override this.\n",
      "DEBUG:cmdstanpy:input tempfile: /tmp/tmpjwe29b1v/_2jsn8jx.json\n",
      "DEBUG:cmdstanpy:input tempfile: /tmp/tmpjwe29b1v/b6858uxl.json\n",
      "DEBUG:cmdstanpy:idx 0\n",
      "DEBUG:cmdstanpy:running CmdStan, num_threads: None\n",
      "DEBUG:cmdstanpy:CmdStan args: ['/opt/conda/lib/python3.11/site-packages/prophet/stan_model/prophet_model.bin', 'random', 'seed=17273', 'data', 'file=/tmp/tmpjwe29b1v/_2jsn8jx.json', 'init=/tmp/tmpjwe29b1v/b6858uxl.json', 'output', 'file=/tmp/tmpjwe29b1v/prophet_model4nhm31xy/prophet_model-20250822210247.csv', 'method=optimize', 'algorithm=lbfgs', 'iter=10000']\n",
      "21:02:47 - cmdstanpy - INFO - Chain [1] start processing\n",
      "INFO:cmdstanpy:Chain [1] start processing\n",
      "21:02:47 - cmdstanpy - INFO - Chain [1] done processing\n",
      "INFO:cmdstanpy:Chain [1] done processing\n"
     ]
    },
    {
     "name": "stdout",
     "output_type": "stream",
     "text": [
      "2025-08-17 12:30:00 2025-08-18 03:00:00\n",
      "2025-08-18 12:30:00 2025-08-19 03:00:00\n",
      "+-------------------+------------------+\n",
      "|                 ds|              yhat|\n",
      "+-------------------+------------------+\n",
      "|2025-08-17 12:30:00|17.511027346297553|\n",
      "|2025-08-17 12:40:00|16.489627744872628|\n",
      "|2025-08-17 12:50:00|15.980543198197253|\n",
      "|2025-08-17 13:00:00| 15.95021230235696|\n",
      "|2025-08-17 13:10:00|16.356693340255227|\n",
      "+-------------------+------------------+\n",
      "only showing top 5 rows\n",
      "\n",
      "Running for Walt Disney World Railroad - Fantasyland\n",
      "No data for Walt Disney World Railroad - Fantasyland!\n",
      "Running for Jungle Cruise\n",
      "No data for Jungle Cruise!\n",
      "Running for Walt Disney World Railroad - Frontierland\n",
      "No data for Walt Disney World Railroad - Frontierland!\n",
      "Running for Seven Dwarfs Mine Train\n",
      "Row(start_time=datetime.datetime(2025, 8, 16, 12, 30), end_time=datetime.datetime(2025, 8, 17, 3, 0))\n",
      "9d4d5229-7142-44b6-b4fb-528920969a2c\n",
      "Warm start from already trained model!\n"
     ]
    },
    {
     "name": "stderr",
     "output_type": "stream",
     "text": [
      "INFO:prophet:Disabling yearly seasonality. Run prophet with yearly_seasonality=True to override this.\n",
      "DEBUG:cmdstanpy:input tempfile: /tmp/tmpjwe29b1v/w40lg0_u.json\n",
      "DEBUG:cmdstanpy:input tempfile: /tmp/tmpjwe29b1v/o0u1bep8.json\n",
      "DEBUG:cmdstanpy:idx 0\n",
      "DEBUG:cmdstanpy:running CmdStan, num_threads: None\n",
      "DEBUG:cmdstanpy:CmdStan args: ['/opt/conda/lib/python3.11/site-packages/prophet/stan_model/prophet_model.bin', 'random', 'seed=11750', 'data', 'file=/tmp/tmpjwe29b1v/w40lg0_u.json', 'init=/tmp/tmpjwe29b1v/o0u1bep8.json', 'output', 'file=/tmp/tmpjwe29b1v/prophet_modelbuquryns/prophet_model-20250822210307.csv', 'method=optimize', 'algorithm=lbfgs', 'iter=10000']\n",
      "21:03:07 - cmdstanpy - INFO - Chain [1] start processing\n",
      "INFO:cmdstanpy:Chain [1] start processing\n",
      "21:03:07 - cmdstanpy - INFO - Chain [1] done processing\n",
      "INFO:cmdstanpy:Chain [1] done processing\n"
     ]
    },
    {
     "name": "stdout",
     "output_type": "stream",
     "text": [
      "2025-08-17 12:30:00 2025-08-18 03:00:00\n",
      "2025-08-18 12:30:00 2025-08-19 03:00:00\n",
      "+-------------------+------------------+\n",
      "|                 ds|              yhat|\n",
      "+-------------------+------------------+\n",
      "|2025-08-17 12:30:00| 44.85679978913472|\n",
      "|2025-08-17 12:40:00| 43.97573831332035|\n",
      "|2025-08-17 12:50:00|43.128727906847665|\n",
      "|2025-08-17 13:00:00|42.373855352641954|\n",
      "|2025-08-17 13:10:00| 41.75841967221421|\n",
      "+-------------------+------------------+\n",
      "only showing top 5 rows\n",
      "\n",
      "Running for Walt Disney's Carousel of Progress\n",
      "Row(start_time=datetime.datetime(2025, 8, 16, 12, 30), end_time=datetime.datetime(2025, 8, 17, 3, 0))\n",
      "8183f3f2-1b59-4b9c-b634-6a863bdf8d84\n",
      "Warm start from already trained model!\n",
      "Training a complete new model after failling!\n"
     ]
    },
    {
     "name": "stderr",
     "output_type": "stream",
     "text": [
      "INFO:prophet:Disabling yearly seasonality. Run prophet with yearly_seasonality=True to override this.\n"
     ]
    },
    {
     "name": "stdout",
     "output_type": "stream",
     "text": [
      "2025-08-17 12:30:00 2025-08-18 03:00:00\n",
      "2025-08-18 12:30:00 2025-08-19 03:00:00\n",
      "+-------------------+----+\n",
      "|                 ds|yhat|\n",
      "+-------------------+----+\n",
      "|2025-08-17 12:30:00| 5.0|\n",
      "|2025-08-17 12:40:00| 5.0|\n",
      "|2025-08-17 12:50:00| 5.0|\n",
      "|2025-08-17 13:00:00| 5.0|\n",
      "|2025-08-17 13:10:00| 5.0|\n",
      "+-------------------+----+\n",
      "only showing top 5 rows\n",
      "\n",
      "Running for Enchanted Tales with Belle\n",
      "No data for Enchanted Tales with Belle!\n",
      "Running for Haunted Mansion\n",
      "No data for Haunted Mansion!\n",
      "Running for Peter Pan's Flight\n",
      "Row(start_time=datetime.datetime(2025, 8, 16, 12, 30), end_time=datetime.datetime(2025, 8, 17, 3, 0))\n",
      "86a41273-5f15-4b54-93b6-829f140e5161\n",
      "Warm start from already trained model!\n"
     ]
    },
    {
     "name": "stderr",
     "output_type": "stream",
     "text": [
      "INFO:prophet:Disabling yearly seasonality. Run prophet with yearly_seasonality=True to override this.\n",
      "DEBUG:cmdstanpy:input tempfile: /tmp/tmpjwe29b1v/hmuzj33b.json\n",
      "DEBUG:cmdstanpy:input tempfile: /tmp/tmpjwe29b1v/srzjc6k_.json\n",
      "DEBUG:cmdstanpy:idx 0\n",
      "DEBUG:cmdstanpy:running CmdStan, num_threads: None\n",
      "DEBUG:cmdstanpy:CmdStan args: ['/opt/conda/lib/python3.11/site-packages/prophet/stan_model/prophet_model.bin', 'random', 'seed=26289', 'data', 'file=/tmp/tmpjwe29b1v/hmuzj33b.json', 'init=/tmp/tmpjwe29b1v/srzjc6k_.json', 'output', 'file=/tmp/tmpjwe29b1v/prophet_model8bs1zpdv/prophet_model-20250822210354.csv', 'method=optimize', 'algorithm=lbfgs', 'iter=10000']\n",
      "21:03:54 - cmdstanpy - INFO - Chain [1] start processing\n",
      "INFO:cmdstanpy:Chain [1] start processing\n",
      "21:03:54 - cmdstanpy - INFO - Chain [1] done processing\n",
      "INFO:cmdstanpy:Chain [1] done processing\n"
     ]
    },
    {
     "name": "stdout",
     "output_type": "stream",
     "text": [
      "2025-08-17 12:30:00 2025-08-18 03:00:00\n",
      "2025-08-18 12:30:00 2025-08-19 03:00:00\n",
      "+-------------------+------------------+\n",
      "|                 ds|              yhat|\n",
      "+-------------------+------------------+\n",
      "|2025-08-17 12:30:00|32.206207911105466|\n",
      "|2025-08-17 12:40:00| 31.34370282461595|\n",
      "|2025-08-17 12:50:00|30.764569306456835|\n",
      "|2025-08-17 13:00:00|30.451079063861812|\n",
      "|2025-08-17 13:10:00|30.381659786391108|\n",
      "+-------------------+------------------+\n",
      "only showing top 5 rows\n",
      "\n",
      "Running for Prince Charming Regal Carrousel\n",
      "Row(start_time=datetime.datetime(2025, 8, 16, 12, 30), end_time=datetime.datetime(2025, 8, 17, 3, 0))\n",
      "273ddb8d-e7b5-4e34-8657-1113f49262a5\n",
      "Warm start from already trained model!\n"
     ]
    },
    {
     "name": "stderr",
     "output_type": "stream",
     "text": [
      "INFO:prophet:Disabling yearly seasonality. Run prophet with yearly_seasonality=True to override this.\n",
      "DEBUG:cmdstanpy:input tempfile: /tmp/tmpjwe29b1v/75p4owi_.json\n",
      "DEBUG:cmdstanpy:input tempfile: /tmp/tmpjwe29b1v/mg_nn601.json\n",
      "DEBUG:cmdstanpy:idx 0\n",
      "DEBUG:cmdstanpy:running CmdStan, num_threads: None\n",
      "DEBUG:cmdstanpy:CmdStan args: ['/opt/conda/lib/python3.11/site-packages/prophet/stan_model/prophet_model.bin', 'random', 'seed=14525', 'data', 'file=/tmp/tmpjwe29b1v/75p4owi_.json', 'init=/tmp/tmpjwe29b1v/mg_nn601.json', 'output', 'file=/tmp/tmpjwe29b1v/prophet_modelqa2dcgin/prophet_model-20250822210410.csv', 'method=optimize', 'algorithm=lbfgs', 'iter=10000']\n",
      "21:04:10 - cmdstanpy - INFO - Chain [1] start processing\n",
      "INFO:cmdstanpy:Chain [1] start processing\n",
      "21:04:11 - cmdstanpy - INFO - Chain [1] done processing\n",
      "INFO:cmdstanpy:Chain [1] done processing\n"
     ]
    },
    {
     "name": "stdout",
     "output_type": "stream",
     "text": [
      "2025-08-17 12:30:00 2025-08-18 03:00:00\n",
      "2025-08-18 12:30:00 2025-08-19 03:00:00\n",
      "+-------------------+-----------------+\n",
      "|                 ds|             yhat|\n",
      "+-------------------+-----------------+\n",
      "|2025-08-17 12:30:00|5.715212612501074|\n",
      "|2025-08-17 12:40:00|5.893777975328749|\n",
      "|2025-08-17 12:50:00|6.008961622023449|\n",
      "|2025-08-17 13:00:00|6.075644288414796|\n",
      "|2025-08-17 13:10:00|6.107982883235648|\n",
      "+-------------------+-----------------+\n",
      "only showing top 5 rows\n",
      "\n",
      "Running for Trick-or-Treat Locations at Disney After Hours Boo Bash\n",
      "No data for Trick-or-Treat Locations at Disney After Hours Boo Bash!\n",
      "datalake_layer/universal_epic_universe/entity_type=attraction/\n",
      "Running for Fyre Drill\n",
      "No data for Fyre Drill!\n",
      "Running for Yoshi's Adventure™\n",
      "No data for Yoshi's Adventure™!\n",
      "Running for Mine-Cart Madness™\n",
      "No data for Mine-Cart Madness™!\n",
      "Running for Harry Potter and the Battle at the Ministry™\n",
      "No data for Harry Potter and the Battle at the Ministry™!\n",
      "Running for Dragon Racer's Rally\n",
      "No data for Dragon Racer's Rally!\n",
      "Running for Curse of the Werewolf\n",
      "No data for Curse of the Werewolf!\n",
      "Running for Hiccup Wing Glider\n",
      "No data for Hiccup Wing Glider!\n",
      "Running for Constellation Carousel\n",
      "No data for Constellation Carousel!\n",
      "Running for Mario Kart™: Bowser's Challenge\n",
      "No data for Mario Kart™: Bowser's Challenge!\n",
      "Running for Stardust Racers\n",
      "No data for Stardust Racers!\n",
      "Running for Monsters Unchained: The Frankenstein Experiment\n",
      "No data for Monsters Unchained: The Frankenstein Experiment!\n",
      "Running for Bowser Jr. Challenge\n",
      "No data for Bowser Jr. Challenge!\n",
      "datalake_layer/universal_islands_of_adventure/entity_type=attraction/\n",
      "Running for Jurassic World VelociCoaster\n",
      "No data for Jurassic World VelociCoaster!\n",
      "Running for Jurassic Park River Adventure™\n",
      "No data for Jurassic Park River Adventure™!\n",
      "Running for The Amazing Adventures of Spider-Man®\n",
      "No data for The Amazing Adventures of Spider-Man®!\n",
      "Running for Harry Potter and the Forbidden Journey™\n",
      "No data for Harry Potter and the Forbidden Journey™!\n",
      "Running for Flight of the Hippogriff™\n",
      "No data for Flight of the Hippogriff™!\n",
      "Running for Hogwarts™ Express - Hogsmeade™ Station\n",
      "No data for Hogwarts™ Express - Hogsmeade™ Station!\n",
      "Running for Caro-Seuss-el™\n",
      "No data for Caro-Seuss-el™!\n",
      "Running for The High in the Sky Seuss Trolley Train Ride!™\n",
      "No data for The High in the Sky Seuss Trolley Train Ride!™!\n",
      "Running for Pteranodon Flyers™\n",
      "No data for Pteranodon Flyers™!\n",
      "Running for The Incredible Hulk Coaster®\n",
      "No data for The Incredible Hulk Coaster®!\n",
      "Running for The Cat in The Hat™\n",
      "No data for The Cat in The Hat™!\n",
      "Running for If I Ran The Zoo™\n",
      "No data for If I Ran The Zoo™!\n",
      "Running for Camp Jurassic™\n",
      "No data for Camp Jurassic™!\n",
      "Running for Storm Force Accelatron®\n",
      "No data for Storm Force Accelatron®!\n",
      "Running for Dudley Do-Right's Ripsaw Falls®\n",
      "No data for Dudley Do-Right's Ripsaw Falls®!\n",
      "Running for Skull Island: Reign of Kong™\n",
      "No data for Skull Island: Reign of Kong™!\n",
      "Running for Me Ship, The Olive®\n",
      "No data for Me Ship, The Olive®!\n",
      "Running for Jurassic Park Discovery Center™\n",
      "No data for Jurassic Park Discovery Center™!\n",
      "Running for Doctor Doom's Fearfall®\n",
      "No data for Doctor Doom's Fearfall®!\n",
      "Running for Popeye & Bluto's Bilge-Rat Barges®\n",
      "No data for Popeye & Bluto's Bilge-Rat Barges®!\n",
      "Running for Hagrid's Magical Creatures Motorbike Adventure™\n",
      "No data for Hagrid's Magical Creatures Motorbike Adventure™!\n",
      "Running for One Fish, Two Fish, Red Fish, Blue Fish™\n",
      "No data for One Fish, Two Fish, Red Fish, Blue Fish™!\n",
      "datalake_layer/universal_studios_florida/entity_type=attraction/\n",
      "Running for Illumination's Villain-Con Minion Blast\n",
      "No data for Illumination's Villain-Con Minion Blast!\n",
      "Running for Revenge of the Mummy™\n",
      "No data for Revenge of the Mummy™!\n",
      "Running for Race Through New York Starring Jimmy Fallon™\n",
      "No data for Race Through New York Starring Jimmy Fallon™!\n",
      "Running for Hogwarts™ Express - King's Cross Station\n",
      "No data for Hogwarts™ Express - King's Cross Station!\n",
      "Running for Kang & Kodos' Twirl 'n' Hurl\n",
      "No data for Kang & Kodos' Twirl 'n' Hurl!\n",
      "Running for MEN IN BLACK™ Alien Attack!™\n",
      "No data for MEN IN BLACK™ Alien Attack!™!\n",
      "Running for Hogwarts™ Express - First Train\n",
      "No data for Hogwarts™ Express - First Train!\n",
      "Running for Trolls Trollercoaster\n",
      "No data for Trolls Trollercoaster!\n",
      "Running for Hollywood Rip Ride Rockit™\n",
      "No data for Hollywood Rip Ride Rockit™!\n",
      "Running for TRANSFORMERS™: The Ride-3D\n",
      "No data for TRANSFORMERS™: The Ride-3D!\n",
      "Running for Despicable Me Minion Mayhem™\n",
      "No data for Despicable Me Minion Mayhem™!\n",
      "Running for Harry Potter and the Escape from Gringotts™\n",
      "No data for Harry Potter and the Escape from Gringotts™!\n",
      "Running for Illumination Theater\n",
      "No data for Illumination Theater!\n",
      "Running for E.T. Adventure™\n",
      "No data for E.T. Adventure™!\n",
      "Running for The Simpsons Ride™\n",
      "No data for The Simpsons Ride™!\n",
      "Running for Fast & Furious - Supercharged™\n",
      "No data for Fast & Furious - Supercharged™!\n"
     ]
    }
   ],
   "source": [
    "schema = StructType([\n",
    "    StructField(\"extracted_at_time\", TimestampType(), False),\n",
    "    StructField(\"wait_time\", FloatType(), False),\n",
    "    StructField(\"was_predicted\", IntegerType(), False),\n",
    "    StructField(\"entity_id\", StringType(), False)\n",
    "])\n",
    "spark.createDataFrame([], schema).write.jdbc(url=DB_URL, table=f\"themeparkwizard.predictions_table\", mode='overwrite', properties=PROPERTIES_CUSTOM)\n",
    "\n",
    "for path in glob('datalake_layer/*'):\n",
    "    path_to_read = path+'/entity_type=attraction/'\n",
    "    print(path_to_read)\n",
    "    df = spark.read.orc(path_to_read).cache()\n",
    "\n",
    "    attractions = [r.name for r in df.select('name').distinct().collect()]\n",
    "    for att in attractions:\n",
    "        # df.show(5)\n",
    "        # att = re.escape(att)\n",
    "        print(f'Running for {att}')\n",
    "        df_attraction = df.where(df.name == att)\\\n",
    "                            .where(\"queue.STANDBY.waitTime is not null\")\\\n",
    "                            .withColumn('start_time', min_hour(col('operatingHours')))\\\n",
    "                            .withColumn('end_time', max_hour(col('operatingHours')))\\\n",
    "                            .filter(col('extracted_at_time').between(col('start_time'), col('end_time'))).cache()\n",
    "        if df_attraction.isEmpty():\n",
    "            print(f'No data for {att}!')\n",
    "            continue\n",
    "\n",
    "        # Get inferior and superir limits for this attraction\n",
    "        limits = df_attraction.select(max('start_time').alias('start_time'), max('end_time').alias('end_time'))\\\n",
    "                                .limit(1)\\\n",
    "                                .collect()[0]\n",
    "        # Get entity/attraction id\n",
    "        entity_id = df_attraction.select('id').limit(1).collect()[0][0]\n",
    "\n",
    "        print(limits)\n",
    "        print(entity_id)\n",
    "        df_attraction = df_attraction.select('extracted_at_time', 'queue.STANDBY.waitTime', 'extracted_at')\n",
    "        df_attraction.createOrReplaceTempView('current_table')\n",
    "        df_attraction = spark.sql(\"\"\"\n",
    "        WITH enrich_data AS (\n",
    "            SELECT\n",
    "                cast(floor(try_divide(extracted_at, 600))*600 as timestamp) as extracted_at_time,\n",
    "                AVG(waitTime) as waitTime\n",
    "            FROM current_table\n",
    "            GROUP BY 1\n",
    "            UNION ALL\n",
    "            SELECT\n",
    "                extracted_at_time,\n",
    "                waitTime\n",
    "            FROM current_table\n",
    "        )\n",
    "        SELECT \n",
    "            ed.*,\n",
    "            year(extracted_at_time) as year,\n",
    "            month(extracted_at_time) as month,\n",
    "            dayofweek(extracted_at_time) as dayofweek,\n",
    "            hour(extracted_at_time) as hour,\n",
    "            minute(extracted_at_time) as minute,\n",
    "            5 as floor,\n",
    "            400 as cap\n",
    "        FROM enrich_data ed\n",
    "        ORDER BY ed.extracted_at_time DESC\n",
    "        \"\"\")\n",
    "\n",
    "        df_attraction = df_attraction.drop('extracted_at')\\\n",
    "                                    .withColumnRenamed('extracted_at_time', 'ds')\\\n",
    "                                    .withColumnRenamed('waitTime', 'y')\n",
    "        df_attraction.createOrReplaceTempView('current_table')\n",
    "        # df_attraction.orderBy('ds', ascending=False).show(25)\n",
    "\n",
    "        # Build model\n",
    "        model = training_model(path, att, df_attraction)\n",
    "\n",
    "        st = datetime(start_predict.year, start_predict.month, start_predict.day, limits.start_time.hour, limits.start_time.minute)\n",
    "        et = datetime(start_predict.year, start_predict.month, start_predict.day, limits.end_time.hour, limits.end_time.minute)\n",
    "        if et < st:\n",
    "            et += timedelta(days=1)\n",
    "        filter_list_str = []\n",
    "        for i in range(DAYS_TO_PREDICT):\n",
    "            print(st, et)\n",
    "            scol = st.strftime(\"%Y-%m-%d %H:%M:%S\")\n",
    "            ecol = et.strftime(\"%Y-%m-%d %H:%M:%S\")\n",
    "            filter_list_str.append(f\"ds BETWEEN '{scol}' AND '{ecol}'\")\n",
    "            # period_to_predict = period_to_predict.withColumn(scol, lit(st).cast(TimestampType()))\\\n",
    "            #                                     .withColumn(ecol, lit(et).cast(TimestampType()))\\\n",
    "                                                \n",
    "            st += timedelta(days=1)\n",
    "            et += timedelta(days=1)\n",
    "        period_to_predict_filtered = period_to_predict.where(' OR '.join(filter_list_str))\n",
    "\n",
    "        predicted_df = spark.createDataFrame(model.predict(period_to_predict_filtered.toPandas()))\n",
    "        predicted_df.select('ds', 'yhat').show(5)\n",
    "        predicted_df.createOrReplaceTempView('predicted_table')\n",
    "        res = spark.sql(\"\"\"\n",
    "        SELECT\n",
    "            ds as extracted_at_time,\n",
    "            y as wait_time,\n",
    "            0 as was_predicted\n",
    "        FROM current_table\n",
    "        UNION ALL\n",
    "        SELECT\n",
    "            ds as extracted_at_time,\n",
    "            y as wait_time,\n",
    "            1 as was_predicted\n",
    "        FROM (SELECT ds, y, ROW_NUMBER() OVER (ORDER BY ds DESC) as rn FROM current_table)\n",
    "        WHERE rn = 1\n",
    "        UNION ALL\n",
    "        SELECT\n",
    "            ds as extracted_at_time,\n",
    "            yhat as wait_time,\n",
    "            1 as was_predicted\n",
    "        FROM predicted_table\n",
    "        \"\"\").withColumn('entity_id', lit(entity_id))\\\n",
    "            .withColumn('wait_time', when(col('wait_time') <= 5, 5).otherwise(col('wait_time')))\n",
    "        res.show(5)\n",
    "        # res.write.saveAsTable(\"predictions_table_tmp\", partitionBy=['extracted_at_time'], mode='append')\n",
    "        res.write.option(\"truncate\", True).jdbc(url=DB_URL, table=f\"themeparkwizard.predictions_table\", mode='append', properties=PROPERTIES_CUSTOM)\n",
    "        \n",
    "        # res.select('ds', lit(1).alias('was_predicted'), 'yhat').show(60)\n",
    "        # break\n",
    "        \n",
    "        df_attraction.unpersist()\n",
    "    # break\n",
    "    df.unpersist()\n",
    "# final_df = spark.read.table(\"predictions_table_tmp\").orderBy('extracted_at_time')\n",
    "# final_df.write.jdbc(url=DB_URL, table=f\"themeparkwizard.predictions_table\", mode='overwrite', properties=PROPERTIES_CUSTOM)"
   ]
  },
  {
   "cell_type": "code",
   "execution_count": null,
   "id": "935ebea0-a717-4dfc-b7d0-36a73e46aecc",
   "metadata": {
    "execution": {
     "iopub.status.busy": "2025-08-22T20:28:35.153387Z",
     "iopub.status.idle": "2025-08-22T20:28:35.154651Z",
     "shell.execute_reply": "2025-08-22T20:28:35.154110Z",
     "shell.execute_reply.started": "2025-08-22T20:28:35.154055Z"
    }
   },
   "outputs": [],
   "source": [
    "# Finish session\n",
    "spark.stop()"
   ]
  },
  {
   "cell_type": "code",
   "execution_count": null,
   "id": "6dbd0bbf-9b91-438c-9c88-afe9603f73c5",
   "metadata": {
    "execution": {
     "iopub.status.busy": "2025-08-22T20:28:35.159377Z",
     "iopub.status.idle": "2025-08-22T20:28:35.160534Z",
     "shell.execute_reply": "2025-08-22T20:28:35.159934Z",
     "shell.execute_reply.started": "2025-08-22T20:28:35.159885Z"
    }
   },
   "outputs": [],
   "source": [
    "%pip list"
   ]
  },
  {
   "cell_type": "code",
   "execution_count": null,
   "id": "15cdad2a-d5c9-4265-a2de-c3e1ab1230bb",
   "metadata": {
    "execution": {
     "iopub.status.busy": "2025-08-22T20:28:35.165402Z",
     "iopub.status.idle": "2025-08-22T20:28:35.166649Z",
     "shell.execute_reply": "2025-08-22T20:28:35.166060Z",
     "shell.execute_reply.started": "2025-08-22T20:28:35.166012Z"
    }
   },
   "outputs": [],
   "source": [
    "# df_dl = spark.read.orc('datalake_layer/epcot')\n",
    "\n",
    "# # df_dl.printSchema()"
   ]
  },
  {
   "cell_type": "code",
   "execution_count": null,
   "id": "8d86a1bb-0939-429c-a587-ae793016e4a5",
   "metadata": {
    "execution": {
     "iopub.status.busy": "2025-08-22T20:28:35.173432Z",
     "iopub.status.idle": "2025-08-22T20:28:35.175397Z",
     "shell.execute_reply": "2025-08-22T20:28:35.174846Z",
     "shell.execute_reply.started": "2025-08-22T20:28:35.174788Z"
    }
   },
   "outputs": [],
   "source": [
    "# df_dl.createOrReplaceTempView('datalake_table')\n",
    "# test_df = spark.sql(\"\"\"\n",
    "# SELECT \n",
    "#     extracted_date,\n",
    "#     name AS attraction_name, \n",
    "#     AVG(queue.STANDBY.waitTime) AS avg_standby_waittime\n",
    "# FROM datalake_table\n",
    "# WHERE entity_type = 'ATTRACTION' AND queue.STANDBY.waitTime is not null\n",
    "# GROUP BY 1, 2\n",
    "# ORDER BY 1\n",
    "# \"\"\")\n",
    "# test_df.printSchema()\n",
    "# test_df.write.jdbc(url=DB_URL, table=\"themeparkwizard.agg_avg_time_epcot\", mode='overwrite', properties=PROPERTIES_CUSTOM)"
   ]
  },
  {
   "cell_type": "code",
   "execution_count": null,
   "id": "9ae35efe-d369-4439-a179-b224245d3a73",
   "metadata": {
    "execution": {
     "iopub.status.busy": "2025-08-22T20:28:35.179514Z",
     "iopub.status.idle": "2025-08-22T20:28:35.180839Z",
     "shell.execute_reply": "2025-08-22T20:28:35.180312Z",
     "shell.execute_reply.started": "2025-08-22T20:28:35.180258Z"
    }
   },
   "outputs": [],
   "source": [
    "# INTERVAL_OF_MINUTES = 60 * 15"
   ]
  },
  {
   "cell_type": "code",
   "execution_count": null,
   "id": "61eac097-57c7-4704-81ca-63f99927b253",
   "metadata": {
    "execution": {
     "iopub.status.busy": "2025-08-22T20:28:35.188611Z",
     "iopub.status.idle": "2025-08-22T20:28:35.189714Z",
     "shell.execute_reply": "2025-08-22T20:28:35.189314Z",
     "shell.execute_reply.started": "2025-08-22T20:28:35.189260Z"
    }
   },
   "outputs": [],
   "source": [
    "# rest_df = spark.sql(f\"\"\"\n",
    "# WITH wait_by_party AS (\n",
    "#     SELECT\n",
    "#         extracted_date,\n",
    "#         date_format(cast(floor(try_divide(extracted_at, {INTERVAL_OF_MINUTES}))*{INTERVAL_OF_MINUTES} as timestamp), 'HH:mm') as time_of_the_day, --extracted_date,\n",
    "#         name AS attraction_name,\n",
    "#         CASE \n",
    "#         WHEN da_exp.partySize <= 2 THEN\n",
    "#             'Small group (<= 2)'\n",
    "#         WHEN da_exp.partySize > 2 AND da_exp.partySize <= 4 THEN\n",
    "#             'Medium group (3 and 4)'\n",
    "#         WHEN da_exp.partySize > 4 AND da_exp.partySize <= 6 THEN\n",
    "#             'Medium group (5 ant 6)'\n",
    "#         WHEN da_exp.partySize > 6 THEN\n",
    "#             'Big group (> 6)'\n",
    "#         END as party_size,\n",
    "#         COALESCE(AVG(da_exp.waitTime), 0) as avg_wait_time,\n",
    "#         STDDEV(da_exp.waitTime) AS stddev_wait_time\n",
    "#     FROM datalake_table\n",
    "#     LATERAL VIEW EXPLODE(diningAvailability) as da_exp\n",
    "#     WHERE entity_type = 'SHOW' --AND name = 'Garden Grill Restaurant'\n",
    "#     GROUP BY 1,2,3,4\n",
    "# )\n",
    "# SELECT \n",
    "#     *\n",
    "# FROM wait_by_party\n",
    "# ORDER BY 1, 2, 3, 4\n",
    "# \"\"\").show(50, truncate=False)"
   ]
  },
  {
   "cell_type": "code",
   "execution_count": null,
   "id": "15293ff6-31b4-4250-9bcc-0c1843c526be",
   "metadata": {
    "execution": {
     "iopub.status.busy": "2025-08-22T20:28:35.194508Z",
     "iopub.status.idle": "2025-08-22T20:28:35.195641Z",
     "shell.execute_reply": "2025-08-22T20:28:35.195167Z",
     "shell.execute_reply.started": "2025-08-22T20:28:35.195120Z"
    }
   },
   "outputs": [],
   "source": [
    "# rest_df.printSchema()\n",
    "# rest_df.write.jdbc(url=DB_URL, table=\"themeparkwizard.restaurant_wait_time_epcot\", mode='overwrite', properties=PROPERTIES_CUSTOM)"
   ]
  },
  {
   "cell_type": "code",
   "execution_count": null,
   "id": "7a4fdfeb-9dc6-4c86-8bfc-9705632c1b71",
   "metadata": {},
   "outputs": [],
   "source": []
  }
 ],
 "metadata": {
  "kernelspec": {
   "display_name": "Python 3 (ipykernel)",
   "language": "python",
   "name": "python3"
  },
  "language_info": {
   "codemirror_mode": {
    "name": "ipython",
    "version": 3
   },
   "file_extension": ".py",
   "mimetype": "text/x-python",
   "name": "python",
   "nbconvert_exporter": "python",
   "pygments_lexer": "ipython3",
   "version": "3.11.6"
  }
 },
 "nbformat": 4,
 "nbformat_minor": 5
}
