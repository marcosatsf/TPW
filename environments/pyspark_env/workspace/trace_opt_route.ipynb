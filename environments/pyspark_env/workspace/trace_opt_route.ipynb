{
 "cells": [
  {
   "cell_type": "markdown",
   "id": "21566461-a179-4df7-8621-803834840d6f",
   "metadata": {
    "execution": {
     "iopub.execute_input": "2025-08-14T01:50:29.265571Z",
     "iopub.status.busy": "2025-08-14T01:50:29.262146Z",
     "iopub.status.idle": "2025-08-14T01:50:29.284097Z",
     "shell.execute_reply": "2025-08-14T01:50:29.280097Z",
     "shell.execute_reply.started": "2025-08-14T01:50:29.265255Z"
    }
   },
   "source": [
    "# Trace route\n",
    "\n",
    "This script is responsible trace an optimized route!"
   ]
  },
  {
   "cell_type": "code",
   "execution_count": 1,
   "id": "8865e3e4-ebdf-4f82-98ab-64dcf73ba133",
   "metadata": {
    "ExecuteTime": {
     "end_time": "2025-08-22T05:08:46.484192Z",
     "start_time": "2025-08-22T05:08:46.471196Z"
    },
    "execution": {
     "iopub.execute_input": "2025-08-22T06:19:29.866384Z",
     "iopub.status.busy": "2025-08-22T06:19:29.865840Z",
     "iopub.status.idle": "2025-08-22T06:19:29.894057Z",
     "shell.execute_reply": "2025-08-22T06:19:29.888577Z",
     "shell.execute_reply.started": "2025-08-22T06:19:29.866340Z"
    }
   },
   "outputs": [],
   "source": [
    "# SET CONSTANTS\n",
    "INTERVAL_BY_SECONDS_PRED = 60*10\n",
    "DAYS_TO_PREDICT = 2"
   ]
  },
  {
   "cell_type": "code",
   "execution_count": 2,
   "id": "616739f8-d03f-4abe-b895-d4aa1dd7c063",
   "metadata": {
    "execution": {
     "iopub.execute_input": "2025-08-22T06:19:29.900855Z",
     "iopub.status.busy": "2025-08-22T06:19:29.900234Z",
     "iopub.status.idle": "2025-08-22T06:19:38.157377Z",
     "shell.execute_reply": "2025-08-22T06:19:38.153489Z",
     "shell.execute_reply.started": "2025-08-22T06:19:29.900810Z"
    }
   },
   "outputs": [
    {
     "name": "stdout",
     "output_type": "stream",
     "text": [
      "Requirement already satisfied: psycopg2-binary in /opt/conda/lib/python3.11/site-packages (2.9.10)\n",
      "Note: you may need to restart the kernel to use updated packages.\n"
     ]
    }
   ],
   "source": [
    "%pip install psycopg2-binary"
   ]
  },
  {
   "cell_type": "code",
   "execution_count": 3,
   "id": "df6a8586-716f-479a-9ed2-505e0361fc87",
   "metadata": {
    "ExecuteTime": {
     "end_time": "2025-08-22T05:08:49.156009Z",
     "start_time": "2025-08-22T05:08:49.110374Z"
    },
    "execution": {
     "iopub.execute_input": "2025-08-22T06:19:38.173029Z",
     "iopub.status.busy": "2025-08-22T06:19:38.167099Z",
     "iopub.status.idle": "2025-08-22T06:19:38.459608Z",
     "shell.execute_reply": "2025-08-22T06:19:38.449230Z",
     "shell.execute_reply.started": "2025-08-22T06:19:38.172843Z"
    }
   },
   "outputs": [
    {
     "data": {
      "text/html": [
       "<style>pre { white-space: pre !important; }</style>"
      ],
      "text/plain": [
       "<IPython.core.display.HTML object>"
      ]
     },
     "metadata": {},
     "output_type": "display_data"
    }
   ],
   "source": [
    "from IPython.core.display import HTML\n",
    "display(HTML(\"<style>pre { white-space: pre !important; }</style>\"))"
   ]
  },
  {
   "cell_type": "code",
   "execution_count": 4,
   "id": "0bf447ba-f45d-4867-a2c2-6760b2cdbaf5",
   "metadata": {
    "ExecuteTime": {
     "end_time": "2025-08-22T05:11:59.610823Z",
     "start_time": "2025-08-22T05:11:59.415225Z"
    },
    "execution": {
     "iopub.execute_input": "2025-08-22T06:19:38.465854Z",
     "iopub.status.busy": "2025-08-22T06:19:38.464736Z",
     "iopub.status.idle": "2025-08-22T06:19:52.566442Z",
     "shell.execute_reply": "2025-08-22T06:19:52.562774Z",
     "shell.execute_reply.started": "2025-08-22T06:19:38.465777Z"
    }
   },
   "outputs": [],
   "source": [
    "from pyspark.sql import SparkSession\n",
    "from pyspark.conf import SparkConf\n",
    "from pyspark.sql.functions import explode, from_unixtime, col, to_date, sum, avg, udf, lit, date_trunc, when, max\n",
    "from pyspark.sql.types import DateType, TimestampType, StructType, StructField, IntegerType, FloatType, StringType\n",
    "\n",
    "import requests\n",
    "import json\n",
    "from collections import defaultdict\n",
    "import math\n",
    "import random\n",
    "import os\n",
    "import re\n",
    "import string\n",
    "from glob import glob\n",
    "from datetime import datetime, timedelta, date, tzinfo, timezone\n",
    "import psycopg2\n",
    "\n",
    "DB_URL = \"jdbc:postgresql://postgres:5432/themeparkwizard\"\n",
    "PROPERTIES_CUSTOM = {\"user\": os.environ['POSTGRES_USER'],\"password\": os.environ['POSTGRES_PASSWORD'], \"driver\": \"org.postgresql.Driver\"}\n",
    "\n",
    "spark = SparkSession.builder \\\n",
    "    .appName(\"MetricPredict\") \\\n",
    "    .config(\"spark.jars\", \"jars/postgresql-42.7.7.jar\") \\\n",
    "    .config(\"spark.sql.sources.partitionOverwriteMode\", \"dynamic\") \\\n",
    "    .getOrCreate()"
   ]
  },
  {
   "cell_type": "code",
   "execution_count": 5,
   "id": "3859b4a2-74fc-425e-adc9-395692c81c48",
   "metadata": {
    "ExecuteTime": {
     "end_time": "2025-08-22T05:12:00.500533Z",
     "start_time": "2025-08-22T05:12:00.440222Z"
    },
    "execution": {
     "iopub.execute_input": "2025-08-22T06:19:52.574016Z",
     "iopub.status.busy": "2025-08-22T06:19:52.571867Z",
     "iopub.status.idle": "2025-08-22T06:19:52.664891Z",
     "shell.execute_reply": "2025-08-22T06:19:52.661740Z",
     "shell.execute_reply.started": "2025-08-22T06:19:52.573877Z"
    }
   },
   "outputs": [],
   "source": [
    "conn = psycopg2.connect(\n",
    "        host=\"postgres\",\n",
    "        port='5432',\n",
    "        database=\"themeparkwizard\",\n",
    "        user=os.environ['POSTGRES_USER'],\n",
    "        password=os.environ['POSTGRES_PASSWORD']\n",
    "    )"
   ]
  },
  {
   "cell_type": "code",
   "execution_count": 6,
   "id": "7c7d8e45-c68c-46e0-be36-162efbba78de",
   "metadata": {
    "ExecuteTime": {
     "end_time": "2025-08-22T01:06:38.623163Z",
     "start_time": "2025-08-22T01:06:35.097424Z"
    },
    "execution": {
     "iopub.execute_input": "2025-08-22T06:19:52.670269Z",
     "iopub.status.busy": "2025-08-22T06:19:52.668153Z",
     "iopub.status.idle": "2025-08-22T06:19:55.999091Z",
     "shell.execute_reply": "2025-08-22T06:19:55.996501Z",
     "shell.execute_reply.started": "2025-08-22T06:19:52.670187Z"
    }
   },
   "outputs": [],
   "source": [
    "with conn.cursor() as cur:\n",
    "    cur.execute(\"\"\"SELECT distinct id FROM themeparkwizard.dim_park_entity\"\"\")\n",
    "    park_id_list = cur.fetchall()\n",
    "    predicted_data = {}\n",
    "    for park_id in park_id_list:\n",
    "        cur.execute(f\"\"\"\n",
    "    with number_row as (\n",
    "        select\n",
    "            entity_id,\n",
    "            name,\n",
    "            entity_name,\n",
    "            latitude,\n",
    "            longitude,\n",
    "            wait_time,\n",
    "            extracted_at_time,\n",
    "            rating,\n",
    "            row_number() over (partition by entity_id order by extracted_at_time) as rn\n",
    "        from themeparkwizard.predictions_table pt\n",
    "        left join themeparkwizard.dim_park_entity dpe using(entity_id)\n",
    "        where was_predicted = 1 and dpe.id = '{park_id[0]}'\n",
    "    ),\n",
    "    avg_by_entity AS (\n",
    "        SELECT\n",
    "            entity_id,\n",
    "            AVG(avg_standby_waittime) as alltime_avg_waittime\n",
    "        FROM themeparkwizard.agg_avg_time\n",
    "        GROUP BY 1\n",
    "    ),\n",
    "    first_group as (\n",
    "        select extracted_at_time,\n",
    "               wait_time,\n",
    "               entity_name,\n",
    "               latitude,\n",
    "               longitude,\n",
    "               name,\n",
    "               rating,\n",
    "               alltime_avg_waittime\n",
    "        from number_row\n",
    "                 left join avg_by_entity\n",
    "                           using (entity_id)\n",
    "        where rn <> 1\n",
    "        order by extracted_at_time, entity_name\n",
    "    )\n",
    "    select\n",
    "        extracted_at_time,\n",
    "        a.entity_name as src_node,\n",
    "        b.entity_name as dst_node,\n",
    "        SQRT(POWER((b.latitude - a.latitude)*111, 2) + POWER((b.longitude - a.longitude)*111, 2)) AS euclidean_distance,\n",
    "        b.wait_time,\n",
    "        b.alltime_avg_waittime,\n",
    "        b.rating\n",
    "    from first_group a\n",
    "    full join first_group b\n",
    "    using(extracted_at_time, name)\n",
    "    order by 1,2,3\n",
    "        \"\"\")\n",
    "    # extracted_at_time datetime 0\n",
    "    # source_node (A) string 1\n",
    "    # destination_node (B) string 2\n",
    "    # euclidean distance (from A to B) float 3\n",
    "    # wait time (queue B) float 4\n",
    "    # all time wait time (queue B) float 5\n",
    "    # rating (B) float 6\n",
    "        predicted_data[park_id[0]] = cur.fetchall()"
   ]
  },
  {
   "cell_type": "code",
   "execution_count": 7,
   "id": "61d802c4fadfe571",
   "metadata": {
    "ExecuteTime": {
     "end_time": "2025-08-22T01:06:38.732397Z",
     "start_time": "2025-08-22T01:06:38.720299Z"
    },
    "execution": {
     "iopub.execute_input": "2025-08-22T06:19:56.009544Z",
     "iopub.status.busy": "2025-08-22T06:19:56.007950Z",
     "iopub.status.idle": "2025-08-22T06:19:56.026463Z",
     "shell.execute_reply": "2025-08-22T06:19:56.022987Z",
     "shell.execute_reply.started": "2025-08-22T06:19:56.009481Z"
    }
   },
   "outputs": [
    {
     "name": "stdout",
     "output_type": "stream",
     "text": [
      "75ea578a-adc8-4116-a54d-dccb60765ef9->45056\n",
      "eb3f4560-2383-4a36-9152-6b3e5ed6bc57->0\n",
      "bc4005c5-8c7e-41d7-b349-cdddf1796427->0\n",
      "47f90d2c-e191-4239-a466-5892ef59a88b->12312\n",
      "288747d1-8b4f-4a64-867e-ea7c9b27bad8->9882\n",
      "1c84a229-8862-4648-9c71-378ddd2c7693->2432\n",
      "267615cc-8943-4c2a-ae2c-5da728ca591f->0\n"
     ]
    }
   ],
   "source": [
    "# len(predicted_data)\n",
    "for k,v in predicted_data.items():\n",
    "    print(k, len(v), sep='->')"
   ]
  },
  {
   "cell_type": "code",
   "execution_count": 8,
   "id": "676c3bec371a0f1f",
   "metadata": {
    "ExecuteTime": {
     "end_time": "2025-08-22T01:06:39.366906Z",
     "start_time": "2025-08-22T01:06:38.909386Z"
    },
    "execution": {
     "iopub.execute_input": "2025-08-22T06:19:56.032487Z",
     "iopub.status.busy": "2025-08-22T06:19:56.030971Z",
     "iopub.status.idle": "2025-08-22T06:19:56.055135Z",
     "shell.execute_reply": "2025-08-22T06:19:56.051755Z",
     "shell.execute_reply.started": "2025-08-22T06:19:56.032407Z"
    }
   },
   "outputs": [
    {
     "data": {
      "text/plain": [
       "[(datetime.datetime(2025, 8, 17, 11, 30),\n",
       "  'Avatar Flight of Passage',\n",
       "  'Avatar Flight of Passage',\n",
       "  0.0,\n",
       "  88.52124,\n",
       "  70.63686475267764,\n",
       "  4.8),\n",
       " (datetime.datetime(2025, 8, 17, 11, 30),\n",
       "  'Avatar Flight of Passage',\n",
       "  'DINOSAUR',\n",
       "  0.4119463787656751,\n",
       "  5.1826177,\n",
       "  22.41886353685162,\n",
       "  4.5),\n",
       " (datetime.datetime(2025, 8, 17, 11, 30),\n",
       "  'Avatar Flight of Passage',\n",
       "  'Expedition Everest - Legend of the Forbidden Mountain',\n",
       "  0.6208606520284927,\n",
       "  1.0,\n",
       "  31.603592562012242,\n",
       "  4.8)]"
      ]
     },
     "execution_count": 8,
     "metadata": {},
     "output_type": "execute_result"
    }
   ],
   "source": [
    "predicted_data['1c84a229-8862-4648-9c71-378ddd2c7693'][:3]"
   ]
  },
  {
   "cell_type": "code",
   "execution_count": 9,
   "id": "4279fb6928396bd",
   "metadata": {
    "ExecuteTime": {
     "end_time": "2025-08-22T02:32:56.879592Z",
     "start_time": "2025-08-22T02:32:56.746992Z"
    },
    "execution": {
     "iopub.execute_input": "2025-08-22T06:19:56.059458Z",
     "iopub.status.busy": "2025-08-22T06:19:56.058371Z",
     "iopub.status.idle": "2025-08-22T06:19:56.101368Z",
     "shell.execute_reply": "2025-08-22T06:19:56.098563Z",
     "shell.execute_reply.started": "2025-08-22T06:19:56.059378Z"
    }
   },
   "outputs": [],
   "source": [
    "def calculate_weight(rating: float, queue_i: float, dist: float, queue_avg: float):\n",
    "    value = 4**(10/rating)*(queue_i*dist)/queue_avg\n",
    "    return value, round(queue_i + 5, -1)\n",
    "\n",
    "def fill_time_matrix(matrix, len_a, bad_node):\n",
    "    new_matrix = []\n",
    "    for i in range(len_a):\n",
    "        new_matrix.append([None]*len_a)\n",
    "        for j in range(len_a):\n",
    "            try:\n",
    "                new_matrix[i][j] = matrix[i][j]\n",
    "            except IndexError:\n",
    "                new_matrix[i][j] = bad_node\n",
    "    return new_matrix\n",
    "\n",
    "def create_map_attr(query_result):\n",
    "    map_attr = defaultdict(dict)\n",
    "\n",
    "    for park_id in query_result:\n",
    "        end_creation = False\n",
    "        dest_node = ''\n",
    "        attr_idx = 0\n",
    "        for row in query_result[park_id]:\n",
    "        # Fill map_attractions with a symbol\n",
    "            for i in range(1,3):\n",
    "                if not row[i] in [k for k, _ in map_attr[park_id].values()]:\n",
    "                    key_map = ''.join(random.choices(string.ascii_uppercase, k=2))\n",
    "                    map_attr[park_id][key_map] = (row[i],attr_idx)\n",
    "                    attr_idx += 1\n",
    "            if row[1] != row[2] and not end_creation:\n",
    "                dest_node = row[2]\n",
    "                end_creation = True\n",
    "            if row[1] == dest_node:\n",
    "                break\n",
    "    return map_attr\n",
    "\n",
    "def create_cost_by_time(query_result, len_attr):\n",
    "    INF_MAX = math.inf\n",
    "    bad_node = (INF_MAX, 60*24*10)\n",
    "    cost_time = defaultdict(dict)\n",
    "    last_node = ''\n",
    "\n",
    "    for park_id in query_result:\n",
    "        tmp_range = []\n",
    "        for row in query_result[park_id]:\n",
    "            # Next row on matrix!\n",
    "            if last_node != row[1]:\n",
    "                if last_node != '':\n",
    "                    tmp_range.append(inner_tmp_range.copy())\n",
    "                last_node = row[1]\n",
    "                inner_tmp_range = []\n",
    "            # Checkout date matrix\n",
    "            if not cost_time[park_id].get(row[0]):\n",
    "                if tmp_range:\n",
    "                    cost_time[park_id][row[0]] = fill_time_matrix(tmp_range, len_attr[park_id], bad_node)\n",
    "                tmp_range = []\n",
    "            # Calculate cost\n",
    "            if row[1] == row[2]:\n",
    "                inner_tmp_range.append(bad_node)\n",
    "            else:\n",
    "                inner_tmp_range.append(calculate_weight(row[6],row[4],row[3],row[5]))\n",
    "    return cost_time"
   ]
  },
  {
   "cell_type": "code",
   "execution_count": 10,
   "id": "598a82da-37b2-4b0f-be7d-b78e91e3b1c0",
   "metadata": {
    "ExecuteTime": {
     "end_time": "2025-08-22T02:32:59.612802Z",
     "start_time": "2025-08-22T02:32:57.654205Z"
    },
    "execution": {
     "iopub.execute_input": "2025-08-22T06:19:56.107910Z",
     "iopub.status.busy": "2025-08-22T06:19:56.106942Z",
     "iopub.status.idle": "2025-08-22T06:19:56.565758Z",
     "shell.execute_reply": "2025-08-22T06:19:56.562961Z",
     "shell.execute_reply.started": "2025-08-22T06:19:56.107834Z"
    }
   },
   "outputs": [],
   "source": [
    "map_attractions = create_map_attr(predicted_data)\n",
    "len_attractions = {k:len(map_attractions[k]) for k in map_attractions}\n",
    "map_by_time = create_cost_by_time(predicted_data, len_attractions)\n"
   ]
  },
  {
   "cell_type": "code",
   "execution_count": 11,
   "id": "3a915fa24043b08a",
   "metadata": {
    "ExecuteTime": {
     "end_time": "2025-08-22T02:33:01.517157Z",
     "start_time": "2025-08-22T02:32:59.806223Z"
    },
    "execution": {
     "iopub.execute_input": "2025-08-22T06:19:56.570395Z",
     "iopub.status.busy": "2025-08-22T06:19:56.569216Z",
     "iopub.status.idle": "2025-08-22T06:19:56.591855Z",
     "shell.execute_reply": "2025-08-22T06:19:56.587994Z",
     "shell.execute_reply.started": "2025-08-22T06:19:56.570342Z"
    }
   },
   "outputs": [
    {
     "data": {
      "text/plain": [
       "[(datetime.datetime(2025, 8, 17, 11, 30),\n",
       "  'Avatar Flight of Passage',\n",
       "  'Avatar Flight of Passage',\n",
       "  0.0,\n",
       "  88.52124,\n",
       "  70.63686475267764,\n",
       "  4.8),\n",
       " (datetime.datetime(2025, 8, 17, 11, 30),\n",
       "  'Avatar Flight of Passage',\n",
       "  'DINOSAUR',\n",
       "  0.4119463787656751,\n",
       "  5.1826177,\n",
       "  22.41886353685162,\n",
       "  4.5),\n",
       " (datetime.datetime(2025, 8, 17, 11, 30),\n",
       "  'Avatar Flight of Passage',\n",
       "  'Expedition Everest - Legend of the Forbidden Mountain',\n",
       "  0.6208606520284927,\n",
       "  1.0,\n",
       "  31.603592562012242,\n",
       "  4.8)]"
      ]
     },
     "execution_count": 11,
     "metadata": {},
     "output_type": "execute_result"
    }
   ],
   "source": [
    "predicted_data['1c84a229-8862-4648-9c71-378ddd2c7693'][:3]"
   ]
  },
  {
   "cell_type": "code",
   "execution_count": 12,
   "id": "924e1731-634f-431c-8247-8b1b2ca4be3d",
   "metadata": {
    "ExecuteTime": {
     "end_time": "2025-08-22T02:33:02.278443Z",
     "start_time": "2025-08-22T02:33:02.210302Z"
    },
    "execution": {
     "iopub.execute_input": "2025-08-22T06:19:56.596877Z",
     "iopub.status.busy": "2025-08-22T06:19:56.595905Z",
     "iopub.status.idle": "2025-08-22T06:19:56.631682Z",
     "shell.execute_reply": "2025-08-22T06:19:56.627156Z",
     "shell.execute_reply.started": "2025-08-22T06:19:56.596798Z"
    }
   },
   "outputs": [
    {
     "data": {
      "text/plain": [
       "defaultdict(dict,\n",
       "            {'75ea578a-adc8-4116-a54d-dccb60765ef9': {'FG': ('Astro Orbiter',\n",
       "               0),\n",
       "              'XK': (\"Buzz Lightyear's Space Ranger Spin\", 1),\n",
       "              'NK': ('Dumbo the Flying Elephant', 2),\n",
       "              'TG': ('\"it\\'s a small world\"', 3),\n",
       "              'IU': ('Mad Tea Party', 4),\n",
       "              'UN': (\"Mickey's PhilharMagic\", 5),\n",
       "              'ZO': (\"Peter Pan's Flight\", 6),\n",
       "              'ID': ('Prince Charming Regal Carrousel', 7),\n",
       "              'TW': ('Seven Dwarfs Mine Train', 8),\n",
       "              'CF': ('Space Mountain', 9),\n",
       "              'NG': ('The Barnstormer', 10),\n",
       "              'KJ': ('The Many Adventures of Winnie the Pooh', 11),\n",
       "              'MH': ('Tomorrowland Speedway', 12),\n",
       "              'MN': ('Tomorrowland Transit Authority PeopleMover', 13),\n",
       "              'BP': ('Under the Sea - Journey of The Little Mermaid', 14),\n",
       "              'YW': (\"Walt Disney's Carousel of Progress\", 15)},\n",
       "             '47f90d2c-e191-4239-a466-5892ef59a88b': {'JJ': ('Frozen Ever After',\n",
       "               0),\n",
       "              'BC': ('Guardians of the Galaxy: Cosmic Rewind', 1),\n",
       "              'ZK': ('Living with the Land', 2),\n",
       "              'SG': ('Mission: SPACE', 3),\n",
       "              'XG': (\"Remy's Ratatouille Adventure\", 4),\n",
       "              'NS': (\"Soarin' Around the World\", 5),\n",
       "              'EO': ('Spaceship Earth', 6),\n",
       "              'VN': ('Test Track', 7),\n",
       "              'JX': ('The Seas with Nemo & Friends', 8)},\n",
       "             '288747d1-8b4f-4a64-867e-ea7c9b27bad8': {'MH': ('Alien Swirling Saucers',\n",
       "               0),\n",
       "              'YW': (\"Mickey & Minnie's Runaway Railway\", 1),\n",
       "              'HU': ('Millennium Falcon: Smugglers Run', 2),\n",
       "              'VW': (\"Rock 'n' Roller Coaster Starring Aerosmith\", 3),\n",
       "              'SD': ('Slinky Dog Dash', 4),\n",
       "              'TK': ('Star Tours – The Adventures Continue', 5),\n",
       "              'BU': ('Star Wars: Rise of the Resistance', 6),\n",
       "              'IL': ('The Twilight Zone Tower of Terror™', 7),\n",
       "              'GP': ('Toy Story Mania!', 8)},\n",
       "             '1c84a229-8862-4648-9c71-378ddd2c7693': {'YG': ('Avatar Flight of Passage',\n",
       "               0),\n",
       "              'ZL': ('DINOSAUR', 1),\n",
       "              'ZM': ('Expedition Everest - Legend of the Forbidden Mountain',\n",
       "               2),\n",
       "              'IF': (\"Na'vi River Journey\", 3)}})"
      ]
     },
     "execution_count": 12,
     "metadata": {},
     "output_type": "execute_result"
    }
   ],
   "source": [
    "map_attractions"
   ]
  },
  {
   "cell_type": "code",
   "execution_count": 13,
   "id": "b178e61474a2a06",
   "metadata": {
    "ExecuteTime": {
     "end_time": "2025-08-22T03:01:26.648649Z",
     "start_time": "2025-08-22T03:01:26.597453Z"
    },
    "execution": {
     "iopub.execute_input": "2025-08-22T06:19:56.636621Z",
     "iopub.status.busy": "2025-08-22T06:19:56.635341Z",
     "iopub.status.idle": "2025-08-22T06:19:56.660917Z",
     "shell.execute_reply": "2025-08-22T06:19:56.657094Z",
     "shell.execute_reply.started": "2025-08-22T06:19:56.636555Z"
    }
   },
   "outputs": [
    {
     "data": {
      "text/plain": [
       "[[(inf, 14400),\n",
       "  (2.0734203746683217, 10.0),\n",
       "  (0.35281686046200456, 10.0),\n",
       "  (0.031154141956775357, 10.0)],\n",
       " [(9.271466049514272, 90.0),\n",
       "  (inf, 14400),\n",
       "  (0.21095242182640433, 10.0),\n",
       "  (0.16977655532441008, 10.0)],\n",
       " [(13.97339254203222, 90.0),\n",
       "  (1.8684263935765935, 10.0),\n",
       "  (inf, 14400),\n",
       "  (0.2836661560590989, 10.0)],\n",
       " [(1.4657655901855842, 90.0),\n",
       "  (1.7863452310816772, 10.0),\n",
       "  (0.33697968724890964, 10.0),\n",
       "  (inf, 14400)]]"
      ]
     },
     "execution_count": 13,
     "metadata": {},
     "output_type": "execute_result"
    }
   ],
   "source": [
    "map_by_time['1c84a229-8862-4648-9c71-378ddd2c7693'][datetime(2025, 8, 17, 11, 40)]"
   ]
  },
  {
   "cell_type": "code",
   "execution_count": 14,
   "id": "43d48ead36e28947",
   "metadata": {
    "ExecuteTime": {
     "end_time": "2025-08-22T03:52:08.248809Z",
     "start_time": "2025-08-22T03:52:08.214171Z"
    },
    "execution": {
     "iopub.execute_input": "2025-08-22T06:19:56.667387Z",
     "iopub.status.busy": "2025-08-22T06:19:56.665595Z",
     "iopub.status.idle": "2025-08-22T06:19:56.691330Z",
     "shell.execute_reply": "2025-08-22T06:19:56.687694Z",
     "shell.execute_reply.started": "2025-08-22T06:19:56.667297Z"
    }
   },
   "outputs": [
    {
     "data": {
      "text/plain": [
       "[[(0.9786283937096293, 10.0),\n",
       "  (3.0059052871456076, 50.0),\n",
       "  (0.8060600673978527, 10.0),\n",
       "  (5.277188476128824, 40.0)],\n",
       " [(inf, 14400), (inf, 14400), (inf, 14400), (inf, 14400)],\n",
       " [(inf, 14400), (inf, 14400), (inf, 14400), (inf, 14400)],\n",
       " [(inf, 14400), (inf, 14400), (inf, 14400), (inf, 14400)]]"
      ]
     },
     "execution_count": 14,
     "metadata": {},
     "output_type": "execute_result"
    }
   ],
   "source": [
    "map_by_time['1c84a229-8862-4648-9c71-378ddd2c7693'][datetime(2025, 8, 17, 11, 30)]"
   ]
  },
  {
   "cell_type": "code",
   "execution_count": null,
   "id": "18ca1835-effa-4d8b-8e6c-e215e520eadd",
   "metadata": {},
   "outputs": [],
   "source": []
  },
  {
   "cell_type": "code",
   "execution_count": 15,
   "id": "d15592f7b42ec68c",
   "metadata": {
    "ExecuteTime": {
     "end_time": "2025-08-22T05:11:13.570050Z",
     "start_time": "2025-08-22T05:11:13.412005Z"
    },
    "execution": {
     "iopub.execute_input": "2025-08-22T06:19:56.702484Z",
     "iopub.status.busy": "2025-08-22T06:19:56.696527Z",
     "iopub.status.idle": "2025-08-22T06:19:56.807870Z",
     "shell.execute_reply": "2025-08-22T06:19:56.804591Z",
     "shell.execute_reply.started": "2025-08-22T06:19:56.701680Z"
    }
   },
   "outputs": [
    {
     "name": "stdout",
     "output_type": "stream",
     "text": [
      "['YG', 'ZL', 'ZM', 'IF']\n",
      "2025-08-17 11:30:00\n",
      "[['IF', 'ZL', 'YG', 'ZM'], ['YG', 'IF', 'ZM', 'ZL'], ['ZL', 'YG', 'IF', 'ZM'], ['IF', 'ZL', 'YG', 'ZM'], ['IF', 'ZL', 'ZM', 'YG'], ['YG', 'ZM', 'ZL', 'IF'], ['ZM', 'IF', 'ZL', 'YG'], ['ZM', 'IF', 'YG', 'ZL'], ['YG', 'IF', 'ZM', 'ZL'], ['ZM', 'IF', 'ZL', 'YG']]\n",
      "[inf, 6.904496298432806, inf, inf, inf, 2.8442630162988563, inf, inf, 6.904496298432806, inf] | 5 | [['YG', 'ZM', 'ZL', 'IF'], ['YG', 'IF', 'ZM', 'ZL'], ['YG', 'ZM', 'ZL', 'IF'], ['YG', 'IF', 'ZM', 'ZL'], ['YG', 'IF', 'ZM', 'ZL'], ['YG', 'ZM', 'ZL', 'IF'], ['YG', 'IF', 'ZM', 'ZL'], ['YG', 'ZM', 'ZL', 'IF'], ['YG', 'IF', 'ZM', 'ZL'], ['YG', 'ZM', 'ZL', 'IF']]\n",
      "Generation 1:\n",
      "Best Fitness to f(r, q, d) = 5\n",
      "Best individual is ['YG', 'ZM', 'ZL', 'IF']\n",
      "[2.8442630162988563, 6.904496298432806, 2.8442630162988563, 6.904496298432806, 6.904496298432806, 2.8442630162988563, 6.904496298432806, 2.8442630162988563, 6.904496298432806, 2.8442630162988563] | 0 | [['YG', 'ZM', 'ZL', 'IF'], ['YG', 'ZM', 'ZL', 'IF'], ['YG', 'ZM', 'ZL', 'IF'], ['YG', 'ZM', 'ZL', 'IF'], ['YG', 'ZM', 'ZL', 'IF'], ['YG', 'ZM', 'ZL', 'IF'], ['YG', 'ZM', 'ZL', 'IF'], ['YG', 'ZM', 'ZL', 'IF'], ['YG', 'ZM', 'ZL', 'IF'], ['YG', 'ZM', 'ZL', 'IF']]\n",
      "Generation 2:\n",
      "Best Fitness to f(r, q, d) = 0\n",
      "Best individual is ['YG', 'ZM', 'ZL', 'IF']\n",
      "[2.8442630162988563, 2.8442630162988563, 2.8442630162988563, 2.8442630162988563, 2.8442630162988563, 2.8442630162988563, 2.8442630162988563, 2.8442630162988563, 2.8442630162988563, 2.8442630162988563] | 0 | [['YG', 'ZM', 'ZL', 'IF'], ['YG', 'ZM', 'ZL', 'IF'], ['YG', 'ZM', 'ZL', 'IF'], ['YG', 'ZM', 'ZL', 'IF'], ['ZM', 'YG', 'ZL', 'IF'], ['IF', 'ZM', 'ZL', 'YG'], ['YG', 'ZM', 'ZL', 'IF'], ['YG', 'ZM', 'ZL', 'IF'], ['YG', 'ZM', 'ZL', 'IF'], ['YG', 'ZM', 'ZL', 'IF']]\n",
      "Generation 3:\n",
      "Best Fitness to f(r, q, d) = 0\n",
      "Best individual is ['YG', 'ZM', 'ZL', 'IF']\n",
      "[2.8442630162988563, 2.8442630162988563, 2.8442630162988563, 2.8442630162988563, inf, inf, 2.8442630162988563, 2.8442630162988563, 2.8442630162988563, 2.8442630162988563] | 0 | [['YG', 'ZM', 'ZL', 'IF'], ['YG', 'ZM', 'ZL', 'IF'], ['YG', 'ZM', 'ZL', 'IF'], ['YG', 'ZM', 'ZL', 'IF'], ['YG', 'ZM', 'ZL', 'IF'], ['YG', 'ZM', 'ZL', 'IF'], ['YG', 'ZM', 'ZL', 'IF'], ['YG', 'ZM', 'ZL', 'IF'], ['YG', 'ZM', 'ZL', 'IF'], ['YG', 'ZM', 'ZL', 'IF']]\n",
      "Generation 4:\n",
      "Best Fitness to f(r, q, d) = 0\n",
      "Best individual is ['YG', 'ZM', 'ZL', 'IF']\n",
      "[2.8442630162988563, 2.8442630162988563, 2.8442630162988563, 2.8442630162988563, 2.8442630162988563, 2.8442630162988563, 2.8442630162988563, 2.8442630162988563, 2.8442630162988563, 2.8442630162988563] | 0 | [['YG', 'ZM', 'ZL', 'IF'], ['YG', 'ZM', 'ZL', 'IF'], ['YG', 'ZM', 'ZL', 'IF'], ['YG', 'ZM', 'ZL', 'IF'], ['YG', 'ZM', 'ZL', 'IF'], ['YG', 'ZM', 'ZL', 'IF'], ['YG', 'ZM', 'ZL', 'IF'], ['YG', 'ZM', 'ZL', 'IF'], ['YG', 'ZM', 'ZL', 'IF'], ['YG', 'ZM', 'ZL', 'IF']]\n",
      "Generation 5:\n",
      "Best Fitness to f(r, q, d) = 0\n",
      "Best individual is ['YG', 'ZM', 'ZL', 'IF']\n",
      "[2.8442630162988563, 2.8442630162988563, 2.8442630162988563, 2.8442630162988563, 2.8442630162988563, 2.8442630162988563, 2.8442630162988563, 2.8442630162988563, 2.8442630162988563, 2.8442630162988563] | 0 | [['YG', 'ZM', 'ZL', 'IF'], ['YG', 'ZM', 'ZL', 'IF'], ['YG', 'ZM', 'ZL', 'IF'], ['YG', 'ZM', 'ZL', 'IF'], ['YG', 'ZM', 'ZL', 'IF'], ['YG', 'ZM', 'ZL', 'IF'], ['YG', 'ZM', 'ZL', 'IF'], ['YG', 'ZM', 'ZL', 'IF'], ['YG', 'ZM', 'ZL', 'IF'], ['YG', 'ZM', 'ZL', 'IF']]\n",
      "Generation 6:\n",
      "Best Fitness to f(r, q, d) = 0\n",
      "Best individual is ['YG', 'ZM', 'ZL', 'IF']\n",
      "[2.8442630162988563, 2.8442630162988563, 2.8442630162988563, 2.8442630162988563, 2.8442630162988563, 2.8442630162988563, 2.8442630162988563, 2.8442630162988563, 2.8442630162988563, 2.8442630162988563] | 0 | [['YG', 'ZM', 'ZL', 'IF'], ['YG', 'ZM', 'ZL', 'IF'], ['YG', 'ZM', 'ZL', 'IF'], ['YG', 'ZM', 'ZL', 'IF'], ['YG', 'ZM', 'ZL', 'IF'], ['YG', 'ZM', 'ZL', 'IF'], ['YG', 'ZM', 'ZL', 'IF'], ['YG', 'ZM', 'ZL', 'IF'], ['YG', 'ZM', 'ZL', 'IF'], ['YG', 'ZM', 'ZL', 'IF']]\n",
      "Generation 7:\n",
      "Best Fitness to f(r, q, d) = 0\n",
      "Best individual is ['YG', 'ZM', 'ZL', 'IF']\n",
      "[2.8442630162988563, 2.8442630162988563, 2.8442630162988563, 2.8442630162988563, 2.8442630162988563, 2.8442630162988563, 2.8442630162988563, 2.8442630162988563, 2.8442630162988563, 2.8442630162988563] | 0 | [['YG', 'ZM', 'ZL', 'IF'], ['YG', 'ZM', 'ZL', 'IF'], ['YG', 'ZM', 'ZL', 'IF'], ['YG', 'ZM', 'ZL', 'IF'], ['YG', 'ZM', 'ZL', 'IF'], ['YG', 'ZM', 'ZL', 'IF'], ['YG', 'ZM', 'ZL', 'IF'], ['YG', 'ZM', 'ZL', 'IF'], ['YG', 'ZM', 'ZL', 'IF'], ['YG', 'ZM', 'ZL', 'IF']]\n",
      "Generation 8:\n",
      "Best Fitness to f(r, q, d) = 0\n",
      "Best individual is ['YG', 'ZM', 'ZL', 'IF']\n",
      "[2.8442630162988563, 2.8442630162988563, 2.8442630162988563, 2.8442630162988563, 2.8442630162988563, 2.8442630162988563, 2.8442630162988563, 2.8442630162988563, 2.8442630162988563, 2.8442630162988563] | 0 | [['YG', 'ZM', 'ZL', 'IF'], ['YG', 'ZM', 'ZL', 'IF'], ['YG', 'ZM', 'ZL', 'IF'], ['YG', 'ZM', 'ZL', 'IF'], ['YG', 'ZM', 'ZL', 'IF'], ['YG', 'ZM', 'ZL', 'IF'], ['YG', 'ZM', 'ZL', 'IF'], ['YG', 'ZM', 'ZL', 'IF'], ['YG', 'ZM', 'ZL', 'IF'], ['YG', 'ZM', 'ZL', 'IF']]\n",
      "Generation 9:\n",
      "Best Fitness to f(r, q, d) = 0\n",
      "Best individual is ['YG', 'ZM', 'ZL', 'IF']\n",
      "[2.8442630162988563, 2.8442630162988563, 2.8442630162988563, 2.8442630162988563, 2.8442630162988563, 2.8442630162988563, 2.8442630162988563, 2.8442630162988563, 2.8442630162988563, 2.8442630162988563] | 0 | [['YG', 'ZM', 'ZL', 'IF'], ['YG', 'ZM', 'ZL', 'IF'], ['YG', 'ZM', 'ZL', 'IF'], ['YG', 'ZM', 'ZL', 'IF'], ['YG', 'ZM', 'ZL', 'IF'], ['YG', 'ZM', 'ZL', 'IF'], ['YG', 'ZM', 'ZL', 'IF'], ['YG', 'ZM', 'ZL', 'IF'], ['YG', 'ZM', 'ZL', 'IF'], ['YG', 'ZM', 'ZL', 'IF']]\n",
      "Generation 10:\n",
      "Best Fitness to f(r, q, d) = 0\n",
      "Best individual is ['YG', 'ZM', 'ZL', 'IF']\n"
     ]
    }
   ],
   "source": [
    "import genetic_algorithm_tour as gat\n",
    "\n",
    "POPULATION_SIZE = 10\n",
    "NUM_GENERATIONS = 30\n",
    "CROSSOVER_RATE = 0.8\n",
    "MUTATION_RATE = 0.01\n",
    "\n",
    "best_gene, best_cost = gat.genetic_algorithm(\n",
    "    pop_size=POPULATION_SIZE,\n",
    "    num_generations=10,\n",
    "    allele_map=map_attractions['1c84a229-8862-4648-9c71-378ddd2c7693'],\n",
    "    predicted_map=map_by_time['1c84a229-8862-4648-9c71-378ddd2c7693'],\n",
    "    crossover_rate=CROSSOVER_RATE,\n",
    "    mutation_rate=MUTATION_RATE\n",
    ")"
   ]
  },
  {
   "cell_type": "code",
   "execution_count": 16,
   "id": "b342002c-d6d0-443f-be51-1255e481bd54",
   "metadata": {
    "execution": {
     "iopub.execute_input": "2025-08-22T06:19:56.812498Z",
     "iopub.status.busy": "2025-08-22T06:19:56.811538Z",
     "iopub.status.idle": "2025-08-22T06:19:56.832905Z",
     "shell.execute_reply": "2025-08-22T06:19:56.829671Z",
     "shell.execute_reply.started": "2025-08-22T06:19:56.812415Z"
    }
   },
   "outputs": [
    {
     "name": "stdout",
     "output_type": "stream",
     "text": [
      "(['IH', 'OM', 'HI', 'LS'], ['LS', 'HI', 'OM', 'IH'])\n",
      "(['LS', 'OM', 'HI', 'IH'], ['HI', 'IH', 'OM', 'LS'])\n",
      "(['LS', 'OM', 'HI', 'IH'], ['HI', 'IH', 'LS', 'OM'])\n",
      "(['LS', 'IH', 'OM', 'HI'], ['HI', 'OM', 'IH', 'LS'])\n",
      "(['LS', 'OM', 'HI', 'IH'], ['HI', 'IH', 'OM', 'LS'])\n",
      "(['IH', 'OM', 'HI', 'LS'], ['LS', 'HI', 'OM', 'IH'])\n",
      "(['LS', 'IH', 'OM', 'HI'], ['HI', 'OM', 'IH', 'LS'])\n",
      "(['LS', 'OM', 'HI', 'IH'], ['HI', 'IH', 'OM', 'LS'])\n",
      "(['IH', 'OM', 'LS', 'HI'], ['OM', 'IH', 'HI', 'LS'])\n",
      "(['LS', 'OM', 'HI', 'IH'], ['HI', 'IH', 'OM', 'LS'])\n"
     ]
    }
   ],
   "source": [
    "for e in range(10):\n",
    "    print(gat.crossover(['HI', 'IH', 'OM', 'LS'], ['LS', 'OM', 'HI', 'IH']))"
   ]
  },
  {
   "cell_type": "code",
   "execution_count": 17,
   "id": "d1ac487a-f0a3-4792-a7fc-77e37c983726",
   "metadata": {
    "execution": {
     "iopub.execute_input": "2025-08-22T06:19:56.839933Z",
     "iopub.status.busy": "2025-08-22T06:19:56.838472Z",
     "iopub.status.idle": "2025-08-22T06:19:56.856907Z",
     "shell.execute_reply": "2025-08-22T06:19:56.851313Z",
     "shell.execute_reply.started": "2025-08-22T06:19:56.839857Z"
    }
   },
   "outputs": [
    {
     "name": "stdout",
     "output_type": "stream",
     "text": [
      "['HI', 'OM', 'IH']\n",
      "['IH', 'HI', 'OM']\n",
      "['OM', 'IH', 'HI']\n",
      "['OM', 'IH', 'HI']\n",
      "['HI', 'OM', 'IH']\n",
      "['HI', 'OM', 'IH']\n",
      "['HI', 'OM', 'IH']\n",
      "['IH', 'HI', 'OM']\n",
      "['OM', 'IH', 'HI']\n",
      "['HI', 'OM', 'IH']\n"
     ]
    }
   ],
   "source": [
    "for e in range(10):\n",
    "    print(gat.mutation(['HI', 'IH', 'OM']))"
   ]
  },
  {
   "cell_type": "code",
   "execution_count": null,
   "id": "fb910f26-e368-444e-9c98-a1efdf6bb8e6",
   "metadata": {},
   "outputs": [],
   "source": []
  },
  {
   "cell_type": "code",
   "execution_count": 18,
   "id": "a35e0ab9d7aeefb7",
   "metadata": {
    "ExecuteTime": {
     "end_time": "2025-08-22T03:32:06.332203Z",
     "start_time": "2025-08-22T03:32:06.275832Z"
    },
    "execution": {
     "iopub.execute_input": "2025-08-22T06:19:56.863326Z",
     "iopub.status.busy": "2025-08-22T06:19:56.862297Z",
     "iopub.status.idle": "2025-08-22T06:19:56.880272Z",
     "shell.execute_reply": "2025-08-22T06:19:56.876823Z",
     "shell.execute_reply.started": "2025-08-22T06:19:56.863253Z"
    }
   },
   "outputs": [],
   "source": [
    "# #preparing\n",
    "#\n",
    "# def remove_node_matrix(m, c_x, c_y):\n",
    "#     for e in range(len(m)):\n",
    "#         m[e].pop(y)\n",
    "#     m.pop(x)\n",
    "#\n",
    "#\n",
    "# initial_time = min([t for t in map_by_time['1c84a229-8862-4648-9c71-378ddd2c7693'].keys()])\n",
    "# code_map_list_sorted = [e[0] for e in sorted(map_attractions['1c84a229-8862-4648-9c71-378ddd2c7693'].items(), key=lambda al:al[1][1])]\n",
    "#\n",
    "# # Find initial node according to minimum cost\n",
    "# x, y, _ = gat.find_minimum(map_by_time['1c84a229-8862-4648-9c71-378ddd2c7693'][initial_time])\n",
    "# force_initial_node = code_map_list_sorted[x]\n",
    "#\n",
    "# for time in map_by_time['1c84a229-8862-4648-9c71-378ddd2c7693']:\n",
    "#     map_by_time['1c84a229-8862-4648-9c71-378ddd2c7693'][time] = remove_node_map(map_by_time['1c84a229-8862-4648-9c71-378ddd2c7693'][time], x, y)\n"
   ]
  },
  {
   "cell_type": "code",
   "execution_count": 19,
   "id": "935ebea0-a717-4dfc-b7d0-36a73e46aecc",
   "metadata": {
    "execution": {
     "iopub.execute_input": "2025-08-22T06:19:56.884921Z",
     "iopub.status.busy": "2025-08-22T06:19:56.884045Z",
     "iopub.status.idle": "2025-08-22T06:19:57.450000Z",
     "shell.execute_reply": "2025-08-22T06:19:57.448098Z",
     "shell.execute_reply.started": "2025-08-22T06:19:56.884849Z"
    }
   },
   "outputs": [],
   "source": [
    "# Finish session\n",
    "spark.stop()"
   ]
  },
  {
   "cell_type": "code",
   "execution_count": 20,
   "id": "6dbd0bbf-9b91-438c-9c88-afe9603f73c5",
   "metadata": {
    "execution": {
     "iopub.execute_input": "2025-08-22T06:19:57.453975Z",
     "iopub.status.busy": "2025-08-22T06:19:57.452980Z",
     "iopub.status.idle": "2025-08-22T06:20:01.323910Z",
     "shell.execute_reply": "2025-08-22T06:20:01.322139Z",
     "shell.execute_reply.started": "2025-08-22T06:19:57.453905Z"
    }
   },
   "outputs": [
    {
     "name": "stdout",
     "output_type": "stream",
     "text": [
      "Package                       Version\n",
      "----------------------------- ------------\n",
      "alembic                       1.12.0\n",
      "altair                        5.1.2\n",
      "anyio                         4.0.0\n",
      "argon2-cffi                   23.1.0\n",
      "argon2-cffi-bindings          21.2.0\n",
      "arrow                         1.3.0\n",
      "asttokens                     2.4.0\n",
      "async-generator               1.10\n",
      "async-lru                     2.0.4\n",
      "attrs                         23.1.0\n",
      "Babel                         2.13.0\n",
      "backcall                      0.2.0\n",
      "backports.functools-lru-cache 1.6.5\n",
      "beautifulsoup4                4.12.2\n",
      "bleach                        6.1.0\n",
      "blinker                       1.6.3\n",
      "bokeh                         3.3.0\n",
      "boltons                       23.0.0\n",
      "Bottleneck                    1.3.7\n",
      "Brotli                        1.1.0\n",
      "cached-property               1.5.2\n",
      "certifi                       2023.7.22\n",
      "certipy                       0.1.3\n",
      "cffi                          1.16.0\n",
      "charset-normalizer            3.3.0\n",
      "click                         8.1.7\n",
      "cloudpickle                   3.0.0\n",
      "cmdstanpy                     1.2.5\n",
      "colorama                      0.4.6\n",
      "comm                          0.1.4\n",
      "conda                         23.9.0\n",
      "conda-package-handling        2.2.0\n",
      "conda_package_streaming       0.9.0\n",
      "contourpy                     1.1.1\n",
      "cryptography                  41.0.4\n",
      "cycler                        0.12.1\n",
      "Cython                        3.0.4\n",
      "cytoolz                       0.12.2\n",
      "dask                          2023.10.0\n",
      "debugpy                       1.8.0\n",
      "decorator                     5.1.1\n",
      "defusedxml                    0.7.1\n",
      "dill                          0.3.7\n",
      "distributed                   2023.10.0\n",
      "entrypoints                   0.4\n",
      "et-xmlfile                    1.1.0\n",
      "exceptiongroup                1.1.3\n",
      "executing                     1.2.0\n",
      "fastjsonschema                2.18.1\n",
      "fonttools                     4.43.1\n",
      "fqdn                          1.5.1\n",
      "fsspec                        2023.9.2\n",
      "gitdb                         4.0.11\n",
      "GitPython                     3.1.40\n",
      "gmpy2                         2.1.2\n",
      "greenlet                      3.0.0\n",
      "h5py                          3.10.0\n",
      "holidays                      0.78\n",
      "idna                          3.4\n",
      "imagecodecs                   2023.9.18\n",
      "imageio                       2.31.5\n",
      "importlib-metadata            6.8.0\n",
      "importlib-resources           6.1.0\n",
      "ipykernel                     6.25.2\n",
      "ipympl                        0.9.3\n",
      "ipython                       8.16.1\n",
      "ipython-genutils              0.2.0\n",
      "ipywidgets                    8.1.1\n",
      "isoduration                   20.11.0\n",
      "jedi                          0.19.1\n",
      "Jinja2                        3.1.2\n",
      "joblib                        1.3.2\n",
      "json5                         0.9.14\n",
      "jsonpatch                     1.33\n",
      "jsonpointer                   2.4\n",
      "jsonschema                    4.19.1\n",
      "jsonschema-specifications     2023.7.1\n",
      "jupyter_client                8.4.0\n",
      "jupyter_core                  5.4.0\n",
      "jupyter-events                0.8.0\n",
      "jupyter-lsp                   2.2.0\n",
      "jupyter_server                2.8.0\n",
      "jupyter-server-mathjax        0.2.6\n",
      "jupyter_server_terminals      0.4.4\n",
      "jupyter-telemetry             0.1.0\n",
      "jupyterhub                    4.0.2\n",
      "jupyterlab                    4.0.7\n",
      "jupyterlab_execute_time       3.2.0\n",
      "jupyterlab-git                0.41.0\n",
      "jupyterlab-pygments           0.2.2\n",
      "jupyterlab_server             2.25.0\n",
      "jupyterlab-widgets            3.0.9\n",
      "kiwisolver                    1.4.5\n",
      "lazy_loader                   0.3\n",
      "libmambapy                    1.5.2\n",
      "llvmlite                      0.40.1\n",
      "locket                        1.0.0\n",
      "lz4                           4.3.2\n",
      "Mako                          1.2.4\n",
      "mamba                         1.5.2\n",
      "MarkupSafe                    2.1.3\n",
      "matplotlib                    3.8.0\n",
      "matplotlib-inline             0.1.6\n",
      "mistune                       3.0.1\n",
      "mpmath                        1.3.0\n",
      "msgpack                       1.0.6\n",
      "munkres                       1.1.4\n",
      "nbclassic                     1.0.0\n",
      "nbclient                      0.8.0\n",
      "nbconvert                     7.9.2\n",
      "nbdime                        3.2.1\n",
      "nbformat                      5.9.2\n",
      "nest-asyncio                  1.5.8\n",
      "networkx                      3.2\n",
      "notebook                      7.0.6\n",
      "notebook_shim                 0.2.3\n",
      "numba                         0.57.1\n",
      "numexpr                       2.8.7\n",
      "numpy                         1.24.4\n",
      "oauthlib                      3.2.2\n",
      "openpyxl                      3.1.2\n",
      "overrides                     7.4.0\n",
      "packaging                     23.2\n",
      "pamela                        1.1.0\n",
      "pandas                        2.0.3\n",
      "pandocfilters                 1.5.0\n",
      "parso                         0.8.3\n",
      "partd                         1.4.1\n",
      "patsy                         0.5.3\n",
      "pexpect                       4.8.0\n",
      "pickleshare                   0.7.5\n",
      "Pillow                        10.1.0\n",
      "pip                           23.3\n",
      "pkgutil_resolve_name          1.3.10\n",
      "platformdirs                  3.11.0\n",
      "pluggy                        1.3.0\n",
      "prometheus-client             0.17.1\n",
      "prompt-toolkit                3.0.39\n",
      "prophet                       1.1.7\n",
      "protobuf                      4.24.3\n",
      "psutil                        5.9.5\n",
      "psycopg2-binary               2.9.10\n",
      "ptyprocess                    0.7.0\n",
      "pure-eval                     0.2.2\n",
      "py-cpuinfo                    9.0.0\n",
      "pyarrow                       13.0.0\n",
      "pycosat                       0.6.6\n",
      "pycparser                     2.21\n",
      "pycurl                        7.45.1\n",
      "Pygments                      2.16.1\n",
      "PyJWT                         2.8.0\n",
      "pyOpenSSL                     23.2.0\n",
      "pyparsing                     3.1.1\n",
      "PySocks                       1.7.1\n",
      "pyspark                       3.5.0\n",
      "python-dateutil               2.8.2\n",
      "python-json-logger            2.0.7\n",
      "pytz                          2023.3.post1\n",
      "PyWavelets                    1.4.1\n",
      "PyYAML                        6.0.1\n",
      "pyzmq                         25.1.1\n",
      "referencing                   0.30.2\n",
      "requests                      2.31.0\n",
      "rfc3339-validator             0.1.4\n",
      "rfc3986-validator             0.1.1\n",
      "rpds-py                       0.10.6\n",
      "ruamel.yaml                   0.17.39\n",
      "ruamel.yaml.clib              0.2.7\n",
      "scikit-image                  0.22.0\n",
      "scikit-learn                  1.3.1\n",
      "scipy                         1.11.3\n",
      "seaborn                       0.13.0\n",
      "Send2Trash                    1.8.2\n",
      "setuptools                    68.2.2\n",
      "six                           1.16.0\n",
      "smmap                         5.0.0\n",
      "sniffio                       1.3.0\n",
      "sortedcontainers              2.4.0\n",
      "soupsieve                     2.5\n",
      "SQLAlchemy                    2.0.22\n",
      "stack-data                    0.6.2\n",
      "stanio                        0.5.1\n",
      "statsmodels                   0.14.0\n",
      "sympy                         1.12\n",
      "tables                        3.9.1\n",
      "tblib                         2.0.0\n",
      "terminado                     0.17.1\n",
      "threadpoolctl                 3.2.0\n",
      "tifffile                      2023.9.26\n",
      "tinycss2                      1.2.1\n",
      "tomli                         2.0.1\n",
      "toolz                         0.12.0\n",
      "tornado                       6.3.3\n",
      "tqdm                          4.66.1\n",
      "traitlets                     5.11.2\n",
      "truststore                    0.8.0\n",
      "types-python-dateutil         2.8.19.14\n",
      "typing_extensions             4.8.0\n",
      "typing-utils                  0.1.0\n",
      "tzdata                        2023.3\n",
      "uri-template                  1.3.0\n",
      "urllib3                       2.0.7\n",
      "wcwidth                       0.2.8\n",
      "webcolors                     1.13\n",
      "webencodings                  0.5.1\n",
      "websocket-client              1.6.4\n",
      "wheel                         0.41.2\n",
      "widgetsnbextension            4.0.9\n",
      "xlrd                          2.0.1\n",
      "xyzservices                   2023.10.0\n",
      "zict                          3.0.0\n",
      "zipp                          3.17.0\n",
      "zstandard                     0.21.0\n",
      "Note: you may need to restart the kernel to use updated packages.\n"
     ]
    }
   ],
   "source": [
    "%pip list"
   ]
  },
  {
   "cell_type": "code",
   "execution_count": 21,
   "id": "15cdad2a-d5c9-4265-a2de-c3e1ab1230bb",
   "metadata": {
    "execution": {
     "iopub.execute_input": "2025-08-22T06:20:01.326809Z",
     "iopub.status.busy": "2025-08-22T06:20:01.325925Z",
     "iopub.status.idle": "2025-08-22T06:20:01.333473Z",
     "shell.execute_reply": "2025-08-22T06:20:01.331708Z",
     "shell.execute_reply.started": "2025-08-22T06:20:01.326741Z"
    }
   },
   "outputs": [],
   "source": [
    "# df_dl = spark.read.orc('datalake_layer/epcot')\n",
    "\n",
    "# # df_dl.printSchema()"
   ]
  },
  {
   "cell_type": "code",
   "execution_count": 22,
   "id": "8d86a1bb-0939-429c-a587-ae793016e4a5",
   "metadata": {
    "execution": {
     "iopub.execute_input": "2025-08-22T06:20:01.342244Z",
     "iopub.status.busy": "2025-08-22T06:20:01.341030Z",
     "iopub.status.idle": "2025-08-22T06:20:01.350364Z",
     "shell.execute_reply": "2025-08-22T06:20:01.348286Z",
     "shell.execute_reply.started": "2025-08-22T06:20:01.342201Z"
    }
   },
   "outputs": [],
   "source": [
    "# df_dl.createOrReplaceTempView('datalake_table')\n",
    "# test_df = spark.sql(\"\"\"\n",
    "# SELECT \n",
    "#     extracted_date,\n",
    "#     name AS attraction_name, \n",
    "#     AVG(queue.STANDBY.waitTime) AS avg_standby_waittime\n",
    "# FROM datalake_table\n",
    "# WHERE entity_type = 'ATTRACTION' AND queue.STANDBY.waitTime is not null\n",
    "# GROUP BY 1, 2\n",
    "# ORDER BY 1\n",
    "# \"\"\")\n",
    "# test_df.printSchema()\n",
    "# test_df.write.jdbc(url=DB_URL, table=\"themeparkwizard.agg_avg_time_epcot\", mode='overwrite', properties=PROPERTIES_CUSTOM)"
   ]
  },
  {
   "cell_type": "code",
   "execution_count": 23,
   "id": "9ae35efe-d369-4439-a179-b224245d3a73",
   "metadata": {
    "execution": {
     "iopub.execute_input": "2025-08-22T06:20:01.354435Z",
     "iopub.status.busy": "2025-08-22T06:20:01.352917Z",
     "iopub.status.idle": "2025-08-22T06:20:01.363150Z",
     "shell.execute_reply": "2025-08-22T06:20:01.360281Z",
     "shell.execute_reply.started": "2025-08-22T06:20:01.354391Z"
    }
   },
   "outputs": [],
   "source": [
    "# INTERVAL_OF_MINUTES = 60 * 15"
   ]
  },
  {
   "cell_type": "code",
   "execution_count": 24,
   "id": "61eac097-57c7-4704-81ca-63f99927b253",
   "metadata": {
    "execution": {
     "iopub.execute_input": "2025-08-22T06:20:01.366407Z",
     "iopub.status.busy": "2025-08-22T06:20:01.365768Z",
     "iopub.status.idle": "2025-08-22T06:20:01.377987Z",
     "shell.execute_reply": "2025-08-22T06:20:01.375368Z",
     "shell.execute_reply.started": "2025-08-22T06:20:01.366353Z"
    }
   },
   "outputs": [],
   "source": [
    "# rest_df = spark.sql(f\"\"\"\n",
    "# WITH wait_by_party AS (\n",
    "#     SELECT\n",
    "#         extracted_date,\n",
    "#         date_format(cast(floor(try_divide(extracted_at, {INTERVAL_OF_MINUTES}))*{INTERVAL_OF_MINUTES} as timestamp), 'HH:mm') as time_of_the_day, --extracted_date,\n",
    "#         name AS attraction_name,\n",
    "#         CASE \n",
    "#         WHEN da_exp.partySize <= 2 THEN\n",
    "#             'Small group (<= 2)'\n",
    "#         WHEN da_exp.partySize > 2 AND da_exp.partySize <= 4 THEN\n",
    "#             'Medium group (3 and 4)'\n",
    "#         WHEN da_exp.partySize > 4 AND da_exp.partySize <= 6 THEN\n",
    "#             'Medium group (5 ant 6)'\n",
    "#         WHEN da_exp.partySize > 6 THEN\n",
    "#             'Big group (> 6)'\n",
    "#         END as party_size,\n",
    "#         COALESCE(AVG(da_exp.waitTime), 0) as avg_wait_time,\n",
    "#         STDDEV(da_exp.waitTime) AS stddev_wait_time\n",
    "#     FROM datalake_table\n",
    "#     LATERAL VIEW EXPLODE(diningAvailability) as da_exp\n",
    "#     WHERE entity_type = 'SHOW' --AND name = 'Garden Grill Restaurant'\n",
    "#     GROUP BY 1,2,3,4\n",
    "# )\n",
    "# SELECT \n",
    "#     *\n",
    "# FROM wait_by_party\n",
    "# ORDER BY 1, 2, 3, 4\n",
    "# \"\"\").show(50, truncate=False)"
   ]
  },
  {
   "cell_type": "code",
   "execution_count": 25,
   "id": "15293ff6-31b4-4250-9bcc-0c1843c526be",
   "metadata": {
    "execution": {
     "iopub.execute_input": "2025-08-22T06:20:01.381105Z",
     "iopub.status.busy": "2025-08-22T06:20:01.380494Z",
     "iopub.status.idle": "2025-08-22T06:20:01.392451Z",
     "shell.execute_reply": "2025-08-22T06:20:01.390103Z",
     "shell.execute_reply.started": "2025-08-22T06:20:01.381060Z"
    }
   },
   "outputs": [],
   "source": [
    "# rest_df.printSchema()\n",
    "# rest_df.write.jdbc(url=DB_URL, table=\"themeparkwizard.restaurant_wait_time_epcot\", mode='overwrite', properties=PROPERTIES_CUSTOM)"
   ]
  },
  {
   "cell_type": "code",
   "execution_count": null,
   "id": "7a4fdfeb-9dc6-4c86-8bfc-9705632c1b71",
   "metadata": {},
   "outputs": [],
   "source": []
  }
 ],
 "metadata": {
  "kernelspec": {
   "display_name": "Python 3 (ipykernel)",
   "language": "python",
   "name": "python3"
  },
  "language_info": {
   "codemirror_mode": {
    "name": "ipython",
    "version": 3
   },
   "file_extension": ".py",
   "mimetype": "text/x-python",
   "name": "python",
   "nbconvert_exporter": "python",
   "pygments_lexer": "ipython3",
   "version": "3.11.6"
  }
 },
 "nbformat": 4,
 "nbformat_minor": 5
}
